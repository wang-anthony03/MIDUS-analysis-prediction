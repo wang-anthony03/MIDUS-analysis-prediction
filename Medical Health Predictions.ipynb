{
 "cells": [
  {
   "cell_type": "code",
   "execution_count": 1,
   "metadata": {},
   "outputs": [],
   "source": [
    "import pandas as pd\n",
    "import numpy as np\n",
    "import plotly.express as px\n",
    "from scipy.stats import pearsonr\n",
    "from sklearn.model_selection import train_test_split\n",
    "from sklearn.linear_model import ElasticNet\n",
    "from sklearn.linear_model import LogisticRegression\n",
    "from sklearn.metrics import confusion_matrix"
   ]
  },
  {
   "cell_type": "code",
   "execution_count": 2,
   "metadata": {},
   "outputs": [],
   "source": [
    "df1_1 = pd.read_stata(\"ICPSR_02760/DS0001/02760-0001-Data.dta\")\n",
    "df2_1 = pd.read_stata(\"ICPSR_04652/DS0001/04652-0001-Data.dta\")\n",
    "df3_1 = pd.read_stata(\"ICPSR_36346/DS0001/36346-0001-Data.dta\")\n"
   ]
  },
  {
   "cell_type": "code",
   "execution_count": 3,
   "metadata": {},
   "outputs": [],
   "source": [
    "renamecolumns = {\"A1SA37C\": \"Times Visited Counselor s1\",\"A1PA5\": \"Mental Health Self-eval s1\",\"A1PA80\": \"Worry Level s1\",\"A1PA81\": \"Frequency of worrying s1\",\"A1PA87\": \"Have Spell/Attack s1\",\"A1SA9T\": \"Anxiety/Depression s1\",\"A1SA13A\": \"Felt so sad nothing could cheer s1\",\"A1SA13B\": \"Felt nervous s1\",\"A1SA13C\": \"Felt restless s1\",\"A1SA13D\": \"Felt hopeless s1\",\"A1SA13E\": \"Felt everything was effort s1\",\"A1SA13F\": \"Felt worthless s1\",\"A1SA15A\": \"Felt cheerful s1\",\"A1SA15B\": \"Felt good spirits s1\",\"A1SA15C\": \"Felt extremely happy s1\",\"A1SA15D\": \"Felt calm and peaceful s1\",\"A1SA15E\": \"Felt satisfied s3 s1\",\"A1SA15F\": \"Felt full of life s1\",\n",
    "                 \"B1SA54C\": \"Times Visited Counselor s2\",\"B1PA2\": \"Mental Health Self-eval s2\",\"B1PA83\": \"Worry Level s2\",\"B1PA84\": \"Frequency of worrying s2\",\"B1PA90\": \"Have Spell/Attack s2\",\"B1SA11T\": \"Anxiety/Depression s2\",\"B1SA24A\": \"Felt so sad nothing could cheer s2\",\"B1SA24B\": \"Felt nervous s2\",\"B1SA24C\": \"Felt restless s2\",\"B1SA24D\": \"Felt hopeless s2\",\"B1SA24E\": \"Felt everything was effort s2\",\"B1SA24F\": \"Felt worthless s2\",\"B1SA26A\": \"Felt cheerful s2\",\"B1SA26B\": \"Felt good spirits s2\",\"B1SA26C\": \"Felt extremely happy s2\",\"B1SA26D\": \"Felt calm and peaceful s2\",\"B1SA26E\": \"Felt satisfied s3 s2\",\"B1SA26F\": \"Felt full of life s2\",\n",
    "                 \"C1SA50C\": \"Times Visited Counselor s3\",\"C1PA2\": \"Mental Health Self-eval s3\",\"C1PA83\": \"Worry Level s3\",\"C1PA84\": \"Frequency of worrying s3\",\"C1PA90\": \"Have Spell/Attack s3\",\"C1SA11T\": \"Anxiety/Depression s3\",\"C1SA20A\": \"Felt so sad nothing could cheer s3\",\"C1SA20B\": \"Felt nervous s3\",\"C1SA20C\": \"Felt restless s3\",\"C1SA20D\": \"Felt hopeless s3\",\"C1SA20E\": \"Felt everything was effort s3\",\"C1SA20F\": \"Felt worthless s3\",\"C1SA22A\": \"Felt cheerful s3\",\"C1SA22B\": \"Felt good spirits s3\",\"C1SA22C\": \"Felt extremely happy s3\",\"C1SA22D\": \"Felt calm and peaceful s3\",\"C1SA22E\": \"Felt satisfied s3\",\"C1SA22F\" : \"Felt full of life s3\",\n",
    "                 \"A1PAGE_M2\": \"Age s1\",\"A1PA4\": \"Physical health self-evaluated s1\",\"A1PA36\": \"Cancer s1\",\"A1PA37\": \"Cancer risk compared to others s1\",\"A1PA29\": \"NUM TIMES SEVERE PAIN FRONT OF CHEST s1\",\"A1SA9A\": \"Asthma/bronchitis/emphysema s1\",\"A1SA9B\": \"Tuberculosis s1\",\"A1SA9C\": \"Other lung problems s1\",\"A1SA9D\": \"Joint/bone diseases s1\",\"A1SA9E\": \"Sciatica/lumbago/backache s1\",\"A1SA9F\": \"Skin trouble persistent s1\",\"A1SA9G\": \"Thyroid disease s1\",\"A1SA9H\": \"Hay fever s1\",\"A1SA9I\": \"Stomach trouble s1\",\"A1SA9J\": \"Urinary/bladder problem s1\",\"A1SA9K\": \"Constipated all/most s1\",\"A1SA9L\": \"Gall bladder trouble s1\",\"A1SA9M\": \"Foot trouble persistent s1\",\"A1SA9N\": \"Varicose veins s1\",\"A1SA9O\": \"AIDS/HIV s1\",\"A1SA9P\": \"Lupus/autoimmune disorder s1\",\"A1SA9Q\": \"Gum/mouth trouble persistent s1\",\"A1SA9R\": \"Teeth trouble persistent s1\",\"A1SA9S\": \"High blood pressure/hypertension s1\",\"A1SA9U\": \"Alcohol/drug problem s1\",\"A1SA9V\": \"Migraine headaches s1\",\"A1SA9W\": \"Chronic sleep problems s1\",\"A1SA9X\": \"Diabetes/high blood sugar s1\",\"A1SA9Y\": \"Neurological disorder s1\",\"A1SA9Z\": \"Stroke s1\",\"A1SA9AA\": \"Ulcer s1\",\"A1SA9BB\": \"Hernia s1\",\"A1SA9CC\":\"Piles/hemorrhoids s1\",\n",
    "                 \"B1PAGE_M2\": \"Age s2\",\"B1PA1\": \"Physical health self-evaluated s2\",\"B1PA26\": \"Cancer s2\",\"B1PA27\": \"Cancer risk compared to others s2\",\"B1PA23\": \"NUM TIMES SEVERE PAIN FRONT OF CHEST s2\",\"B1SA11A\": \"Asthma/bronchitis/emphysema s2\",\"B1SA11B\": \"Tuberculosis s2\",\"B1SA11C\": \"Other lung problems s2\",\"B1SA11D\": \"Joint/bone diseases s2\",\"B1SA11E\": \"Sciatica/lumbago/backache s2\",\"B1SA11F\": \"Skin trouble persistent s2\",\"B1SA11G\": \"Thyroid disease s2\",\"B1SA11H\": \"Hay fever s2\",\"B1SA11I\": \"Stomach trouble s2\",\"B1SA11J\": \"Urinary/bladder problem s2\",\"B1SA11K\": \"Constipated all/most s2\",\"B1SA11L\": \"Gall bladder trouble s2\",\"B1SA11M\": \"Foot trouble persistent s2\",\"B1SA11N\": \"Varicose veins s2\",\"B1SA11O\": \"AIDS/HIV s2\",\"B1SA11P\": \"Lupus/autoimmune disorder s2\",\"B1SA11Q\": \"Gum/mouth trouble persistent s2\",\"B1SA11R\": \"Teeth trouble persistent s2\",\"B1SA11S\": \"High blood pressure/hypertension s2\",\"B1SA11U\": \"Alcohol/drug problem s2\",\"B1SA11V\": \"Migraine headaches s2\",\"B1SA11W\": \"Chronic sleep problems s2\",\"B1SA11X\": \"Diabetes/high blood sugars2\",\"B1SA11Y\": \"Neurological disorder s2\",\"B1SA11Z\": \"Stroke s2\",\"B1SA11AA\": \"Ulcer s2\",\"B1SA11BB\": \"Hernia s2\",\"B1SA11CC\":\"Piles/hemorrhoids s2\",\n",
    "                 \"C1PRAGE\": \"Age s3\",\"C1PA1\": \"Physical health self-evaluated s3\",\"C1PA26\": \"Cancer s3\",\"C1PA27\": \"Cancer risk compared to others s3\",\"C1PA23\": \"NUM TIMES SEVERE PAIN FRONT OF CHEST s3\",\"C1SA11A\": \"Asthma/bronchitis/emphysema s3\",\"C1SA11B\": \"Tuberculosis s3\",\"C1SA11C\": \"Other lung problems s3\",\"C1SA11D\": \"Joint/bone diseases s3\",\"C1SA11E\": \"Sciatica/lumbago/backache s3\",\"C1SA11F\": \"Skin trouble persistent s3\",\"C1SA11G\": \"Thyroid disease s3\",\"C1SA11H\": \"Hay fever s3\",\"C1SA11I\": \"Stomach trouble s3\",\"C1SA11J\": \"Urinary/bladder problem s3\",\"C1SA11K\": \"Constipated all/most s3\",\"C1SA11L\": \"Gall bladder trouble s3\",\"C1SA11M\": \"Foot trouble persistent s3\",\"C1SA11N\": \"Varicose veins s3\",\"C1SA11O\": \"AIDS/HIV s3\",\"C1SA11P\": \"Lupus/autoimmune disorder s3\",\"C1SA11Q\": \"Gum/mouth trouble persistent s3\",\"C1SA11R\": \"Teeth trouble persistent s3\",\"C1SA11S\": \"High blood pressure/hypertension s3\",\"C1SA11U\": \"Alcohol/drug problem s3\",\"C1SA11V\": \"Migraine headaches s3\",\"C1SA11W\": \"Chronic sleep problems s3\",\"C1SA11X\": \"Diabetes/high blood sugar s3\",\"C1SA11Y\": \"Neurological disorder s3\",\"C1SA11Z\": \"Stroke s3\",\"C1SA11AA\": \"Ulcer s3\",\"C1SA11BB\": \"Hernia s3\",\"C1SA11CC\":\"Piles/hemorrhoids s3\"}"
   ]
  },
  {
   "cell_type": "code",
   "execution_count": 4,
   "metadata": {},
   "outputs": [],
   "source": [
    "df1_1.loc[df1_1[\"A1SA37C\"] >= 1,\"A1SA37C\"] = 1\n",
    "df2_1.loc[df2_1[\"B1SA54C\"] >= 1,\"B1SA54C\"] = 1\n",
    "df3_1.loc[df3_1[\"C1SA50C\"] >= 1,\"C1SA50C\"] = 1\n",
    "df1_1[\"A1PAGE_M2\"] = pd.cut(df1_1[\"A1PAGE_M2\"].replace({\"Respondent does not have SAQ data\":np.nan,\"Refused\":np.nan}), [20,30,40,50,60,70,80,], labels = [1,2,3,4,5,6])\n",
    "df2_1[\"B1PAGE_M2\"] = pd.cut(df2_1[\"B1PAGE_M2\"].replace({\"RESPONDENT DOES NOT HAVE SAQ DATA\":np.nan,\"REFUSED\":np.nan}), [20,30,40,50,60,70,80,], labels = [1,2,3,4,5,6])\n",
    "df3_1[\"C1PRAGE\"] = pd.cut(df3_1[\"C1PRAGE\"], [20,30,40,50,60,70,90], labels = [1,2,3,4,5,6])"
   ]
  },
  {
   "cell_type": "code",
   "execution_count": 5,
   "metadata": {},
   "outputs": [
    {
     "data": {
      "text/plain": [
       "{nan, 2, 3, 4, 5, 6}"
      ]
     },
     "execution_count": 5,
     "metadata": {},
     "output_type": "execute_result"
    }
   ],
   "source": [
    "set(df3_1[\"C1PRAGE\"].values)"
   ]
  },
  {
   "cell_type": "code",
   "execution_count": 6,
   "metadata": {},
   "outputs": [],
   "source": [
    "MentalHealth1 = df1_1[[\"A1SA37C\",\"A1PA5\",\"A1PA80\",\"A1PA81\",\"A1PA87\",\"A1SA9T\",\"M2ID\",\"A1SA13A\",\"A1SA13B\",\"A1SA13C\",\"A1SA13D\",\"A1SA13E\",\"A1SA13F\",\"A1SA15A\",\"A1SA15B\",\"A1SA15C\",\"A1SA15D\",\"A1SA15E\",\"A1SA15F\",]].replace({\"Excellent\":1,\"Very good\":2,\"Good\":3,\"Fair\":4,\"Poor\":4,\"None\":np.nan,\"Suspects\":1,\"Inapp\":np.nan,\"Refused\":np.nan,\"Don't know\":np.nan,\"Respondent does not have SAQ data\":np.nan,\"A lot\":1,\"Some\":2,\"A little\":3,\"Not at all\":4,\"More\":1,\"Less\":2,\"About the same\":3,\" Don't worry at all (volunteered)\":4,\"Yes\":1,\"No\":0,\"Every day\":1,\"Just about every day\":2,\"Most days\":3,\"About half the days\":4,\"Less than half the days\":5,\"All the time\":5,\"Most of the time\":4,\"Some of the time\":3,\"A little of the time\":2,\"None of the time\":1})\n",
    "MentalHealth2 = df2_1[[\"B1SA54C\",\"B1PA2\",\"B1PA83\",\"B1PA84\",\"B1PA90\",\"B1SA11T\",\"M2ID\",\"B1SA24A\",\"B1SA24B\",\"B1SA24C\",\"B1SA24D\",\"B1SA24E\",\"B1SA24F\",\"B1SA26A\",\"B1SA26B\",\"B1SA26C\",\"B1SA26D\",\"B1SA26E\",\"B1SA26F\",]].replace({\"EXCELLENT\":1,\"VERY GOOD\":2,\"GOOD\":3,\"FAIR\":4,\"POOR\":4,\"NONE\":np.nan,\"SUSPECTS\":1,\"INAPP\":np.nan,\"REFUSED\":np.nan,\"DON'T KNOW\":np.nan,\"RESPONDENT DOES NOT HAVE SAQ DATA\":np.nan,\"A LOT\":1,\"SOME\":2,\"A LITTLE\":3,\"NOT AT ALL\":4,\"MORE\":1,\"LESS\":2,\"ABOUT THE SAME\":3,\" DON'T WORRY AT ALL (VOLUNTEERED)\":4,\"YES\":1,\"NO\":0,\"EVERY DAY\":1,\"JUST ABOUT EVERY DAY\":2,\"MOST DAYS\":3,\"ABOUT HALF THE DAYS\":4,\"LESS THAN HALF THE DAYS\":5,\"ALL THE TIME\":5,\"MOST OF THE TIME\":4,\"SOME OF THE TIME\":3,\"A LITTLE OF THE TIME\":2,\"NONE OF THE TIME\":1})\n",
    "MentalHealth3 = df3_1[[\"C1SA50C\",\"C1PA2\",\"C1PA83\",\"C1PA84\",\"C1PA90\",\"C1SA11T\",\"M2ID\",\"C1SA20A\",\"C1SA20B\",\"C1SA20C\",\"C1SA20D\",\"C1SA20E\",\"C1SA20F\",\"C1SA22A\",\"C1SA22B\",\"C1SA22C\",\"C1SA22D\",\"C1SA22E\",\"C1SA22F\",]].replace({\"EXCELLENT\":1,\"VERY GOOD\":2,\"GOOD\":3,\"FAIR\":4,\"POOR\":4,\"NONE\":np.nan,\"SUSPECTS\":1,\"INAPP\":np.nan,\"REFUSED\":np.nan,\"DON'T KNOW\":np.nan,\"RESPONDENT DOES NOT HAVE SAQ DATA\":np.nan,\"A LOT\":1,\"SOME\":2,\"A LITTLE\":3,\"NOT AT ALL\":4,\"MORE\":1,\"LESS\":2,\"ABOUT THE SAME\":3,\" DON'T WORRY AT ALL (VOLUNTEERED)\":4,\"YES\":1,\"NO\":0,\"EVERY DAY\":1,\"JUST ABOUT EVERY DAY\":2,\"MOST DAYS\":3,\"ABOUT HALF THE DAYS\":4,\"LESS THAN HALF THE DAYS\":5,\"ALL THE TIME\":5,\"MOST OF THE TIME\":4,\"SOME OF THE TIME\":3,\"A LITTLE OF THE TIME\":2,\"NONE OF THE TIME\":1})\n",
    "PhysHealth1 = df1_1[[\"A1PAGE_M2\",\"A1PA4\",\"A1PA36\",\"A1PA37\",\"M2ID\",\"A1PA29\",\"A1SA9A\",\"A1SA9B\",\"A1SA9C\",\"A1SA9D\",\"A1SA9E\",\"A1SA9F\",\"A1SA9G\",\"A1SA9H\",\"A1SA9I\",\"A1SA9J\",\"A1SA9K\",\"A1SA9L\",\"A1SA9M\",\"A1SA9N\",\"A1SA9O\",\"A1SA9P\",\"A1SA9Q\",\"A1SA9R\",\"A1SA9S\",\"A1SA9U\",\"A1SA9V\",\"A1SA9W\",\"A1SA9X\",\"A1SA9Y\",\"A1SA9Z\",\"A1SA9AA\",\"A1SA9BB\",\"A1SA9CC\"]].replace({\"Excellent\":1,\"Very good\":2,\"Good\":3,\"Fair\":4,\"Poor\":4,\"None\":np.nan,\"Suspects\":1,\"Inapp\":np.nan,\"Refused\":np.nan,\"Don't know\":np.nan,\"Respondent does not have SAQ data\":np.nan,\"A lot\":1,\"Some\":2,\"A little\":3,\"Not at all\":4,\"More\":1,\"Less\":2,\"About the same\":3,\" Don't worry at all (volunteered)\":4,\"Yes\":1,\"No\":0,\"Higher\":1,\"Lower\":2})\n",
    "PhysHealth2 = df2_1[[\"B1PAGE_M2\",\"B1PA1\",\"B1PA26\",\"B1PA27\",\"M2ID\",\"B1PA23\",\"B1SA11A\",\"B1SA11B\",\"B1SA11C\",\"B1SA11D\",\"B1SA11E\",\"B1SA11F\",\"B1SA11G\",\"B1SA11H\",\"B1SA11I\",\"B1SA11J\",\"B1SA11K\",\"B1SA11L\",\"B1SA11M\",\"B1SA11N\",\"B1SA11O\",\"B1SA11P\",\"B1SA11Q\",\"B1SA11R\",\"B1SA11S\",\"B1SA11U\",\"B1SA11V\",\"B1SA11W\",\"B1SA11X\",\"B1SA11Y\",\"B1SA11Z\",\"B1SA11AA\",\"B1SA11BB\",\"B1SA11CC\"]].replace({\"EXCELLENT\":1,\"VERY GOOD\":2,\"GOOD\":3,\"FAIR\":4,\"POOR\":4,\"NONE\":np.nan,\"SUSPECTS\":1,\"INAPP\":np.nan,\"REFUSED\":np.nan,\"DON'T KNOW\":np.nan,\"RESPONDENT DOES NOT HAVE SAQ DATA\":np.nan,\"A LOT\":1,\"SOME\":2,\"A LITTLE\":3,\"NOT AT ALL\":4,\"MORE\":1,\"LESS\":2,\"ABOUT THE SAME\":3,\" DON'T WORRY AT ALL (VOLUNTEERED)\":4,\"YES\":1,\"NO\":0,\"HIGHER\":1,\"LOWER\":2})\n",
    "PhysHealth3 = df3_1[[\"C1PRAGE\",\"C1PA1\",\"C1PA26\",\"C1PA27\",\"M2ID\",\"C1PA23\",\"C1SA11A\",\"C1SA11B\",\"C1SA11C\",\"C1SA11D\",\"C1SA11E\",\"C1SA11F\",\"C1SA11G\",\"C1SA11H\",\"C1SA11I\",\"C1SA11J\",\"C1SA11K\",\"C1SA11L\",\"C1SA11M\",\"C1SA11N\",\"C1SA11O\",\"C1SA11P\",\"C1SA11Q\",\"C1SA11R\",\"C1SA11S\",\"C1SA11U\",\"C1SA11V\",\"C1SA11W\",\"C1SA11X\",\"C1SA11Y\",\"C1SA11Z\",\"C1SA11AA\",\"C1SA11BB\",\"C1SA11CC\"]].replace({\"EXCELLENT\":1,\"VERY GOOD\":2,\"GOOD\":3,\"FAIR\":4,\"POOR\":4,\"NONE\":np.nan,\"SUSPECTS\":1,\"INAPP\":np.nan,\"REFUSED\":np.nan,\"DON'T KNOW\":np.nan,\"RESPONDENT DOES NOT HAVE SAQ DATA\":np.nan,\"A LOT\":1,\"SOME\":2,\"A LITTLE\":3,\"NOT AT ALL\":4,\"MORE\":1,\"LESS\":2,\"ABOUT THE SAME\":3,\" DON'T WORRY AT ALL (VOLUNTEERED)\":4,\"YES\":1,\"NO\":0,\"HIGHER\":1,\"LOWER\":2})"
   ]
  },
  {
   "cell_type": "code",
   "execution_count": 7,
   "metadata": {},
   "outputs": [],
   "source": [
    "MentalHealth1[\"Sadness s1\"] = MentalHealth1[\"A1SA13A\"] + MentalHealth1[\"A1SA13B\"] + MentalHealth1[\"A1SA13C\"] + MentalHealth1[\"A1SA13D\"] + MentalHealth1[\"A1SA13E\"] + MentalHealth1[\"A1SA13F\"]\n",
    "MentalHealth2[\"Sadness s2\"] = MentalHealth2[\"B1SA24A\"] + MentalHealth2[\"B1SA24B\"] + MentalHealth2[\"B1SA24C\"] + MentalHealth2[\"B1SA24D\"] + MentalHealth2[\"B1SA24E\"] + MentalHealth2[\"B1SA24F\"]\n",
    "MentalHealth3[\"Sadness s3\"] = MentalHealth3[\"C1SA20A\"] + MentalHealth3[\"C1SA20B\"] + MentalHealth3[\"C1SA20C\"] + MentalHealth3[\"C1SA20D\"] + MentalHealth3[\"C1SA20E\"] + MentalHealth3[\"C1SA20F\"]\n",
    "MentalHealth1[\"Happyness s1\"] = MentalHealth1[\"A1SA15A\"] + MentalHealth1[\"A1SA15B\"] + MentalHealth1[\"A1SA15C\"] + MentalHealth1[\"A1SA15D\"] + MentalHealth1[\"A1SA15E\"] + MentalHealth1[\"A1SA15F\"]\n",
    "MentalHealth2[\"Happyness s2\"] = MentalHealth2[\"B1SA26A\"] + MentalHealth2[\"B1SA26B\"] + MentalHealth2[\"B1SA26C\"] + MentalHealth2[\"B1SA26D\"] + MentalHealth2[\"B1SA26E\"] + MentalHealth2[\"B1SA26F\"]\n",
    "MentalHealth3[\"Happyness s3\"] = MentalHealth3[\"C1SA22A\"] + MentalHealth3[\"C1SA22B\"] + MentalHealth3[\"C1SA22C\"] + MentalHealth3[\"C1SA22D\"] + MentalHealth3[\"C1SA22E\"] + MentalHealth3[\"C1SA22F\"]"
   ]
  },
  {
   "cell_type": "code",
   "execution_count": 8,
   "metadata": {},
   "outputs": [
    {
     "data": {
      "text/html": [
       "<div>\n",
       "<style scoped>\n",
       "    .dataframe tbody tr th:only-of-type {\n",
       "        vertical-align: middle;\n",
       "    }\n",
       "\n",
       "    .dataframe tbody tr th {\n",
       "        vertical-align: top;\n",
       "    }\n",
       "\n",
       "    .dataframe thead th {\n",
       "        text-align: right;\n",
       "    }\n",
       "</style>\n",
       "<table border=\"1\" class=\"dataframe\">\n",
       "  <thead>\n",
       "    <tr style=\"text-align: right;\">\n",
       "      <th></th>\n",
       "      <th>A1SA13A</th>\n",
       "      <th>A1SA13B</th>\n",
       "      <th>A1SA13C</th>\n",
       "      <th>A1SA13D</th>\n",
       "      <th>A1SA13E</th>\n",
       "      <th>A1SA13F</th>\n",
       "    </tr>\n",
       "  </thead>\n",
       "  <tbody>\n",
       "    <tr>\n",
       "      <th>count</th>\n",
       "      <td>6286.000000</td>\n",
       "      <td>6288.000000</td>\n",
       "      <td>6275.000000</td>\n",
       "      <td>6273.000000</td>\n",
       "      <td>6277.000000</td>\n",
       "      <td>6289.000000</td>\n",
       "    </tr>\n",
       "    <tr>\n",
       "      <th>mean</th>\n",
       "      <td>1.416640</td>\n",
       "      <td>1.815363</td>\n",
       "      <td>1.773705</td>\n",
       "      <td>1.298103</td>\n",
       "      <td>1.629441</td>\n",
       "      <td>1.299889</td>\n",
       "    </tr>\n",
       "    <tr>\n",
       "      <th>std</th>\n",
       "      <td>0.733104</td>\n",
       "      <td>0.872192</td>\n",
       "      <td>0.881997</td>\n",
       "      <td>0.687274</td>\n",
       "      <td>0.894185</td>\n",
       "      <td>0.695589</td>\n",
       "    </tr>\n",
       "    <tr>\n",
       "      <th>min</th>\n",
       "      <td>1.000000</td>\n",
       "      <td>1.000000</td>\n",
       "      <td>1.000000</td>\n",
       "      <td>1.000000</td>\n",
       "      <td>1.000000</td>\n",
       "      <td>1.000000</td>\n",
       "    </tr>\n",
       "    <tr>\n",
       "      <th>25%</th>\n",
       "      <td>1.000000</td>\n",
       "      <td>1.000000</td>\n",
       "      <td>1.000000</td>\n",
       "      <td>1.000000</td>\n",
       "      <td>1.000000</td>\n",
       "      <td>1.000000</td>\n",
       "    </tr>\n",
       "    <tr>\n",
       "      <th>50%</th>\n",
       "      <td>1.000000</td>\n",
       "      <td>2.000000</td>\n",
       "      <td>2.000000</td>\n",
       "      <td>1.000000</td>\n",
       "      <td>1.000000</td>\n",
       "      <td>1.000000</td>\n",
       "    </tr>\n",
       "    <tr>\n",
       "      <th>75%</th>\n",
       "      <td>2.000000</td>\n",
       "      <td>2.000000</td>\n",
       "      <td>2.000000</td>\n",
       "      <td>1.000000</td>\n",
       "      <td>2.000000</td>\n",
       "      <td>1.000000</td>\n",
       "    </tr>\n",
       "    <tr>\n",
       "      <th>max</th>\n",
       "      <td>5.000000</td>\n",
       "      <td>5.000000</td>\n",
       "      <td>5.000000</td>\n",
       "      <td>5.000000</td>\n",
       "      <td>5.000000</td>\n",
       "      <td>5.000000</td>\n",
       "    </tr>\n",
       "  </tbody>\n",
       "</table>\n",
       "</div>"
      ],
      "text/plain": [
       "           A1SA13A      A1SA13B      A1SA13C      A1SA13D      A1SA13E  \\\n",
       "count  6286.000000  6288.000000  6275.000000  6273.000000  6277.000000   \n",
       "mean      1.416640     1.815363     1.773705     1.298103     1.629441   \n",
       "std       0.733104     0.872192     0.881997     0.687274     0.894185   \n",
       "min       1.000000     1.000000     1.000000     1.000000     1.000000   \n",
       "25%       1.000000     1.000000     1.000000     1.000000     1.000000   \n",
       "50%       1.000000     2.000000     2.000000     1.000000     1.000000   \n",
       "75%       2.000000     2.000000     2.000000     1.000000     2.000000   \n",
       "max       5.000000     5.000000     5.000000     5.000000     5.000000   \n",
       "\n",
       "           A1SA13F  \n",
       "count  6289.000000  \n",
       "mean      1.299889  \n",
       "std       0.695589  \n",
       "min       1.000000  \n",
       "25%       1.000000  \n",
       "50%       1.000000  \n",
       "75%       1.000000  \n",
       "max       5.000000  "
      ]
     },
     "execution_count": 8,
     "metadata": {},
     "output_type": "execute_result"
    }
   ],
   "source": [
    "MentalHealth1[[\"A1SA13A\",\"A1SA13B\",\"A1SA13C\",\"A1SA13D\",\"A1SA13E\",\"A1SA13F\"]].describe()"
   ]
  },
  {
   "cell_type": "code",
   "execution_count": 9,
   "metadata": {},
   "outputs": [],
   "source": [
    "PhysHealth1[\"Lung Problems s1\"] = PhysHealth1[\"A1SA9B\"] + PhysHealth1[\"A1SA9C\"] + PhysHealth1[\"A1SA9A\"]\n",
    "PhysHealth2[\"Lung Problems s2\"] = PhysHealth2[\"B1SA11B\"] + PhysHealth2[\"B1SA11C\"] + PhysHealth2[\"B1SA11A\"]\n",
    "PhysHealth3[\"Lung Problems s3\"] = PhysHealth3[\"C1SA11B\"] + PhysHealth3[\"C1SA11C\"] + PhysHealth3[\"C1SA11A\"]\n",
    "PhysHealth1[\"Digestive Problems s1\"] = PhysHealth1[\"A1SA9I\"] + PhysHealth1[\"A1SA9J\"] + PhysHealth1[\"A1SA9K\"]\n",
    "PhysHealth2[\"Digestive Problems s2\"] = PhysHealth2[\"B1SA11I\"] + PhysHealth2[\"B1SA11J\"] + PhysHealth2[\"B1SA11K\"]\n",
    "PhysHealth3[\"Digestive Problems s3\"] = PhysHealth3[\"C1SA11I\"] + PhysHealth3[\"C1SA11J\"] + PhysHealth3[\"C1SA11K\"]\n",
    "PhysHealth1[\"Mouth Problems s1\"] = PhysHealth1[\"A1SA9Q\"] + PhysHealth1[\"A1SA9R\"]\n",
    "PhysHealth2[\"Mouth Problems s2\"] = PhysHealth2[\"B1SA11Q\"] + PhysHealth2[\"B1SA11R\"]\n",
    "PhysHealth3[\"Mouth Problems s3\"] =PhysHealth3[\"C1SA11Q\"] + PhysHealth3[\"C1SA11R\"]"
   ]
  },
  {
   "cell_type": "code",
   "execution_count": 10,
   "metadata": {},
   "outputs": [
    {
     "data": {
      "text/html": [
       "<div>\n",
       "<style scoped>\n",
       "    .dataframe tbody tr th:only-of-type {\n",
       "        vertical-align: middle;\n",
       "    }\n",
       "\n",
       "    .dataframe tbody tr th {\n",
       "        vertical-align: top;\n",
       "    }\n",
       "\n",
       "    .dataframe thead th {\n",
       "        text-align: right;\n",
       "    }\n",
       "</style>\n",
       "<table border=\"1\" class=\"dataframe\">\n",
       "  <thead>\n",
       "    <tr style=\"text-align: right;\">\n",
       "      <th></th>\n",
       "      <th>A1SA37C</th>\n",
       "      <th>A1PA5</th>\n",
       "      <th>A1PA80</th>\n",
       "      <th>A1PA81</th>\n",
       "      <th>A1PA87</th>\n",
       "      <th>A1SA9T</th>\n",
       "      <th>M2ID</th>\n",
       "      <th>A1SA13A</th>\n",
       "      <th>A1SA13B</th>\n",
       "      <th>A1SA13C</th>\n",
       "      <th>...</th>\n",
       "      <th>A1SA13E</th>\n",
       "      <th>A1SA13F</th>\n",
       "      <th>A1SA15A</th>\n",
       "      <th>A1SA15B</th>\n",
       "      <th>A1SA15C</th>\n",
       "      <th>A1SA15D</th>\n",
       "      <th>A1SA15E</th>\n",
       "      <th>A1SA15F</th>\n",
       "      <th>Sadness s1</th>\n",
       "      <th>Happyness s1</th>\n",
       "    </tr>\n",
       "  </thead>\n",
       "  <tbody>\n",
       "    <tr>\n",
       "      <th>0</th>\n",
       "      <td>1.0</td>\n",
       "      <td>2.0</td>\n",
       "      <td>2</td>\n",
       "      <td>2.0</td>\n",
       "      <td>0.0</td>\n",
       "      <td>0.0</td>\n",
       "      <td>10001</td>\n",
       "      <td>1.0</td>\n",
       "      <td>2.0</td>\n",
       "      <td>1.0</td>\n",
       "      <td>...</td>\n",
       "      <td>1.0</td>\n",
       "      <td>1.0</td>\n",
       "      <td>4.0</td>\n",
       "      <td>4.0</td>\n",
       "      <td>4.0</td>\n",
       "      <td>4.0</td>\n",
       "      <td>4.0</td>\n",
       "      <td>4.0</td>\n",
       "      <td>7.0</td>\n",
       "      <td>24.0</td>\n",
       "    </tr>\n",
       "    <tr>\n",
       "      <th>1</th>\n",
       "      <td>NaN</td>\n",
       "      <td>1.0</td>\n",
       "      <td>3</td>\n",
       "      <td>5.0</td>\n",
       "      <td>0.0</td>\n",
       "      <td>NaN</td>\n",
       "      <td>10002</td>\n",
       "      <td>NaN</td>\n",
       "      <td>NaN</td>\n",
       "      <td>NaN</td>\n",
       "      <td>...</td>\n",
       "      <td>NaN</td>\n",
       "      <td>NaN</td>\n",
       "      <td>NaN</td>\n",
       "      <td>NaN</td>\n",
       "      <td>NaN</td>\n",
       "      <td>NaN</td>\n",
       "      <td>NaN</td>\n",
       "      <td>NaN</td>\n",
       "      <td>NaN</td>\n",
       "      <td>NaN</td>\n",
       "    </tr>\n",
       "    <tr>\n",
       "      <th>2</th>\n",
       "      <td>0.0</td>\n",
       "      <td>1.0</td>\n",
       "      <td>2</td>\n",
       "      <td>5.0</td>\n",
       "      <td>0.0</td>\n",
       "      <td>0.0</td>\n",
       "      <td>10004</td>\n",
       "      <td>1.0</td>\n",
       "      <td>2.0</td>\n",
       "      <td>1.0</td>\n",
       "      <td>...</td>\n",
       "      <td>1.0</td>\n",
       "      <td>1.0</td>\n",
       "      <td>4.0</td>\n",
       "      <td>4.0</td>\n",
       "      <td>4.0</td>\n",
       "      <td>4.0</td>\n",
       "      <td>4.0</td>\n",
       "      <td>4.0</td>\n",
       "      <td>7.0</td>\n",
       "      <td>24.0</td>\n",
       "    </tr>\n",
       "    <tr>\n",
       "      <th>3</th>\n",
       "      <td>0.0</td>\n",
       "      <td>3.0</td>\n",
       "      <td>2</td>\n",
       "      <td>5.0</td>\n",
       "      <td>0.0</td>\n",
       "      <td>0.0</td>\n",
       "      <td>10005</td>\n",
       "      <td>1.0</td>\n",
       "      <td>1.0</td>\n",
       "      <td>1.0</td>\n",
       "      <td>...</td>\n",
       "      <td>1.0</td>\n",
       "      <td>1.0</td>\n",
       "      <td>5.0</td>\n",
       "      <td>5.0</td>\n",
       "      <td>5.0</td>\n",
       "      <td>4.0</td>\n",
       "      <td>5.0</td>\n",
       "      <td>5.0</td>\n",
       "      <td>6.0</td>\n",
       "      <td>29.0</td>\n",
       "    </tr>\n",
       "    <tr>\n",
       "      <th>4</th>\n",
       "      <td>0.0</td>\n",
       "      <td>3.0</td>\n",
       "      <td>1</td>\n",
       "      <td>1.0</td>\n",
       "      <td>1.0</td>\n",
       "      <td>1.0</td>\n",
       "      <td>10006</td>\n",
       "      <td>3.0</td>\n",
       "      <td>4.0</td>\n",
       "      <td>3.0</td>\n",
       "      <td>...</td>\n",
       "      <td>2.0</td>\n",
       "      <td>2.0</td>\n",
       "      <td>3.0</td>\n",
       "      <td>2.0</td>\n",
       "      <td>1.0</td>\n",
       "      <td>1.0</td>\n",
       "      <td>2.0</td>\n",
       "      <td>1.0</td>\n",
       "      <td>16.0</td>\n",
       "      <td>10.0</td>\n",
       "    </tr>\n",
       "  </tbody>\n",
       "</table>\n",
       "<p>5 rows × 21 columns</p>\n",
       "</div>"
      ],
      "text/plain": [
       "   A1SA37C  A1PA5 A1PA80  A1PA81  A1PA87  A1SA9T   M2ID  A1SA13A  A1SA13B  \\\n",
       "0      1.0    2.0      2     2.0     0.0     0.0  10001      1.0      2.0   \n",
       "1      NaN    1.0      3     5.0     0.0     NaN  10002      NaN      NaN   \n",
       "2      0.0    1.0      2     5.0     0.0     0.0  10004      1.0      2.0   \n",
       "3      0.0    3.0      2     5.0     0.0     0.0  10005      1.0      1.0   \n",
       "4      0.0    3.0      1     1.0     1.0     1.0  10006      3.0      4.0   \n",
       "\n",
       "   A1SA13C  ...  A1SA13E  A1SA13F  A1SA15A  A1SA15B  A1SA15C  A1SA15D  \\\n",
       "0      1.0  ...      1.0      1.0      4.0      4.0      4.0      4.0   \n",
       "1      NaN  ...      NaN      NaN      NaN      NaN      NaN      NaN   \n",
       "2      1.0  ...      1.0      1.0      4.0      4.0      4.0      4.0   \n",
       "3      1.0  ...      1.0      1.0      5.0      5.0      5.0      4.0   \n",
       "4      3.0  ...      2.0      2.0      3.0      2.0      1.0      1.0   \n",
       "\n",
       "   A1SA15E  A1SA15F  Sadness s1  Happyness s1  \n",
       "0      4.0      4.0         7.0          24.0  \n",
       "1      NaN      NaN         NaN           NaN  \n",
       "2      4.0      4.0         7.0          24.0  \n",
       "3      5.0      5.0         6.0          29.0  \n",
       "4      2.0      1.0        16.0          10.0  \n",
       "\n",
       "[5 rows x 21 columns]"
      ]
     },
     "execution_count": 10,
     "metadata": {},
     "output_type": "execute_result"
    }
   ],
   "source": [
    "MentalHealth1.head()"
   ]
  },
  {
   "cell_type": "code",
   "execution_count": 11,
   "metadata": {},
   "outputs": [
    {
     "data": {
      "text/plain": [
       "array([ 0., nan,  1.,  2.,  3.])"
      ]
     },
     "execution_count": 11,
     "metadata": {},
     "output_type": "execute_result"
    }
   ],
   "source": [
    "PhysHealth1[\"Lung Problems s1\"].unique()"
   ]
  },
  {
   "cell_type": "code",
   "execution_count": 12,
   "metadata": {},
   "outputs": [
    {
     "name": "stderr",
     "output_type": "stream",
     "text": [
      "C:\\Users\\antho\\anaconda3\\lib\\site-packages\\ipykernel_launcher.py:9: SettingWithCopyWarning: \n",
      "A value is trying to be set on a copy of a slice from a DataFrame.\n",
      "Try using .loc[row_indexer,col_indexer] = value instead\n",
      "\n",
      "See the caveats in the documentation: https://pandas.pydata.org/pandas-docs/stable/user_guide/indexing.html#returning-a-view-versus-a-copy\n",
      "  if __name__ == '__main__':\n",
      "C:\\Users\\antho\\anaconda3\\lib\\site-packages\\ipykernel_launcher.py:10: SettingWithCopyWarning: \n",
      "A value is trying to be set on a copy of a slice from a DataFrame.\n",
      "Try using .loc[row_indexer,col_indexer] = value instead\n",
      "\n",
      "See the caveats in the documentation: https://pandas.pydata.org/pandas-docs/stable/user_guide/indexing.html#returning-a-view-versus-a-copy\n",
      "  # Remove the CWD from sys.path while we load stuff.\n",
      "C:\\Users\\antho\\anaconda3\\lib\\site-packages\\ipykernel_launcher.py:11: SettingWithCopyWarning: \n",
      "A value is trying to be set on a copy of a slice from a DataFrame.\n",
      "Try using .loc[row_indexer,col_indexer] = value instead\n",
      "\n",
      "See the caveats in the documentation: https://pandas.pydata.org/pandas-docs/stable/user_guide/indexing.html#returning-a-view-versus-a-copy\n",
      "  # This is added back by InteractiveShellApp.init_path()\n",
      "C:\\Users\\antho\\anaconda3\\lib\\site-packages\\ipykernel_launcher.py:12: SettingWithCopyWarning: \n",
      "A value is trying to be set on a copy of a slice from a DataFrame.\n",
      "Try using .loc[row_indexer,col_indexer] = value instead\n",
      "\n",
      "See the caveats in the documentation: https://pandas.pydata.org/pandas-docs/stable/user_guide/indexing.html#returning-a-view-versus-a-copy\n",
      "  if sys.path[0] == '':\n",
      "C:\\Users\\antho\\anaconda3\\lib\\site-packages\\ipykernel_launcher.py:13: SettingWithCopyWarning: \n",
      "A value is trying to be set on a copy of a slice from a DataFrame.\n",
      "Try using .loc[row_indexer,col_indexer] = value instead\n",
      "\n",
      "See the caveats in the documentation: https://pandas.pydata.org/pandas-docs/stable/user_guide/indexing.html#returning-a-view-versus-a-copy\n",
      "  del sys.path[0]\n",
      "C:\\Users\\antho\\anaconda3\\lib\\site-packages\\ipykernel_launcher.py:14: SettingWithCopyWarning: \n",
      "A value is trying to be set on a copy of a slice from a DataFrame.\n",
      "Try using .loc[row_indexer,col_indexer] = value instead\n",
      "\n",
      "See the caveats in the documentation: https://pandas.pydata.org/pandas-docs/stable/user_guide/indexing.html#returning-a-view-versus-a-copy\n",
      "  \n",
      "C:\\Users\\antho\\anaconda3\\lib\\site-packages\\ipykernel_launcher.py:15: SettingWithCopyWarning: \n",
      "A value is trying to be set on a copy of a slice from a DataFrame.\n",
      "Try using .loc[row_indexer,col_indexer] = value instead\n",
      "\n",
      "See the caveats in the documentation: https://pandas.pydata.org/pandas-docs/stable/user_guide/indexing.html#returning-a-view-versus-a-copy\n",
      "  from ipykernel import kernelapp as app\n",
      "C:\\Users\\antho\\anaconda3\\lib\\site-packages\\ipykernel_launcher.py:16: SettingWithCopyWarning: \n",
      "A value is trying to be set on a copy of a slice from a DataFrame.\n",
      "Try using .loc[row_indexer,col_indexer] = value instead\n",
      "\n",
      "See the caveats in the documentation: https://pandas.pydata.org/pandas-docs/stable/user_guide/indexing.html#returning-a-view-versus-a-copy\n",
      "  app.launch_new_instance()\n"
     ]
    }
   ],
   "source": [
    "Mental1and2 = MentalHealth1.merge(MentalHealth2, on = \"M2ID\" )\n",
    "Phys1and2 = PhysHealth1.merge(PhysHealth2, on = \"M2ID\")\n",
    "Health1and2temp = Mental1and2.merge(Phys1and2, on = \"M2ID\")\n",
    "Health1and2 = Health1and2temp.dropna()\n",
    "Mental2and3 = MentalHealth2.merge(MentalHealth3, on = \"M2ID\" )\n",
    "Phys2and3 = PhysHealth2.merge(PhysHealth3, on = \"M2ID\")\n",
    "Health2and3temp = Mental2and3.merge(Phys2and3, on = \"M2ID\")\n",
    "Health2and3 = Health2and3temp.dropna()\n",
    "Health1and2[\"Sadness s1\"] = pd.cut(Health1and2[\"Sadness s1\"], [5,12,40], labels = [0,1])\n",
    "Health1and2[\"Sadness s2\"] = pd.cut(Health1and2[\"Sadness s2\"], [5,12,40], labels = [0,1])\n",
    "Health2and3[\"Sadness s2\"] = pd.cut(Health2and3[\"Sadness s2\"], [5,12,40], labels = [0,1])\n",
    "Health2and3[\"Sadness s3\"] = pd.cut(Health2and3[\"Sadness s3\"], [5,12,40], labels = [0,1])\n",
    "Health1and2[\"Happyness s1\"] = pd.cut(Health1and2[\"Happyness s1\"], [5,18,40], labels = [0,1])\n",
    "Health1and2[\"Happyness s2\"] = pd.cut(Health1and2[\"Happyness s2\"], [5,18,40], labels = [0,1])\n",
    "Health2and3[\"Happyness s2\"] = pd.cut(Health2and3[\"Happyness s2\"], [5,18,40], labels = [0,1])\n",
    "Health2and3[\"Happyness s3\"] = pd.cut(Health2and3[\"Happyness s3\"], [5,18,40], labels = [0,1])"
   ]
  },
  {
   "cell_type": "code",
   "execution_count": 13,
   "metadata": {},
   "outputs": [
    {
     "data": {
      "text/html": [
       "<div>\n",
       "<style scoped>\n",
       "    .dataframe tbody tr th:only-of-type {\n",
       "        vertical-align: middle;\n",
       "    }\n",
       "\n",
       "    .dataframe tbody tr th {\n",
       "        vertical-align: top;\n",
       "    }\n",
       "\n",
       "    .dataframe thead th {\n",
       "        text-align: right;\n",
       "    }\n",
       "</style>\n",
       "<table border=\"1\" class=\"dataframe\">\n",
       "  <thead>\n",
       "    <tr style=\"text-align: right;\">\n",
       "      <th></th>\n",
       "      <th>B1SA54C</th>\n",
       "      <th>B1PA2</th>\n",
       "      <th>B1PA83</th>\n",
       "      <th>B1PA84</th>\n",
       "      <th>B1PA90</th>\n",
       "      <th>B1SA11T</th>\n",
       "      <th>M2ID</th>\n",
       "      <th>B1SA24A</th>\n",
       "      <th>B1SA24B</th>\n",
       "      <th>B1SA24C</th>\n",
       "      <th>...</th>\n",
       "      <th>C1SA20E</th>\n",
       "      <th>C1SA20F</th>\n",
       "      <th>C1SA22A</th>\n",
       "      <th>C1SA22B</th>\n",
       "      <th>C1SA22C</th>\n",
       "      <th>C1SA22D</th>\n",
       "      <th>C1SA22E</th>\n",
       "      <th>C1SA22F</th>\n",
       "      <th>Sadness s3</th>\n",
       "      <th>Happyness s3</th>\n",
       "    </tr>\n",
       "  </thead>\n",
       "  <tbody>\n",
       "    <tr>\n",
       "      <th>0</th>\n",
       "      <td>0</td>\n",
       "      <td>2.0</td>\n",
       "      <td>2</td>\n",
       "      <td>4.0</td>\n",
       "      <td>0.0</td>\n",
       "      <td>0.0</td>\n",
       "      <td>10001</td>\n",
       "      <td>2.0</td>\n",
       "      <td>2.0</td>\n",
       "      <td>2.0</td>\n",
       "      <td>...</td>\n",
       "      <td>2.0</td>\n",
       "      <td>1.0</td>\n",
       "      <td>4.0</td>\n",
       "      <td>4.0</td>\n",
       "      <td>3.0</td>\n",
       "      <td>4.0</td>\n",
       "      <td>3.0</td>\n",
       "      <td>4.0</td>\n",
       "      <td>7.0</td>\n",
       "      <td>22.0</td>\n",
       "    </tr>\n",
       "    <tr>\n",
       "      <th>1</th>\n",
       "      <td>0</td>\n",
       "      <td>1.0</td>\n",
       "      <td>3</td>\n",
       "      <td>1.0</td>\n",
       "      <td>0.0</td>\n",
       "      <td>0.0</td>\n",
       "      <td>10002</td>\n",
       "      <td>1.0</td>\n",
       "      <td>1.0</td>\n",
       "      <td>2.0</td>\n",
       "      <td>...</td>\n",
       "      <td>NaN</td>\n",
       "      <td>NaN</td>\n",
       "      <td>NaN</td>\n",
       "      <td>NaN</td>\n",
       "      <td>NaN</td>\n",
       "      <td>NaN</td>\n",
       "      <td>NaN</td>\n",
       "      <td>NaN</td>\n",
       "      <td>NaN</td>\n",
       "      <td>NaN</td>\n",
       "    </tr>\n",
       "    <tr>\n",
       "      <th>2</th>\n",
       "      <td>1</td>\n",
       "      <td>2.0</td>\n",
       "      <td>2</td>\n",
       "      <td>3.0</td>\n",
       "      <td>0.0</td>\n",
       "      <td>1.0</td>\n",
       "      <td>10011</td>\n",
       "      <td>3.0</td>\n",
       "      <td>1.0</td>\n",
       "      <td>1.0</td>\n",
       "      <td>...</td>\n",
       "      <td>1.0</td>\n",
       "      <td>1.0</td>\n",
       "      <td>4.0</td>\n",
       "      <td>4.0</td>\n",
       "      <td>3.0</td>\n",
       "      <td>4.0</td>\n",
       "      <td>4.0</td>\n",
       "      <td>3.0</td>\n",
       "      <td>6.0</td>\n",
       "      <td>22.0</td>\n",
       "    </tr>\n",
       "    <tr>\n",
       "      <th>3</th>\n",
       "      <td>0</td>\n",
       "      <td>3.0</td>\n",
       "      <td>3</td>\n",
       "      <td>4.0</td>\n",
       "      <td>0.0</td>\n",
       "      <td>0.0</td>\n",
       "      <td>10015</td>\n",
       "      <td>1.0</td>\n",
       "      <td>3.0</td>\n",
       "      <td>3.0</td>\n",
       "      <td>...</td>\n",
       "      <td>1.0</td>\n",
       "      <td>1.0</td>\n",
       "      <td>3.0</td>\n",
       "      <td>4.0</td>\n",
       "      <td>2.0</td>\n",
       "      <td>3.0</td>\n",
       "      <td>3.0</td>\n",
       "      <td>3.0</td>\n",
       "      <td>8.0</td>\n",
       "      <td>18.0</td>\n",
       "    </tr>\n",
       "    <tr>\n",
       "      <th>4</th>\n",
       "      <td>1</td>\n",
       "      <td>1.0</td>\n",
       "      <td>3</td>\n",
       "      <td>4.0</td>\n",
       "      <td>0.0</td>\n",
       "      <td>0.0</td>\n",
       "      <td>10019</td>\n",
       "      <td>1.0</td>\n",
       "      <td>2.0</td>\n",
       "      <td>2.0</td>\n",
       "      <td>...</td>\n",
       "      <td>2.0</td>\n",
       "      <td>1.0</td>\n",
       "      <td>4.0</td>\n",
       "      <td>4.0</td>\n",
       "      <td>2.0</td>\n",
       "      <td>3.0</td>\n",
       "      <td>3.0</td>\n",
       "      <td>3.0</td>\n",
       "      <td>11.0</td>\n",
       "      <td>19.0</td>\n",
       "    </tr>\n",
       "  </tbody>\n",
       "</table>\n",
       "<p>5 rows × 41 columns</p>\n",
       "</div>"
      ],
      "text/plain": [
       "  B1SA54C  B1PA2 B1PA83  B1PA84  B1PA90  B1SA11T   M2ID  B1SA24A  B1SA24B  \\\n",
       "0       0    2.0      2     4.0     0.0      0.0  10001      2.0      2.0   \n",
       "1       0    1.0      3     1.0     0.0      0.0  10002      1.0      1.0   \n",
       "2       1    2.0      2     3.0     0.0      1.0  10011      3.0      1.0   \n",
       "3       0    3.0      3     4.0     0.0      0.0  10015      1.0      3.0   \n",
       "4       1    1.0      3     4.0     0.0      0.0  10019      1.0      2.0   \n",
       "\n",
       "   B1SA24C  ...  C1SA20E  C1SA20F  C1SA22A  C1SA22B  C1SA22C  C1SA22D  \\\n",
       "0      2.0  ...      2.0      1.0      4.0      4.0      3.0      4.0   \n",
       "1      2.0  ...      NaN      NaN      NaN      NaN      NaN      NaN   \n",
       "2      1.0  ...      1.0      1.0      4.0      4.0      3.0      4.0   \n",
       "3      3.0  ...      1.0      1.0      3.0      4.0      2.0      3.0   \n",
       "4      2.0  ...      2.0      1.0      4.0      4.0      2.0      3.0   \n",
       "\n",
       "   C1SA22E  C1SA22F  Sadness s3  Happyness s3  \n",
       "0      3.0      4.0         7.0          22.0  \n",
       "1      NaN      NaN         NaN           NaN  \n",
       "2      4.0      3.0         6.0          22.0  \n",
       "3      3.0      3.0         8.0          18.0  \n",
       "4      3.0      3.0        11.0          19.0  \n",
       "\n",
       "[5 rows x 41 columns]"
      ]
     },
     "execution_count": 13,
     "metadata": {},
     "output_type": "execute_result"
    }
   ],
   "source": [
    "Mental2and3.head()"
   ]
  },
  {
   "cell_type": "code",
   "execution_count": 14,
   "metadata": {},
   "outputs": [],
   "source": [
    "Study1 = Health1and2[[\"A1SA37C\",\"A1PA5\",\"A1PA80\",\"A1PA81\",\"A1PA87\",\"A1SA9T\",\n",
    "                      \"A1SA13A\",\"A1SA13B\",\"A1SA13C\",\"A1SA13D\",\"A1SA13E\",\"A1SA13F\",\"A1SA15A\",\"A1SA15B\",\"A1SA15C\",\"A1SA15D\",\"A1SA15E\",\"A1SA15F\",\n",
    "                      \"A1PAGE_M2\",\"A1PA4\",\"A1PA36\",\"A1PA37\",\"A1PA29\",\n",
    "                      \"A1SA9A\",\"A1SA9B\",\"A1SA9C\",\n",
    "                      \"A1SA9D\",\"A1SA9E\",\"A1SA9F\",\"A1SA9G\",\"A1SA9H\",\n",
    "                      \"A1SA9I\",\"A1SA9J\",\"A1SA9K\",\n",
    "                      \"A1SA9L\",\"A1SA9M\",\"A1SA9N\",\"A1SA9O\",\"A1SA9P\",\n",
    "                      \"A1SA9Q\",\"A1SA9R\",\n",
    "                      \"A1SA9S\",\"A1SA9U\",\"A1SA9V\",\"A1SA9W\",\"A1SA9X\",\"A1SA9Y\",\"A1SA9Z\",\"A1SA9AA\",\"A1SA9BB\",\"A1SA9CC\",\"Happyness s1\",\"Sadness s1\",\"Lung Problems s1\",\"Digestive Problems s1\",\"Mouth Problems s1\"]].rename(columns = renamecolumns)\n",
    "Study2_1 = Health1and2[[\"B1SA54C\",\"B1PA2\",\"B1PA83\",\"B1PA84\",\"B1PA90\",\"B1SA11T\",\n",
    "                        #B1SA24A\",\"B1SA24B\",\"B1SA24C\",\"B1SA24D\",\"B1SA24E\",\"B1SA24F\",\"B1SA26A\",\"B1SA26B\",\"B1SA26C\",\"B1SA26D\",\"B1SA26E\",\"B1SA26F\",\n",
    "                        \"B1PAGE_M2\",\"B1PA1\",\"B1PA26\",\"B1PA27\",\"B1PA23\",\n",
    "                        #B1SA11A\",\"B1SA11B\",\"B1SA11C\",\n",
    "                        \"B1SA11D\",\"B1SA11E\",\"B1SA11F\",\"B1SA11G\",\"B1SA11H\",\n",
    "                        #B1SA11I\",\"B1SA11J\",\"B1SA11K\",\n",
    "                        \"B1SA11L\",\"B1SA11M\",\"B1SA11N\",\"B1SA11O\",\"B1SA11P\",\n",
    "                        #B1SA11Q\",\"B1SA11R\",\n",
    "                        \"B1SA11S\",\"B1SA11U\",\"B1SA11V\",\"B1SA11W\",\"B1SA11X\",\"B1SA11Y\",\"B1SA11Z\",\"B1SA11AA\",\"B1SA11BB\",\"B1SA11CC\",\"Happyness s2\",\"Sadness s2\",\"Lung Problems s2\",\"Digestive Problems s2\",\"Mouth Problems s2\"]].rename(columns = renamecolumns)\n"
   ]
  },
  {
   "cell_type": "code",
   "execution_count": 15,
   "metadata": {},
   "outputs": [],
   "source": [
    "Study2_2 = Health2and3[[\"B1SA54C\",\"B1PA2\",\"B1PA83\",\"B1PA84\",\"B1PA90\",\"B1SA11T\",\n",
    "                        \"B1SA24A\",\"B1SA24B\",\"B1SA24C\",\"B1SA24D\",\"B1SA24E\",\"B1SA24F\",\"B1SA26A\",\"B1SA26B\",\"B1SA26C\",\"B1SA26D\",\"B1SA26E\",\"B1SA26F\",\n",
    "                        \"B1PAGE_M2\",\"B1PA1\",\"B1PA26\",\"B1PA27\",\"B1PA23\",\n",
    "                        \"B1SA11A\",\"B1SA11B\",\"B1SA11C\",\n",
    "                        \"B1SA11D\",\"B1SA11E\",\"B1SA11F\",\"B1SA11G\",\"B1SA11H\",\n",
    "                        \"B1SA11I\",\"B1SA11J\",\"B1SA11K\",\n",
    "                        \"B1SA11L\",\"B1SA11M\",\"B1SA11N\",\"B1SA11O\",\"B1SA11P\",\n",
    "                        \"B1SA11Q\",\"B1SA11R\",\n",
    "                        \"B1SA11S\",\"B1SA11U\",\"B1SA11V\",\"B1SA11W\",\"B1SA11X\",\"B1SA11Y\",\"B1SA11Z\",\"B1SA11AA\",\"B1SA11BB\",\"B1SA11CC\",\"Happyness s2\",\"Sadness s2\",\"Lung Problems s2\",\"Digestive Problems s2\",\"Mouth Problems s2\"]].rename(columns = renamecolumns)\n",
    "Study3 = Health2and3[[\"C1SA50C\",\"C1PA2\",\"C1PA83\",\"C1PA84\",\"C1PA90\",\"C1SA11T\",\n",
    "                      #\"C1SA20A\",\"C1SA20B\",\"C1SA20C\",\"C1SA20D\",\"C1SA20E\",\"C1SA20F\",\"C1SA22A\",\"C1SA22B\",\"C1SA22C\",\"C1SA22D\",\"C1SA22E\",\"C1SA22F\",\n",
    "                      \"C1PRAGE\",\"C1PA1\",\"C1PA26\",\"C1PA27\",\"C1PA23\",\n",
    "                      #\"C1SA11A\",\"C1SA11B\",\"C1SA11C\",\n",
    "                      \"C1SA11D\",\"C1SA11E\",\"C1SA11F\",\"C1SA11G\",\"C1SA11H\",\n",
    "                      #\"C1SA11I\",\"C1SA11J\",\"C1SA11K\",\n",
    "                      \"C1SA11L\",\"C1SA11M\",\"C1SA11N\",\"C1SA11O\",\"C1SA11P\",\n",
    "                      #\"C1SA11Q\",\"C1SA11R\",\n",
    "                      \"C1SA11S\",\"C1SA11U\",\"C1SA11V\",\"C1SA11W\",\"C1SA11X\",\"C1SA11Y\",\"C1SA11Z\",\"C1SA11AA\",\"C1SA11BB\",\"C1SA11CC\",\"Happyness s3\",\"Sadness s3\",\"Lung Problems s3\",\"Digestive Problems s3\",\"Mouth Problems s3\"]].rename(columns = renamecolumns)\n"
   ]
  },
  {
   "cell_type": "code",
   "execution_count": 42,
   "metadata": {},
   "outputs": [
    {
     "data": {
      "text/plain": [
       "ElasticNet(alpha=0.2, l1_ratio=0.1)"
      ]
     },
     "execution_count": 42,
     "metadata": {},
     "output_type": "execute_result"
    }
   ],
   "source": [
    "Study2_1 = Health1and2[[\"Lung Problems s2\"]].rename(columns = renamecolumns)\n",
    "Study3 = Health2and3[[\"Lung Problems s3\"]].rename(columns = renamecolumns)\n",
    "features = Study1.columns\n",
    "xtrain, xtest, ytrain, ytest = train_test_split(np.concatenate([Study1.values, Study2_2.values], axis = 0),np.concatenate([Study2_1.values, Study3.values], axis = 0), test_size = 0.2, random_state = 1)\n",
    "model = ElasticNet(alpha=0.2, l1_ratio=0.1)\n",
    "model.fit(xtrain, ytrain)"
   ]
  },
  {
   "cell_type": "code",
   "execution_count": null,
   "metadata": {},
   "outputs": [],
   "source": [
    "Study2_1 = Health1and2[[\"Digestive Problems s1 s2\"]].rename(columns = renamecolumns)\n",
    "Study3 = Health2and3[[\"Digestive Problems s1 s3\"]].rename(columns = renamecolumns)\n",
    "features = Study1.columns\n",
    "xtrain, xtest, ytrain, ytest = train_test_split(np.concatenate([Study1.values, Study2_2.values], axis = 0),np.concatenate([Study2_1.values, Study3.values], axis = 0), test_size = 0.2, random_state = 1)\n",
    "model = ElasticNet(alpha=0.2, l1_ratio=0.1)\n",
    "model.fit(xtrain, ytrain)"
   ]
  },
  {
   "cell_type": "code",
   "execution_count": null,
   "metadata": {},
   "outputs": [],
   "source": [
    "Study2_1 = Health1and2[[\"Mouth Problems s2\"]].rename(columns = renamecolumns)\n",
    "Study3 = Health2and3[[\"Mouth Problems s3\"]].rename(columns = renamecolumns)\n",
    "features = Study1.columns\n",
    "xtrain, xtest, ytrain, ytest = train_test_split(np.concatenate([Study1.values, Study2_2.values], axis = 0),np.concatenate([Study2_1.values, Study3.values], axis = 0), test_size = 0.2, random_state = 1)\n",
    "model = ElasticNet(alpha=0.2, l1_ratio=0.1)\n",
    "model.fit(xtrain, ytrain)"
   ]
  },
  {
   "cell_type": "code",
   "execution_count": 46,
   "metadata": {},
   "outputs": [
    {
     "name": "stderr",
     "output_type": "stream",
     "text": [
      "C:\\Users\\antho\\anaconda3\\lib\\site-packages\\sklearn\\utils\\validation.py:63: DataConversionWarning: A column-vector y was passed when a 1d array was expected. Please change the shape of y to (n_samples, ), for example using ravel().\n",
      "  return f(*args, **kwargs)\n",
      "C:\\Users\\antho\\anaconda3\\lib\\site-packages\\sklearn\\linear_model\\_sag.py:329: ConvergenceWarning: The max_iter was reached which means the coef_ did not converge\n",
      "  \"the coef_ did not converge\", ConvergenceWarning)\n"
     ]
    },
    {
     "data": {
      "text/plain": [
       "LogisticRegression(C=0.05, class_weight='balanced', l1_ratio=0.5,\n",
       "                   penalty='elasticnet', solver='saga')"
      ]
     },
     "execution_count": 46,
     "metadata": {},
     "output_type": "execute_result"
    }
   ],
   "source": [
    "Study2_1 = Health1and2[[\"Sadness s2\"]].rename(columns = renamecolumns)\n",
    "Study3 = Health2and3[[\"Sadness s3\"]].rename(columns = renamecolumns)\n",
    "features = Study1.columns\n",
    "xtrain, xtest, ytrain, ytest = train_test_split(np.concatenate([Study1.values, Study2_2.values], axis = 0),np.concatenate([Study2_1.values, Study3.values], axis = 0), test_size = 0.2, random_state = 1)\n",
    "model = LogisticRegression(solver = \"saga\", class_weight = \"balanced\", C = 0.05, penalty = \"elasticnet\",l1_ratio=0.5)\n",
    "model.fit(xtrain, ytrain)"
   ]
  },
  {
   "cell_type": "code",
   "execution_count": null,
   "metadata": {},
   "outputs": [],
   "source": [
    "Study2_1 = Health1and2[[\"Happyness s2\"]].rename(columns = renamecolumns)\n",
    "Study3 = Health2and3[[\"Happyness s3\"]].rename(columns = renamecolumns)\n",
    "features = Study1.columns\n",
    "xtrain, xtest, ytrain, ytest = train_test_split(np.concatenate([Study1.values, Study2_2.values], axis = 0),np.concatenate([Study2_1.values, Study3.values], axis = 0), test_size = 0.2, random_state = 1)\n",
    "model = LogisticRegression(solver = \"saga\", class_weight = \"balanced\", C = 0.05, penalty = \"elasticnet\",l1_ratio=0.5)\n",
    "model.fit(xtrain, ytrain)"
   ]
  },
  {
   "cell_type": "code",
   "execution_count": 47,
   "metadata": {},
   "outputs": [
    {
     "name": "stdout",
     "output_type": "stream",
     "text": [
      "bias [-1.98150597]\n",
      "Times Visited Counselor s1 [0.19750173]\n",
      "Mental Health Self-eval s1 [0.055161]\n",
      "Worry Level s1 [0.06854657]\n",
      "Frequency of worrying s1 [-0.12982102]\n",
      "Have Spell/Attack s1 [0.12553953]\n",
      "Anxiety/Depression s1 [0.26789647]\n",
      "Felt so sad nothing could cheer s1 [0.36484929]\n",
      "Felt nervous s1 [0.18163083]\n",
      "Felt restless s1 [0.12033371]\n",
      "Felt hopeless s1 [0.]\n",
      "Felt everything was effort s1 [0.36990633]\n",
      "Felt worthless s1 [0.32405292]\n",
      "Felt cheerful s1 [0.]\n",
      "Felt good spirits s1 [-0.08798769]\n",
      "Felt extremely happy s1 [0.07026094]\n",
      "Felt calm and peaceful s1 [0.]\n",
      "Felt satisfied s3 s1 [-0.09500834]\n",
      "Felt full of life s1 [0.02279418]\n",
      "Age s1 [-0.19928261]\n",
      "Physical health self-evaluated s1 [0.29730691]\n",
      "Cancer s1 [0.]\n",
      "Cancer risk compared to others s1 [-0.00384601]\n",
      "NUM TIMES SEVERE PAIN FRONT OF CHEST s1 [0.]\n",
      "Asthma/bronchitis/emphysema s1 [0.]\n",
      "Tuberculosis s1 [0.]\n",
      "Other lung problems s1 [0.13110074]\n",
      "Joint/bone diseases s1 [0.]\n",
      "Sciatica/lumbago/backache s1 [0.]\n",
      "Skin trouble persistent s1 [0.]\n",
      "Thyroid disease s1 [0.]\n",
      "Hay fever s1 [0.06856641]\n",
      "Stomach trouble s1 [0.]\n",
      "Urinary/bladder problem s1 [0.]\n",
      "Constipated all/most s1 [0.]\n",
      "Gall bladder trouble s1 [-0.06423473]\n",
      "Foot trouble persistent s1 [0.09590774]\n",
      "Varicose veins s1 [0.]\n",
      "AIDS/HIV s1 [0.]\n",
      "Lupus/autoimmune disorder s1 [0.]\n",
      "Gum/mouth trouble persistent s1 [0.]\n",
      "Teeth trouble persistent s1 [0.]\n",
      "High blood pressure/hypertension s1 [0.00878533]\n",
      "Alcohol/drug problem s1 [0.]\n",
      "Migraine headaches s1 [0.]\n",
      "Chronic sleep problems s1 [0.15834639]\n",
      "Diabetes/high blood sugar s1 [0.02943942]\n",
      "Neurological disorder s1 [0.22962191]\n",
      "Stroke s1 [0.]\n",
      "Ulcer s1 [0.]\n",
      "Hernia s1 [0.]\n",
      "Piles/hemorrhoids s1 [0.]\n",
      "Happyness s1 [-0.08738059]\n",
      "Sadness s1 [0.]\n",
      "Lung Problems s1 [0.04898105]\n",
      "Digestive Problems s1 [0.11803862]\n",
      "Mouth Problems s1 [0.]\n"
     ]
    }
   ],
   "source": [
    "model.score(xtrain,ytrain)\n",
    "model.score(xtest,ytest)\n",
    "x = person\n",
    "y = ytest[:,0]\n",
    "weights = model.coef_\n",
    "weights.shape\n",
    "model.intercept_\n",
    "bias = model.intercept_\n",
    "print(\"bias\",bias)\n",
    "for feature,weight in zip(features,weights.T):\n",
    "    print(feature, weight)"
   ]
  },
  {
   "cell_type": "code",
   "execution_count": 133,
   "metadata": {},
   "outputs": [
    {
     "data": {
      "application/vnd.plotly.v1+json": {
       "config": {
        "plotlyServerURL": "https://plot.ly"
       },
       "data": [
        {
         "hovertemplate": "x=%{x}<br>y=%{y}<extra></extra>",
         "legendgroup": "",
         "marker": {
          "color": "#636efa",
          "symbol": "circle"
         },
         "mode": "markers",
         "name": "",
         "orientation": "v",
         "showlegend": false,
         "type": "scatter",
         "x": [
          0.14172149990267957,
          0.11746104949719247,
          0.2234511397270662,
          0.17959786821992146,
          0.21747171523425518,
          0.1182143337218175,
          0.07938196419661536,
          0.11223490922900647,
          0.1450878542613976,
          0.17487007868657284,
          0.12158068808053554,
          0.1450878542613976,
          0.15368034888830162,
          0.11223490922900647,
          0.13278625284153256,
          0.25891715489355027,
          0.08536138868942639,
          0.10886855487028846,
          0.15443363311292663,
          0.09395388331633041,
          0.15292706466367656,
          0.13017318270743955,
          0.1319702870844801,
          0.11589689733922667,
          0.1450878542613976,
          0.18904956926582245,
          0.11223490922900647,
          0.12248447278204326,
          0.08158960036403798,
          0.10886855487028846,
          0.1206246868725753,
          0.10027606024338444,
          0.11484797936309948,
          0.07340253970380435,
          0.11127890802104626,
          0.09395388331633041,
          0.1560907020390594,
          0.13890571278525138,
          0.1278557463248487,
          0.14990856056291318,
          0.17457444493507068,
          0.1208274038559105,
          0.2704654720887903,
          0.11946596868127989,
          0.11223490922900647,
          0.12419375821462852,
          0.13910842976858656,
          0.15231891371367098,
          0.08536138868942639,
          0.0827483185553334,
          0.09395388331633041,
          0.10625548473619545,
          0.11484797936309948,
          0.13017318270743955,
          0.12419375821462852,
          0.07938196419661536,
          0.1340378878009949,
          0.1415187829193444,
          0.11560126358772452,
          0.26780528327195646,
          0.17382116071044562,
          0.28222160409107716,
          0.11368926117180406,
          0.17678208110249327,
          0.13910842976858656,
          0.14076549869471933,
          0.12976265091705752,
          0.1182143337218175,
          0.08179231734737318,
          0.10027606024338444,
          0.12344047399000349,
          0.07938196419661536,
          0.19687325293898822,
          0.13017318270743955,
          0.13217300406781532,
          0.07340253970380435,
          0.24695830590792822,
          0.0950028012924576,
          0.2752861783903059,
          0.2297733166541202,
          0.14874984237161776,
          0.09134081318223741,
          0.14172149990267957,
          0.1182143337218175,
          0.09134081318223741,
          0.07938196419661536,
          0.10027606024338444,
          0.0879744588235194,
          0.11464526237976427,
          0.16930118598414384,
          0.09993330780914143,
          0.1450878542613976,
          0.12419375821462852,
          0.17718751506916366,
          0.07938196419661536,
          0.12158068808053554,
          0.21149229074144416,
          0.11328382720513366,
          0.15368034888830162,
          0.09134081318223741,
          0.10625548473619545,
          0.11746104949719247,
          0.1995334417558221,
          0.0879744588235194,
          0.10625548473619545,
          0.1182143337218175,
          0.23982016322382177,
          0.11223490922900647,
          0.09134081318223741,
          0.10625548473619545,
          0.09470716754095546,
          0.11850996747331966,
          0.24957137604202123,
          0.14799655814699275,
          0.08536138868942639,
          0.13051593514168255,
          0.1879876458634903,
          0.07938196419661536,
          0.1206246868725753,
          0.09732023767504844,
          0.15031399452958358,
          0.12605354412409647,
          0.11223490922900647,
          0.13910842976858656,
          0.0827483185553334,
          0.1182143337218175,
          0.09732023767504844,
          0.1182143337218175,
          0.09732023767504844,
          0.10625548473619545,
          0.17843915002862604,
          0.2409788814151172,
          0.2113980172553891,
          0.15368034888830162,
          0.13142481766690195,
          0.15965977338111265,
          0.09540823525912798,
          0.13910842976858656,
          0.12680682834872153,
          0.18307014477301142,
          0.15368034888830162,
          0.27121875631341535,
          0.1208274038559105,
          0.07938196419661536,
          0.2141053608755371,
          0.15513470083109918,
          0.11223490922900647,
          0.11368926117180406,
          0.11223490922900647,
          0.24434523577383527,
          0.11746104949719247,
          0.13574207540986855,
          0.1271495807829645,
          0.25198172919277906,
          0.13383517081765972,
          0.1182143337218175,
          0.13237572105115053,
          0.0903848119742772,
          0.08536138868942639,
          0.0879744588235194,
          0.09616151948375302,
          0.14749820741215539,
          0.1659348316254258,
          0.0879744588235194,
          0.17718751506916366,
          0.11484797936309948,
          0.09134081318223741,
          0.11484797936309948,
          0.07938196419661536,
          0.1396067805034239,
          0.07676889406252238,
          0.13278625284153256,
          0.12207903881537288,
          0.12680682834872153,
          0.10625548473619545,
          0.1208274038559105,
          0.10027606024338444,
          0.1182143337218175,
          0.14172149990267957,
          0.13574207540986855,
          0.13438064023523794,
          0.10625548473619545,
          0.17196137480097767,
          0.1182143337218175,
          0.13815242856062634,
          0.14433457003677258,
          0.24464086952533742,
          0.0965669534504234,
          0.09058752895761238,
          0.11223490922900647,
          0.12680682834872153,
          0.0903848119742772,
          0.160911408340575,
          0.12419375821462852,
          0.11464526237976427,
          0.1258508271407613,
          0.07938196419661536,
          0.15472926686442878,
          0.12489482593280107,
          0.15368034888830162,
          0.10962183909491349,
          0.24600230469996803,
          0.15397598263980378,
          0.2107390065168191,
          0.10329966216785946,
          0.15368034888830162,
          0.14392913607010216,
          0.13017318270743955,
          0.10625548473619545,
          0.12605354412409647,
          0.09134081318223741,
          0.07581289285456215,
          0.13051593514168255,
          0.15060962828108573,
          0.11705561553052209,
          0.2592599073277933,
          0.12419375821462852,
          0.27905796671569433,
          0.17507279566990802,
          0.1450878542613976,
          0.2764448965816013,
          0.11966868566461508,
          0.28483467422517017,
          0.14558620499623492,
          0.24600230469996803,
          0.09058752895761238,
          0.13574207540986855,
          0.11368926117180406,
          0.07938196419661536,
          0.11127890802104626,
          0.12344047399000349,
          0.11746104949719247,
          0.13574207540986855,
          0.10770983667899303,
          0.10886855487028846,
          0.07078946956971136,
          0.13910842976858656,
          0.10625548473619545,
          0.11107619103771106,
          0.09636423646708821,
          0.12419375821462852,
          0.11725833251385728,
          0.14935799332162336,
          0.18421585753810188,
          0.11223490922900647,
          0.24520696349574045,
          0.10625548473619545,
          0.15368034888830162,
          0.0952055182757928,
          0.16261559594944863,
          0.11368926117180406,
          0.08536138868942639,
          0.16332176149133282,
          0.11389197815513924,
          0.1510672787542086,
          0.1415187829193444,
          0.08460810446480135,
          0.16743630225096423,
          0.11223490922900647,
          0.11348654418846886,
          0.07581289285456215,
          0.15176834647238113,
          0.10886855487028846,
          0.08536138868942639,
          0.10962183909491349,
          0.17843915002862604,
          0.1450878542613976,
          0.1510672787542086,
          0.12419375821462852,
          0.2435919515492102,
          0.20551286624863313,
          0.1258508271407613,
          0.2738318264475083,
          0.08536138868942639,
          0.10625548473619545,
          0.10625548473619545,
          0.21592308980540253,
          0.13794971157729113,
          0.101387659751939,
          0.15136291250571077,
          0.12660411136538632,
          0.10625548473619545,
          0.10288913037747743,
          0.15136291250571077,
          0.1208274038559105,
          0.1182143337218175,
          0.1477009243954906,
          0.18904956926582245,
          0.17863934570905302,
          0.1208274038559105,
          0.13910842976858656,
          0.11223490922900647,
          0.12941989848281452,
          0.1396067805034239,
          0.1182143337218175,
          0.10329966216785946,
          0.0903848119742772,
          0.14433457003677258,
          0.22269785550244114,
          0.1206246868725753,
          0.2435919515492102,
          0.09732023767504844,
          0.2827199548259145,
          0.10886855487028846,
          0.11560126358772452,
          0.15368034888830162,
          0.12680682834872153,
          0.15368034888830162,
          0.1218763218320377,
          0.11148162500438144,
          0.13910842976858656,
          0.1450878542613976,
          0.26930675389749487,
          0.20696721819143066,
          0.15890648915648758,
          0.11746104949719247,
          0.13122210068356674,
          0.2409788814151172,
          0.0991800235845164,
          0.13017318270743955,
          0.12373610774150565,
          0.12544539317409092,
          0.10886855487028846,
          0.1510672787542086,
          0.11223490922900647,
          0.08902337679964659,
          0.14990856056291318,
          0.11223490922900647,
          0.1562934190223946,
          0.10288913037747743,
          0.1182143337218175,
          0.090182094990942,
          0.1510672787542086,
          0.10027606024338444,
          0.10886855487028846,
          0.09134081318223741,
          0.10625548473619545,
          0.10625548473619545,
          0.3125674011837472,
          0.15060962828108573,
          0.1562934190223946,
          0.10214094397656404,
          0.11127890802104626,
          0.09058752895761238,
          0.1450878542613976,
          0.08536138868942639,
          0.184618770201864,
          0.11127890802104626,
          0.13910842976858656,
          0.14172149990267957,
          0.1779407992937887,
          0.22229242153577078,
          0.13815242856062634,
          0.14317585184547715,
          0.21872335019371753,
          0.09616151948375302,
          0.1831669395619747,
          0.11368926117180406,
          0.1182143337218175,
          0.14056278171138414,
          0.1232377570066683,
          0.1450878542613976,
          0.19321126482876805,
          0.07676889406252238,
          0.12158068808053554,
          0.14633948922086,
          0.14895255935495294,
          0.10364241460210247,
          0.08344938627350594,
          0.07938196419661536,
          0.08902337679964659,
          0.10529948352823523,
          0.1330818865930347,
          0.11223490922900647,
          0.16859502044225966,
          0.1477009243954906,
          0.17120809057635267,
          0.09993330780914143,
          0.13539932297562554,
          0.1477009243954906,
          0.2662882497967315,
          0.17196137480097767,
          0.2442509622877802,
          0.14392913607010216,
          0.1939645490533931,
          0.11746104949719247,
          0.1573423369985218,
          0.0827483185553334,
          0.3125674011837472,
          0.16522866608354164,
          0.09134081318223741,
          0.14578892197957014,
          0.14433457003677258,
          0.32115989581065124,
          0.15965977338111265,
          0.08460810446480135,
          0.12971553223431664,
          0.11223490922900647,
          0.07938196419661536,
          0.14172149990267957,
          0.13835514554396156,
          0.10288913037747743,
          0.20551286624863313,
          0.14694764017086553,
          0.1182143337218175,
          0.10886855487028846,
          0.14172149990267957,
          0.09732023767504844,
          0.13017318270743955,
          0.10118494276860382,
          0.11107619103771106,
          0.10866583788695325,
          0.11891540143999005,
          0.1182143337218175,
          0.23499945692230617,
          0.10886855487028846,
          0.11464526237976427,
          0.11223490922900647,
          0.2141053608755371,
          0.1208274038559105,
          0.1208274038559105,
          0.1271024621002237,
          0.16930118598414384,
          0.10886855487028846,
          0.22606420986115916,
          0.13312900527577554,
          0.1779407992937887,
          0.14372641908676698,
          0.18723184033595702,
          0.1477009243954906,
          0.1182143337218175,
          0.15368034888830162,
          0.15011127754624837,
          0.15176834647238113,
          0.2071699351747659,
          0.14172149990267957,
          0.09134081318223741,
          0.0952055182757928,
          0.1182143337218175,
          0.13794971157729113,
          0.2050131587959077,
          0.12344047399000349,
          0.11464526237976427,
          0.15754505398185698,
          0.07340253970380435,
          0.17863934570905302,
          0.11223490922900647,
          0.23499945692230617,
          0.12680682834872153,
          0.10288913037747743,
          0.11223490922900647,
          0.13679099338599573,
          0.12419375821462852,
          0.10962183909491349,
          0.17361844372711044,
          0.15031399452958358,
          0.08536138868942639,
          0.1804570746389184,
          0.0827483185553334,
          0.09299788210837018,
          0.12344047399000349,
          0.1182143337218175,
          0.12660411136538632,
          0.14895255935495294,
          0.26523933182060433,
          0.11328382720513366,
          0.07676889406252238,
          0.184618770201864,
          0.13910842976858656,
          0.24936865905868605,
          0.16227284351520563,
          0.12248447278204326,
          0.10625548473619545,
          0.1477009243954906,
          0.08536138868942639,
          0.16000252581535562,
          0.11746104949719247,
          0.07938196419661536,
          0.14654220620419517,
          0.09732023767504844,
          0.1450878542613976,
          0.23686434065548578,
          0.07340253970380435,
          0.12805846330818388,
          0.1969203716217291,
          0.13051593514168255,
          0.1232377570066683,
          0.14749820741215539,
          0.15368034888830162,
          0.08199503433070837,
          0.11630233130589704,
          0.13910842976858656,
          0.1373991443360013,
          0.14413185305343734,
          0.1182143337218175,
          0.1232377570066683,
          0.10886855487028846,
          0.09802130539322097,
          0.14277041787880676,
          0.1258508271407613,
          0.07601560983789735,
          0.12344047399000349,
          0.10625548473619545,
          0.08536138868942639,
          0.1450878542613976,
          0.14749820741215539,
          0.23499945692230617,
          0.14433457003677258,
          0.08199503433070837,
          0.17843915002862604,
          0.18682892767219486,
          0.13312900527577554,
          0.12344047399000349,
          0.10866583788695325,
          0.12419375821462852,
          0.11725833251385728,
          0.11560126358772452,
          0.07078946956971136,
          0.13835514554396156,
          0.19135400022220833,
          0.07938196419661536,
          0.1292171814994793,
          0.14172149990267957,
          0.12344047399000349,
          0.12228175579870806,
          0.13835514554396156,
          0.1534776319049664,
          0.12419375821462852,
          0.09993330780914143,
          0.17382116071044562,
          0.12419375821462852,
          0.10866583788695325,
          0.14172149990267957,
          0.13217300406781532,
          0.1208274038559105,
          0.1271495807829645,
          0.092795165125035,
          0.09134081318223741,
          0.13649535963449358,
          0.11746104949719247,
          0.11223490922900647,
          0.11484797936309948,
          0.11560126358772452,
          0.11609961432256186,
          0.16261559594944863,
          0.17196137480097767,
          0.1745273262523298,
          0.13910842976858656,
          0.08536138868942639,
          0.13312900527577554,
          0.11223490922900647,
          0.16256847726670776,
          0.10625548473619545,
          0.10329966216785946,
          0.17120809057635267,
          0.1182143337218175,
          0.19919068932157907,
          0.12419375821462852,
          0.10027606024338444,
          0.15086456177087343,
          0.1182143337218175,
          0.12448939196613068,
          0.10886855487028846,
          0.10886855487028846,
          0.1450878542613976,
          0.13017318270743955,
          0.1206246868725753,
          0.1477009243954906,
          0.11464526237976427,
          0.11484797936309948,
          0.14935799332162336,
          0.1558879850557242,
          0.10288913037747743,
          0.1553374178144344,
          0.08536138868942639,
          0.2503246602666463,
          0.1208274038559105,
          0.09134081318223741,
          0.14874984237161776,
          0.10098222578526862,
          0.17748314882066582,
          0.13649535963449358,
          0.07601560983789735,
          0.21747171523425518,
          0.11746104949719247,
          0.10625548473619545,
          0.14433457003677258,
          0.11223490922900647,
          0.12448939196613068,
          0.12453651064887153,
          0.11946596868127989,
          0.11926325169794469,
          0.1182143337218175,
          0.13312900527577554,
          0.087569024856849,
          0.13383517081765972,
          0.12680682834872153,
          0.10591273230195246,
          0.0903848119742772,
          0.17196137480097767,
          0.10625548473619545,
          0.21912878416038795,
          0.23575274114693123,
          0.18346257331347682,
          0.10962183909491349,
          0.12680682834872153,
          0.10625548473619545,
          0.09134081318223741,
          0.11484797936309948,
          0.1208274038559105,
          0.1182143337218175,
          0.08460810446480135,
          0.07938196419661536,
          0.11746104949719247,
          0.1182143337218175,
          0.13910842976858656,
          0.21149229074144416,
          0.10625548473619545,
          0.1995334417558221,
          0.08536138868942639,
          0.08872774304814443,
          0.12419375821462852,
          0.14915527633828818,
          0.1779407992937887,
          0.1477009243954906,
          0.13910842976858656,
          0.11484797936309948,
          0.11484797936309948,
          0.14433457003677258,
          0.10625548473619545,
          0.12419375821462852,
          0.10625548473619545,
          0.13312900527577554,
          0.08536138868942639,
          0.13649535963449358,
          0.13910842976858656,
          0.1510672787542086,
          0.2409788814151172,
          0.1607086913572398,
          0.09973059082580624,
          0.240776164431782,
          0.14654220620419517,
          0.14433457003677258,
          0.13312900527577554,
          0.18462129150477224,
          0.08440538748146617,
          0.13312900527577554,
          0.1477009243954906,
          0.1182143337218175,
          0.17457444493507068,
          0.11966868566461508,
          0.11705561553052209,
          0.1182143337218175,
          0.10886855487028846,
          0.10068659203376648,
          0.14413185305343734,
          0.09058752895761238,
          0.1484542086201156,
          0.10886855487028846,
          0.0965669534504234,
          0.09134081318223741,
          0.24434523577383527,
          0.09732023767504844,
          0.11966868566461508,
          0.07340253970380435,
          0.11223490922900647,
          0.1208274038559105,
          0.23233926810547234,
          0.11725833251385728,
          0.1208274038559105,
          0.14433457003677258,
          0.0879744588235194,
          0.17196137480097767,
          0.10866583788695325,
          0.0877717418401842,
          0.11223490922900647,
          0.08681574063222397,
          0.1510672787542086,
          0.0827483185553334,
          0.08872774304814443,
          0.13312900527577554,
          0.1320329686169075,
          0.11484797936309948,
          0.10886855487028846,
          0.1562934190223946,
          0.1232377570066683,
          0.11484797936309948,
          0.08536138868942639,
          0.11223490922900647,
          0.13910842976858656,
          0.1633688801740737,
          0.10625548473619545,
          0.10359529591936162,
          0.08199503433070837,
          0.14433457003677258,
          0.18421585753810188,
          0.20551286624863313,
          0.11223490922900647,
          0.2919689388884803,
          0.17382116071044562,
          0.10625548473619545,
          0.21747171523425518,
          0.23499945692230617,
          0.26182585877914544,
          0.12955993393372234,
          0.15031399452958358,
          0.0827483185553334,
          0.21933150114372313,
          0.25023038678059123,
          0.15086456177087343,
          0.18325733502723343,
          0.2402255971904922,
          0.09993330780914143,
          0.1182143337218175,
          0.08536138868942639,
          0.1450878542613976,
          0.15031399452958358,
          0.1292171814994793,
          0.13569495672712767,
          0.14674492318753035,
          0.1805538694278817,
          0.11630233130589704,
          0.11484797936309948,
          0.16502594910020643,
          0.1477009243954906,
          0.2726731082562129,
          0.13017318270743955,
          0.17864186701196122,
          0.11560126358772452,
          0.13217300406781532,
          0.1831669395619747,
          0.10550220051157043,
          0.08536138868942639,
          0.10886855487028846,
          0.15031399452958358,
          0.11223490922900647,
          0.20887922060735115,
          0.11685289854718689,
          0.11850996747331966,
          0.07340253970380435,
          0.13574207540986855,
          0.1208274038559105,
          0.17100537359301743,
          0.14172149990267957,
          0.10886855487028846,
          0.1182143337218175,
          0.1218763218320377,
          0.12419375821462852,
          0.13312900527577554,
          0.2823275262854491,
          0.09395388331633041,
          0.10625548473619545,
          0.1450878542613976,
          0.09732023767504844,
          0.10625548473619545,
          0.08179231734737318,
          0.09470716754095546,
          0.13051593514168255,
          0.1995334417558221,
          0.10364241460210247,
          0.1208274038559105,
          0.2614675434952159,
          0.0950028012924576,
          0.0879744588235194,
          0.10886855487028846,
          0.11484797936309948,
          0.15472926686442878,
          0.0827483185553334,
          0.15704670324701964,
          0.2771981808062264,
          0.08536138868942639,
          0.1510672787542086,
          0.11409469513847444,
          0.09732023767504844,
          0.1611141253239102,
          0.14413185305343734,
          0.1477009243954906,
          0.0879744588235194,
          0.13910842976858656,
          0.16854790175951878,
          0.2532804828349823,
          0.104000729886032,
          0.1218763218320377,
          0.14633948922086,
          0.11148162500438144,
          0.13910842976858656,
          0.26930675389749487,
          0.09877458961784602,
          0.1477009243954906,
          0.12007411963128546,
          0.11223490922900647,
          0.1477009243954906,
          0.1292171814994793,
          0.10866583788695325,
          0.10886855487028846,
          0.14413185305343734,
          0.13539932297562554,
          0.16332176149133282,
          0.1477009243954906,
          0.11127890802104626,
          0.08536138868942639,
          0.11484797936309948,
          0.11464526237976427,
          0.14413185305343734,
          0.23836581128102424,
          0.12419375821462852,
          0.1573423369985218,
          0.13553935842653336,
          0.11223490922900647,
          0.21331001967130958,
          0.1484542086201156,
          0.09134081318223741,
          0.1510672787542086,
          0.09470716754095546,
          0.16332176149133282,
          0.1477009243954906,
          0.1415187829193444,
          0.13017318270743955,
          0.12694686379962933,
          0.1182143337218175,
          0.08536138868942639,
          0.10364241460210247,
          0.1232377570066683,
          0.13644824095175273,
          0.09134081318223741,
          0.09395388331633041,
          0.07938196419661536,
          0.1182143337218175,
          0.07938196419661536,
          0.09732023767504844,
          0.15136291250571077,
          0.12976265091705752,
          0.23083776135936057,
          0.12680682834872153,
          0.15011127754624837,
          0.10866583788695325,
          0.1182143337218175,
          0.12971553223431664,
          0.07340253970380435,
          0.1510672787542086,
          0.12955993393372234,
          0.11891540143999005,
          0.11127890802104626,
          0.11223490922900647,
          0.14172149990267957,
          0.10886855487028846,
          0.13910842976858656,
          0.08536138868942639,
          0.1208274038559105,
          0.07938196419661536,
          0.1424747841273046,
          0.2105362895334839,
          0.07938196419661536,
          0.1320329686169075,
          0.1182143337218175,
          0.11223490922900647,
          0.11746104949719247,
          0.1450878542613976,
          0.11223490922900647,
          0.12680682834872153,
          0.09636423646708821,
          0.1477009243954906,
          0.11223490922900647,
          0.16859502044225966,
          0.10625548473619545,
          0.08536138868942639,
          0.09732023767504844,
          0.1477009243954906,
          0.1208274038559105,
          0.10625548473619545,
          0.09732023767504844,
          0.08440538748146617,
          0.10098222578526862,
          0.1415187829193444,
          0.14036006472804896,
          0.10284201169473658,
          0.10625548473619545,
          0.2203804191198503,
          0.0903848119742772,
          0.22269785550244114,
          0.16598195030816665,
          0.1232377570066683,
          0.1304688164589417,
          0.13815242856062634,
          0.11148162500438144,
          0.13458335721857312,
          0.1477009243954906,
          0.13574207540986855,
          0.1693483046668847,
          0.11746104949719247,
          0.2678524019546973,
          0.14433457003677258,
          0.07676889406252238,
          0.11148162500438144,
          0.09134081318223741,
          0.14297313486214194,
          0.14674492318753035,
          0.14433457003677258,
          0.1566361714566376,
          0.10625548473619545,
          0.11725833251385728,
          0.2071699351747659,
          0.16261559594944863,
          0.07938196419661536,
          0.13910842976858656,
          0.09134081318223741,
          0.09134081318223741,
          0.15156562948904595,
          0.10625548473619545,
          0.1573423369985218,
          0.1477009243954906,
          0.09134081318223741,
          0.2043541480573377,
          0.0879744588235194,
          0.16261559594944863,
          0.1510672787542086,
          0.11223490922900647,
          0.09134081318223741,
          0.11560126358772452,
          0.10027606024338444,
          0.13910842976858656,
          0.14654220620419517,
          0.14056278171138414,
          0.15136291250571077,
          0.10962183909491349,
          0.12680682834872153
         ],
         "xaxis": "x",
         "y": [
          0,
          0,
          0,
          0,
          0,
          0,
          0,
          0,
          0,
          0,
          0,
          0,
          2,
          0,
          0,
          0,
          0,
          0,
          0,
          0,
          0,
          0,
          1,
          0,
          0,
          0,
          0,
          0,
          0,
          0,
          0,
          0,
          0,
          0,
          0,
          1,
          1,
          1,
          1,
          0,
          0,
          0,
          2,
          0,
          0,
          0,
          0,
          0,
          0,
          0,
          1,
          0,
          0,
          0,
          0,
          0,
          1,
          0,
          0,
          2,
          2,
          1,
          1,
          0,
          0,
          0,
          0,
          1,
          0,
          0,
          0,
          0,
          1,
          0,
          0,
          0,
          1,
          0,
          2,
          0,
          0,
          0,
          0,
          0,
          0,
          0,
          0,
          0,
          0,
          0,
          0,
          0,
          0,
          0,
          0,
          0,
          1,
          0,
          0,
          0,
          0,
          0,
          0,
          0,
          0,
          0,
          0,
          0,
          0,
          0,
          0,
          1,
          0,
          0,
          0,
          0,
          0,
          0,
          0,
          0,
          0,
          0,
          0,
          0,
          0,
          0,
          0,
          0,
          0,
          0,
          0,
          0,
          1,
          0,
          0,
          0,
          0,
          1,
          0,
          0,
          0,
          1,
          0,
          0,
          0,
          0,
          0,
          0,
          0,
          1,
          0,
          0,
          0,
          0,
          1,
          0,
          0,
          0,
          0,
          0,
          0,
          0,
          0,
          0,
          0,
          0,
          0,
          0,
          0,
          0,
          0,
          1,
          0,
          0,
          0,
          0,
          0,
          0,
          0,
          0,
          0,
          0,
          1,
          1,
          0,
          0,
          0,
          0,
          0,
          0,
          0,
          0,
          0,
          0,
          0,
          0,
          0,
          0,
          0,
          1,
          0,
          0,
          0,
          1,
          0,
          0,
          2,
          0,
          0,
          1,
          0,
          0,
          0,
          0,
          0,
          1,
          0,
          1,
          0,
          1,
          1,
          1,
          1,
          1,
          0,
          0,
          0,
          0,
          0,
          0,
          0,
          0,
          0,
          0,
          0,
          0,
          0,
          0,
          0,
          0,
          0,
          0,
          0,
          0,
          0,
          0,
          0,
          0,
          0,
          0,
          0,
          0,
          0,
          0,
          0,
          0,
          0,
          0,
          0,
          0,
          0,
          0,
          0,
          0,
          0,
          0,
          0,
          0,
          0,
          0,
          1,
          1,
          1,
          0,
          0,
          0,
          1,
          0,
          0,
          1,
          0,
          0,
          0,
          0,
          0,
          0,
          0,
          0,
          0,
          0,
          0,
          0,
          0,
          0,
          0,
          0,
          0,
          0,
          0,
          1,
          0,
          0,
          1,
          0,
          0,
          0,
          0,
          0,
          0,
          0,
          0,
          0,
          1,
          0,
          0,
          0,
          2,
          0,
          0,
          0,
          0,
          0,
          0,
          0,
          0,
          0,
          0,
          0,
          0,
          0,
          0,
          0,
          0,
          0,
          0,
          0,
          0,
          0,
          1,
          0,
          0,
          0,
          0,
          0,
          0,
          0,
          1,
          0,
          0,
          0,
          0,
          1,
          0,
          0,
          0,
          0,
          0,
          0,
          0,
          0,
          0,
          0,
          1,
          0,
          0,
          0,
          0,
          0,
          0,
          0,
          0,
          0,
          0,
          0,
          0,
          0,
          0,
          0,
          0,
          0,
          0,
          0,
          0,
          0,
          0,
          0,
          0,
          0,
          0,
          0,
          0,
          0,
          0,
          1,
          0,
          0,
          0,
          0,
          0,
          0,
          0,
          0,
          1,
          0,
          0,
          0,
          0,
          0,
          0,
          0,
          0,
          0,
          0,
          0,
          0,
          0,
          0,
          0,
          0,
          0,
          1,
          0,
          0,
          0,
          1,
          0,
          2,
          0,
          1,
          0,
          0,
          1,
          0,
          0,
          1,
          0,
          0,
          0,
          0,
          1,
          1,
          0,
          0,
          0,
          0,
          0,
          0,
          1,
          0,
          0,
          0,
          0,
          0,
          0,
          0,
          0,
          0,
          0,
          0,
          0,
          0,
          0,
          0,
          0,
          1,
          0,
          0,
          0,
          0,
          0,
          0,
          0,
          0,
          1,
          0,
          0,
          0,
          0,
          0,
          0,
          0,
          0,
          0,
          0,
          0,
          0,
          0,
          0,
          0,
          0,
          0,
          0,
          0,
          0,
          0,
          1,
          0,
          0,
          0,
          0,
          0,
          0,
          0,
          0,
          0,
          0,
          0,
          0,
          0,
          0,
          0,
          0,
          0,
          0,
          0,
          0,
          0,
          0,
          0,
          0,
          0,
          0,
          0,
          1,
          0,
          0,
          0,
          0,
          0,
          1,
          0,
          1,
          0,
          0,
          0,
          0,
          0,
          0,
          0,
          0,
          0,
          0,
          0,
          0,
          0,
          0,
          0,
          1,
          0,
          2,
          0,
          0,
          0,
          0,
          0,
          0,
          0,
          0,
          0,
          0,
          0,
          0,
          0,
          0,
          0,
          0,
          0,
          0,
          0,
          0,
          1,
          0,
          0,
          0,
          0,
          2,
          0,
          0,
          0,
          0,
          0,
          0,
          0,
          0,
          0,
          0,
          0,
          0,
          0,
          0,
          0,
          0,
          0,
          0,
          0,
          0,
          0,
          0,
          0,
          0,
          0,
          1,
          0,
          0,
          0,
          0,
          0,
          0,
          0,
          0,
          0,
          0,
          0,
          0,
          0,
          0,
          1,
          0,
          0,
          0,
          1,
          0,
          0,
          0,
          1,
          0,
          0,
          0,
          0,
          0,
          0,
          0,
          0,
          0,
          0,
          0,
          0,
          0,
          1,
          0,
          0,
          0,
          0,
          0,
          2,
          0,
          0,
          1,
          2,
          0,
          0,
          0,
          0,
          0,
          0,
          0,
          0,
          0,
          0,
          0,
          0,
          0,
          0,
          0,
          0,
          0,
          0,
          1,
          0,
          0,
          1,
          0,
          0,
          0,
          0,
          0,
          0,
          0,
          0,
          0,
          0,
          0,
          0,
          0,
          0,
          0,
          0,
          0,
          0,
          0,
          0,
          0,
          0,
          0,
          0,
          0,
          1,
          0,
          0,
          0,
          1,
          0,
          0,
          1,
          0,
          0,
          0,
          0,
          0,
          0,
          1,
          0,
          0,
          0,
          0,
          0,
          0,
          0,
          0,
          0,
          0,
          0,
          0,
          0,
          0,
          1,
          0,
          0,
          0,
          0,
          0,
          0,
          0,
          1,
          0,
          0,
          0,
          0,
          0,
          0,
          0,
          0,
          0,
          0,
          0,
          0,
          0,
          0,
          0,
          0,
          0,
          0,
          0,
          0,
          0,
          0,
          0,
          0,
          0,
          0,
          0,
          0,
          0,
          0,
          0,
          0,
          0,
          0,
          0,
          0,
          0,
          0,
          0,
          0,
          1,
          0,
          0,
          0,
          0,
          1,
          1,
          0,
          0,
          0,
          0,
          0,
          0,
          0,
          0,
          0,
          0,
          0,
          0,
          0,
          0,
          0,
          0,
          0,
          0,
          0,
          0,
          0,
          0,
          0,
          0,
          1,
          0,
          0,
          0,
          0,
          0,
          0,
          1,
          0,
          0,
          0,
          0,
          0,
          0,
          0,
          0,
          0,
          1,
          0,
          0,
          0,
          0,
          0,
          0,
          1,
          1,
          0,
          0,
          0,
          0,
          0,
          0,
          0,
          0,
          0,
          0,
          0,
          0,
          0,
          0,
          0,
          0,
          0,
          0,
          0,
          0,
          0,
          0,
          0,
          0,
          0,
          0,
          0,
          0,
          0,
          0,
          1,
          0,
          0,
          0,
          0,
          1,
          0,
          0,
          0,
          0,
          0,
          0,
          1,
          0,
          0,
          0,
          0,
          1,
          0,
          1,
          0,
          0,
          0,
          0,
          0,
          0,
          0,
          0,
          0,
          1,
          0,
          0,
          0,
          0,
          0,
          0,
          0,
          0,
          0,
          0,
          0,
          0,
          0,
          0,
          0,
          0,
          0,
          0,
          1,
          0,
          0,
          1,
          1,
          0,
          0,
          0,
          0,
          0,
          0,
          0,
          0,
          0,
          0,
          0,
          0
         ],
         "yaxis": "y"
        }
       ],
       "layout": {
        "legend": {
         "tracegroupgap": 0
        },
        "margin": {
         "t": 60
        },
        "template": {
         "data": {
          "bar": [
           {
            "error_x": {
             "color": "#2a3f5f"
            },
            "error_y": {
             "color": "#2a3f5f"
            },
            "marker": {
             "line": {
              "color": "#E5ECF6",
              "width": 0.5
             },
             "pattern": {
              "fillmode": "overlay",
              "size": 10,
              "solidity": 0.2
             }
            },
            "type": "bar"
           }
          ],
          "barpolar": [
           {
            "marker": {
             "line": {
              "color": "#E5ECF6",
              "width": 0.5
             },
             "pattern": {
              "fillmode": "overlay",
              "size": 10,
              "solidity": 0.2
             }
            },
            "type": "barpolar"
           }
          ],
          "carpet": [
           {
            "aaxis": {
             "endlinecolor": "#2a3f5f",
             "gridcolor": "white",
             "linecolor": "white",
             "minorgridcolor": "white",
             "startlinecolor": "#2a3f5f"
            },
            "baxis": {
             "endlinecolor": "#2a3f5f",
             "gridcolor": "white",
             "linecolor": "white",
             "minorgridcolor": "white",
             "startlinecolor": "#2a3f5f"
            },
            "type": "carpet"
           }
          ],
          "choropleth": [
           {
            "colorbar": {
             "outlinewidth": 0,
             "ticks": ""
            },
            "type": "choropleth"
           }
          ],
          "contour": [
           {
            "colorbar": {
             "outlinewidth": 0,
             "ticks": ""
            },
            "colorscale": [
             [
              0,
              "#0d0887"
             ],
             [
              0.1111111111111111,
              "#46039f"
             ],
             [
              0.2222222222222222,
              "#7201a8"
             ],
             [
              0.3333333333333333,
              "#9c179e"
             ],
             [
              0.4444444444444444,
              "#bd3786"
             ],
             [
              0.5555555555555556,
              "#d8576b"
             ],
             [
              0.6666666666666666,
              "#ed7953"
             ],
             [
              0.7777777777777778,
              "#fb9f3a"
             ],
             [
              0.8888888888888888,
              "#fdca26"
             ],
             [
              1,
              "#f0f921"
             ]
            ],
            "type": "contour"
           }
          ],
          "contourcarpet": [
           {
            "colorbar": {
             "outlinewidth": 0,
             "ticks": ""
            },
            "type": "contourcarpet"
           }
          ],
          "heatmap": [
           {
            "colorbar": {
             "outlinewidth": 0,
             "ticks": ""
            },
            "colorscale": [
             [
              0,
              "#0d0887"
             ],
             [
              0.1111111111111111,
              "#46039f"
             ],
             [
              0.2222222222222222,
              "#7201a8"
             ],
             [
              0.3333333333333333,
              "#9c179e"
             ],
             [
              0.4444444444444444,
              "#bd3786"
             ],
             [
              0.5555555555555556,
              "#d8576b"
             ],
             [
              0.6666666666666666,
              "#ed7953"
             ],
             [
              0.7777777777777778,
              "#fb9f3a"
             ],
             [
              0.8888888888888888,
              "#fdca26"
             ],
             [
              1,
              "#f0f921"
             ]
            ],
            "type": "heatmap"
           }
          ],
          "heatmapgl": [
           {
            "colorbar": {
             "outlinewidth": 0,
             "ticks": ""
            },
            "colorscale": [
             [
              0,
              "#0d0887"
             ],
             [
              0.1111111111111111,
              "#46039f"
             ],
             [
              0.2222222222222222,
              "#7201a8"
             ],
             [
              0.3333333333333333,
              "#9c179e"
             ],
             [
              0.4444444444444444,
              "#bd3786"
             ],
             [
              0.5555555555555556,
              "#d8576b"
             ],
             [
              0.6666666666666666,
              "#ed7953"
             ],
             [
              0.7777777777777778,
              "#fb9f3a"
             ],
             [
              0.8888888888888888,
              "#fdca26"
             ],
             [
              1,
              "#f0f921"
             ]
            ],
            "type": "heatmapgl"
           }
          ],
          "histogram": [
           {
            "marker": {
             "pattern": {
              "fillmode": "overlay",
              "size": 10,
              "solidity": 0.2
             }
            },
            "type": "histogram"
           }
          ],
          "histogram2d": [
           {
            "colorbar": {
             "outlinewidth": 0,
             "ticks": ""
            },
            "colorscale": [
             [
              0,
              "#0d0887"
             ],
             [
              0.1111111111111111,
              "#46039f"
             ],
             [
              0.2222222222222222,
              "#7201a8"
             ],
             [
              0.3333333333333333,
              "#9c179e"
             ],
             [
              0.4444444444444444,
              "#bd3786"
             ],
             [
              0.5555555555555556,
              "#d8576b"
             ],
             [
              0.6666666666666666,
              "#ed7953"
             ],
             [
              0.7777777777777778,
              "#fb9f3a"
             ],
             [
              0.8888888888888888,
              "#fdca26"
             ],
             [
              1,
              "#f0f921"
             ]
            ],
            "type": "histogram2d"
           }
          ],
          "histogram2dcontour": [
           {
            "colorbar": {
             "outlinewidth": 0,
             "ticks": ""
            },
            "colorscale": [
             [
              0,
              "#0d0887"
             ],
             [
              0.1111111111111111,
              "#46039f"
             ],
             [
              0.2222222222222222,
              "#7201a8"
             ],
             [
              0.3333333333333333,
              "#9c179e"
             ],
             [
              0.4444444444444444,
              "#bd3786"
             ],
             [
              0.5555555555555556,
              "#d8576b"
             ],
             [
              0.6666666666666666,
              "#ed7953"
             ],
             [
              0.7777777777777778,
              "#fb9f3a"
             ],
             [
              0.8888888888888888,
              "#fdca26"
             ],
             [
              1,
              "#f0f921"
             ]
            ],
            "type": "histogram2dcontour"
           }
          ],
          "mesh3d": [
           {
            "colorbar": {
             "outlinewidth": 0,
             "ticks": ""
            },
            "type": "mesh3d"
           }
          ],
          "parcoords": [
           {
            "line": {
             "colorbar": {
              "outlinewidth": 0,
              "ticks": ""
             }
            },
            "type": "parcoords"
           }
          ],
          "pie": [
           {
            "automargin": true,
            "type": "pie"
           }
          ],
          "scatter": [
           {
            "marker": {
             "colorbar": {
              "outlinewidth": 0,
              "ticks": ""
             }
            },
            "type": "scatter"
           }
          ],
          "scatter3d": [
           {
            "line": {
             "colorbar": {
              "outlinewidth": 0,
              "ticks": ""
             }
            },
            "marker": {
             "colorbar": {
              "outlinewidth": 0,
              "ticks": ""
             }
            },
            "type": "scatter3d"
           }
          ],
          "scattercarpet": [
           {
            "marker": {
             "colorbar": {
              "outlinewidth": 0,
              "ticks": ""
             }
            },
            "type": "scattercarpet"
           }
          ],
          "scattergeo": [
           {
            "marker": {
             "colorbar": {
              "outlinewidth": 0,
              "ticks": ""
             }
            },
            "type": "scattergeo"
           }
          ],
          "scattergl": [
           {
            "marker": {
             "colorbar": {
              "outlinewidth": 0,
              "ticks": ""
             }
            },
            "type": "scattergl"
           }
          ],
          "scattermapbox": [
           {
            "marker": {
             "colorbar": {
              "outlinewidth": 0,
              "ticks": ""
             }
            },
            "type": "scattermapbox"
           }
          ],
          "scatterpolar": [
           {
            "marker": {
             "colorbar": {
              "outlinewidth": 0,
              "ticks": ""
             }
            },
            "type": "scatterpolar"
           }
          ],
          "scatterpolargl": [
           {
            "marker": {
             "colorbar": {
              "outlinewidth": 0,
              "ticks": ""
             }
            },
            "type": "scatterpolargl"
           }
          ],
          "scatterternary": [
           {
            "marker": {
             "colorbar": {
              "outlinewidth": 0,
              "ticks": ""
             }
            },
            "type": "scatterternary"
           }
          ],
          "surface": [
           {
            "colorbar": {
             "outlinewidth": 0,
             "ticks": ""
            },
            "colorscale": [
             [
              0,
              "#0d0887"
             ],
             [
              0.1111111111111111,
              "#46039f"
             ],
             [
              0.2222222222222222,
              "#7201a8"
             ],
             [
              0.3333333333333333,
              "#9c179e"
             ],
             [
              0.4444444444444444,
              "#bd3786"
             ],
             [
              0.5555555555555556,
              "#d8576b"
             ],
             [
              0.6666666666666666,
              "#ed7953"
             ],
             [
              0.7777777777777778,
              "#fb9f3a"
             ],
             [
              0.8888888888888888,
              "#fdca26"
             ],
             [
              1,
              "#f0f921"
             ]
            ],
            "type": "surface"
           }
          ],
          "table": [
           {
            "cells": {
             "fill": {
              "color": "#EBF0F8"
             },
             "line": {
              "color": "white"
             }
            },
            "header": {
             "fill": {
              "color": "#C8D4E3"
             },
             "line": {
              "color": "white"
             }
            },
            "type": "table"
           }
          ]
         },
         "layout": {
          "annotationdefaults": {
           "arrowcolor": "#2a3f5f",
           "arrowhead": 0,
           "arrowwidth": 1
          },
          "autotypenumbers": "strict",
          "coloraxis": {
           "colorbar": {
            "outlinewidth": 0,
            "ticks": ""
           }
          },
          "colorscale": {
           "diverging": [
            [
             0,
             "#8e0152"
            ],
            [
             0.1,
             "#c51b7d"
            ],
            [
             0.2,
             "#de77ae"
            ],
            [
             0.3,
             "#f1b6da"
            ],
            [
             0.4,
             "#fde0ef"
            ],
            [
             0.5,
             "#f7f7f7"
            ],
            [
             0.6,
             "#e6f5d0"
            ],
            [
             0.7,
             "#b8e186"
            ],
            [
             0.8,
             "#7fbc41"
            ],
            [
             0.9,
             "#4d9221"
            ],
            [
             1,
             "#276419"
            ]
           ],
           "sequential": [
            [
             0,
             "#0d0887"
            ],
            [
             0.1111111111111111,
             "#46039f"
            ],
            [
             0.2222222222222222,
             "#7201a8"
            ],
            [
             0.3333333333333333,
             "#9c179e"
            ],
            [
             0.4444444444444444,
             "#bd3786"
            ],
            [
             0.5555555555555556,
             "#d8576b"
            ],
            [
             0.6666666666666666,
             "#ed7953"
            ],
            [
             0.7777777777777778,
             "#fb9f3a"
            ],
            [
             0.8888888888888888,
             "#fdca26"
            ],
            [
             1,
             "#f0f921"
            ]
           ],
           "sequentialminus": [
            [
             0,
             "#0d0887"
            ],
            [
             0.1111111111111111,
             "#46039f"
            ],
            [
             0.2222222222222222,
             "#7201a8"
            ],
            [
             0.3333333333333333,
             "#9c179e"
            ],
            [
             0.4444444444444444,
             "#bd3786"
            ],
            [
             0.5555555555555556,
             "#d8576b"
            ],
            [
             0.6666666666666666,
             "#ed7953"
            ],
            [
             0.7777777777777778,
             "#fb9f3a"
            ],
            [
             0.8888888888888888,
             "#fdca26"
            ],
            [
             1,
             "#f0f921"
            ]
           ]
          },
          "colorway": [
           "#636efa",
           "#EF553B",
           "#00cc96",
           "#ab63fa",
           "#FFA15A",
           "#19d3f3",
           "#FF6692",
           "#B6E880",
           "#FF97FF",
           "#FECB52"
          ],
          "font": {
           "color": "#2a3f5f"
          },
          "geo": {
           "bgcolor": "white",
           "lakecolor": "white",
           "landcolor": "#E5ECF6",
           "showlakes": true,
           "showland": true,
           "subunitcolor": "white"
          },
          "hoverlabel": {
           "align": "left"
          },
          "hovermode": "closest",
          "mapbox": {
           "style": "light"
          },
          "paper_bgcolor": "white",
          "plot_bgcolor": "#E5ECF6",
          "polar": {
           "angularaxis": {
            "gridcolor": "white",
            "linecolor": "white",
            "ticks": ""
           },
           "bgcolor": "#E5ECF6",
           "radialaxis": {
            "gridcolor": "white",
            "linecolor": "white",
            "ticks": ""
           }
          },
          "scene": {
           "xaxis": {
            "backgroundcolor": "#E5ECF6",
            "gridcolor": "white",
            "gridwidth": 2,
            "linecolor": "white",
            "showbackground": true,
            "ticks": "",
            "zerolinecolor": "white"
           },
           "yaxis": {
            "backgroundcolor": "#E5ECF6",
            "gridcolor": "white",
            "gridwidth": 2,
            "linecolor": "white",
            "showbackground": true,
            "ticks": "",
            "zerolinecolor": "white"
           },
           "zaxis": {
            "backgroundcolor": "#E5ECF6",
            "gridcolor": "white",
            "gridwidth": 2,
            "linecolor": "white",
            "showbackground": true,
            "ticks": "",
            "zerolinecolor": "white"
           }
          },
          "shapedefaults": {
           "line": {
            "color": "#2a3f5f"
           }
          },
          "ternary": {
           "aaxis": {
            "gridcolor": "white",
            "linecolor": "white",
            "ticks": ""
           },
           "baxis": {
            "gridcolor": "white",
            "linecolor": "white",
            "ticks": ""
           },
           "bgcolor": "#E5ECF6",
           "caxis": {
            "gridcolor": "white",
            "linecolor": "white",
            "ticks": ""
           }
          },
          "title": {
           "x": 0.05
          },
          "xaxis": {
           "automargin": true,
           "gridcolor": "white",
           "linecolor": "white",
           "ticks": "",
           "title": {
            "standoff": 15
           },
           "zerolinecolor": "white",
           "zerolinewidth": 2
          },
          "yaxis": {
           "automargin": true,
           "gridcolor": "white",
           "linecolor": "white",
           "ticks": "",
           "title": {
            "standoff": 15
           },
           "zerolinecolor": "white",
           "zerolinewidth": 2
          }
         }
        },
        "xaxis": {
         "anchor": "y",
         "domain": [
          0,
          1
         ],
         "title": {
          "text": "x"
         }
        },
        "yaxis": {
         "anchor": "x",
         "domain": [
          0,
          1
         ],
         "title": {
          "text": "y"
         }
        }
       }
      },
      "text/html": [
       "<div>                            <div id=\"c7b940c1-ce8d-43cd-a9bd-10d74cf6e8c3\" class=\"plotly-graph-div\" style=\"height:525px; width:100%;\"></div>            <script type=\"text/javascript\">                require([\"plotly\"], function(Plotly) {                    window.PLOTLYENV=window.PLOTLYENV || {};                                    if (document.getElementById(\"c7b940c1-ce8d-43cd-a9bd-10d74cf6e8c3\")) {                    Plotly.newPlot(                        \"c7b940c1-ce8d-43cd-a9bd-10d74cf6e8c3\",                        [{\"hovertemplate\":\"x=%{x}<br>y=%{y}<extra></extra>\",\"legendgroup\":\"\",\"marker\":{\"color\":\"#636efa\",\"symbol\":\"circle\"},\"mode\":\"markers\",\"name\":\"\",\"orientation\":\"v\",\"showlegend\":false,\"type\":\"scatter\",\"x\":[0.14172149990267957,0.11746104949719247,0.2234511397270662,0.17959786821992146,0.21747171523425518,0.1182143337218175,0.07938196419661536,0.11223490922900647,0.1450878542613976,0.17487007868657284,0.12158068808053554,0.1450878542613976,0.15368034888830162,0.11223490922900647,0.13278625284153256,0.25891715489355027,0.08536138868942639,0.10886855487028846,0.15443363311292663,0.09395388331633041,0.15292706466367656,0.13017318270743955,0.1319702870844801,0.11589689733922667,0.1450878542613976,0.18904956926582245,0.11223490922900647,0.12248447278204326,0.08158960036403798,0.10886855487028846,0.1206246868725753,0.10027606024338444,0.11484797936309948,0.07340253970380435,0.11127890802104626,0.09395388331633041,0.1560907020390594,0.13890571278525138,0.1278557463248487,0.14990856056291318,0.17457444493507068,0.1208274038559105,0.2704654720887903,0.11946596868127989,0.11223490922900647,0.12419375821462852,0.13910842976858656,0.15231891371367098,0.08536138868942639,0.0827483185553334,0.09395388331633041,0.10625548473619545,0.11484797936309948,0.13017318270743955,0.12419375821462852,0.07938196419661536,0.1340378878009949,0.1415187829193444,0.11560126358772452,0.26780528327195646,0.17382116071044562,0.28222160409107716,0.11368926117180406,0.17678208110249327,0.13910842976858656,0.14076549869471933,0.12976265091705752,0.1182143337218175,0.08179231734737318,0.10027606024338444,0.12344047399000349,0.07938196419661536,0.19687325293898822,0.13017318270743955,0.13217300406781532,0.07340253970380435,0.24695830590792822,0.0950028012924576,0.2752861783903059,0.2297733166541202,0.14874984237161776,0.09134081318223741,0.14172149990267957,0.1182143337218175,0.09134081318223741,0.07938196419661536,0.10027606024338444,0.0879744588235194,0.11464526237976427,0.16930118598414384,0.09993330780914143,0.1450878542613976,0.12419375821462852,0.17718751506916366,0.07938196419661536,0.12158068808053554,0.21149229074144416,0.11328382720513366,0.15368034888830162,0.09134081318223741,0.10625548473619545,0.11746104949719247,0.1995334417558221,0.0879744588235194,0.10625548473619545,0.1182143337218175,0.23982016322382177,0.11223490922900647,0.09134081318223741,0.10625548473619545,0.09470716754095546,0.11850996747331966,0.24957137604202123,0.14799655814699275,0.08536138868942639,0.13051593514168255,0.1879876458634903,0.07938196419661536,0.1206246868725753,0.09732023767504844,0.15031399452958358,0.12605354412409647,0.11223490922900647,0.13910842976858656,0.0827483185553334,0.1182143337218175,0.09732023767504844,0.1182143337218175,0.09732023767504844,0.10625548473619545,0.17843915002862604,0.2409788814151172,0.2113980172553891,0.15368034888830162,0.13142481766690195,0.15965977338111265,0.09540823525912798,0.13910842976858656,0.12680682834872153,0.18307014477301142,0.15368034888830162,0.27121875631341535,0.1208274038559105,0.07938196419661536,0.2141053608755371,0.15513470083109918,0.11223490922900647,0.11368926117180406,0.11223490922900647,0.24434523577383527,0.11746104949719247,0.13574207540986855,0.1271495807829645,0.25198172919277906,0.13383517081765972,0.1182143337218175,0.13237572105115053,0.0903848119742772,0.08536138868942639,0.0879744588235194,0.09616151948375302,0.14749820741215539,0.1659348316254258,0.0879744588235194,0.17718751506916366,0.11484797936309948,0.09134081318223741,0.11484797936309948,0.07938196419661536,0.1396067805034239,0.07676889406252238,0.13278625284153256,0.12207903881537288,0.12680682834872153,0.10625548473619545,0.1208274038559105,0.10027606024338444,0.1182143337218175,0.14172149990267957,0.13574207540986855,0.13438064023523794,0.10625548473619545,0.17196137480097767,0.1182143337218175,0.13815242856062634,0.14433457003677258,0.24464086952533742,0.0965669534504234,0.09058752895761238,0.11223490922900647,0.12680682834872153,0.0903848119742772,0.160911408340575,0.12419375821462852,0.11464526237976427,0.1258508271407613,0.07938196419661536,0.15472926686442878,0.12489482593280107,0.15368034888830162,0.10962183909491349,0.24600230469996803,0.15397598263980378,0.2107390065168191,0.10329966216785946,0.15368034888830162,0.14392913607010216,0.13017318270743955,0.10625548473619545,0.12605354412409647,0.09134081318223741,0.07581289285456215,0.13051593514168255,0.15060962828108573,0.11705561553052209,0.2592599073277933,0.12419375821462852,0.27905796671569433,0.17507279566990802,0.1450878542613976,0.2764448965816013,0.11966868566461508,0.28483467422517017,0.14558620499623492,0.24600230469996803,0.09058752895761238,0.13574207540986855,0.11368926117180406,0.07938196419661536,0.11127890802104626,0.12344047399000349,0.11746104949719247,0.13574207540986855,0.10770983667899303,0.10886855487028846,0.07078946956971136,0.13910842976858656,0.10625548473619545,0.11107619103771106,0.09636423646708821,0.12419375821462852,0.11725833251385728,0.14935799332162336,0.18421585753810188,0.11223490922900647,0.24520696349574045,0.10625548473619545,0.15368034888830162,0.0952055182757928,0.16261559594944863,0.11368926117180406,0.08536138868942639,0.16332176149133282,0.11389197815513924,0.1510672787542086,0.1415187829193444,0.08460810446480135,0.16743630225096423,0.11223490922900647,0.11348654418846886,0.07581289285456215,0.15176834647238113,0.10886855487028846,0.08536138868942639,0.10962183909491349,0.17843915002862604,0.1450878542613976,0.1510672787542086,0.12419375821462852,0.2435919515492102,0.20551286624863313,0.1258508271407613,0.2738318264475083,0.08536138868942639,0.10625548473619545,0.10625548473619545,0.21592308980540253,0.13794971157729113,0.101387659751939,0.15136291250571077,0.12660411136538632,0.10625548473619545,0.10288913037747743,0.15136291250571077,0.1208274038559105,0.1182143337218175,0.1477009243954906,0.18904956926582245,0.17863934570905302,0.1208274038559105,0.13910842976858656,0.11223490922900647,0.12941989848281452,0.1396067805034239,0.1182143337218175,0.10329966216785946,0.0903848119742772,0.14433457003677258,0.22269785550244114,0.1206246868725753,0.2435919515492102,0.09732023767504844,0.2827199548259145,0.10886855487028846,0.11560126358772452,0.15368034888830162,0.12680682834872153,0.15368034888830162,0.1218763218320377,0.11148162500438144,0.13910842976858656,0.1450878542613976,0.26930675389749487,0.20696721819143066,0.15890648915648758,0.11746104949719247,0.13122210068356674,0.2409788814151172,0.0991800235845164,0.13017318270743955,0.12373610774150565,0.12544539317409092,0.10886855487028846,0.1510672787542086,0.11223490922900647,0.08902337679964659,0.14990856056291318,0.11223490922900647,0.1562934190223946,0.10288913037747743,0.1182143337218175,0.090182094990942,0.1510672787542086,0.10027606024338444,0.10886855487028846,0.09134081318223741,0.10625548473619545,0.10625548473619545,0.3125674011837472,0.15060962828108573,0.1562934190223946,0.10214094397656404,0.11127890802104626,0.09058752895761238,0.1450878542613976,0.08536138868942639,0.184618770201864,0.11127890802104626,0.13910842976858656,0.14172149990267957,0.1779407992937887,0.22229242153577078,0.13815242856062634,0.14317585184547715,0.21872335019371753,0.09616151948375302,0.1831669395619747,0.11368926117180406,0.1182143337218175,0.14056278171138414,0.1232377570066683,0.1450878542613976,0.19321126482876805,0.07676889406252238,0.12158068808053554,0.14633948922086,0.14895255935495294,0.10364241460210247,0.08344938627350594,0.07938196419661536,0.08902337679964659,0.10529948352823523,0.1330818865930347,0.11223490922900647,0.16859502044225966,0.1477009243954906,0.17120809057635267,0.09993330780914143,0.13539932297562554,0.1477009243954906,0.2662882497967315,0.17196137480097767,0.2442509622877802,0.14392913607010216,0.1939645490533931,0.11746104949719247,0.1573423369985218,0.0827483185553334,0.3125674011837472,0.16522866608354164,0.09134081318223741,0.14578892197957014,0.14433457003677258,0.32115989581065124,0.15965977338111265,0.08460810446480135,0.12971553223431664,0.11223490922900647,0.07938196419661536,0.14172149990267957,0.13835514554396156,0.10288913037747743,0.20551286624863313,0.14694764017086553,0.1182143337218175,0.10886855487028846,0.14172149990267957,0.09732023767504844,0.13017318270743955,0.10118494276860382,0.11107619103771106,0.10866583788695325,0.11891540143999005,0.1182143337218175,0.23499945692230617,0.10886855487028846,0.11464526237976427,0.11223490922900647,0.2141053608755371,0.1208274038559105,0.1208274038559105,0.1271024621002237,0.16930118598414384,0.10886855487028846,0.22606420986115916,0.13312900527577554,0.1779407992937887,0.14372641908676698,0.18723184033595702,0.1477009243954906,0.1182143337218175,0.15368034888830162,0.15011127754624837,0.15176834647238113,0.2071699351747659,0.14172149990267957,0.09134081318223741,0.0952055182757928,0.1182143337218175,0.13794971157729113,0.2050131587959077,0.12344047399000349,0.11464526237976427,0.15754505398185698,0.07340253970380435,0.17863934570905302,0.11223490922900647,0.23499945692230617,0.12680682834872153,0.10288913037747743,0.11223490922900647,0.13679099338599573,0.12419375821462852,0.10962183909491349,0.17361844372711044,0.15031399452958358,0.08536138868942639,0.1804570746389184,0.0827483185553334,0.09299788210837018,0.12344047399000349,0.1182143337218175,0.12660411136538632,0.14895255935495294,0.26523933182060433,0.11328382720513366,0.07676889406252238,0.184618770201864,0.13910842976858656,0.24936865905868605,0.16227284351520563,0.12248447278204326,0.10625548473619545,0.1477009243954906,0.08536138868942639,0.16000252581535562,0.11746104949719247,0.07938196419661536,0.14654220620419517,0.09732023767504844,0.1450878542613976,0.23686434065548578,0.07340253970380435,0.12805846330818388,0.1969203716217291,0.13051593514168255,0.1232377570066683,0.14749820741215539,0.15368034888830162,0.08199503433070837,0.11630233130589704,0.13910842976858656,0.1373991443360013,0.14413185305343734,0.1182143337218175,0.1232377570066683,0.10886855487028846,0.09802130539322097,0.14277041787880676,0.1258508271407613,0.07601560983789735,0.12344047399000349,0.10625548473619545,0.08536138868942639,0.1450878542613976,0.14749820741215539,0.23499945692230617,0.14433457003677258,0.08199503433070837,0.17843915002862604,0.18682892767219486,0.13312900527577554,0.12344047399000349,0.10866583788695325,0.12419375821462852,0.11725833251385728,0.11560126358772452,0.07078946956971136,0.13835514554396156,0.19135400022220833,0.07938196419661536,0.1292171814994793,0.14172149990267957,0.12344047399000349,0.12228175579870806,0.13835514554396156,0.1534776319049664,0.12419375821462852,0.09993330780914143,0.17382116071044562,0.12419375821462852,0.10866583788695325,0.14172149990267957,0.13217300406781532,0.1208274038559105,0.1271495807829645,0.092795165125035,0.09134081318223741,0.13649535963449358,0.11746104949719247,0.11223490922900647,0.11484797936309948,0.11560126358772452,0.11609961432256186,0.16261559594944863,0.17196137480097767,0.1745273262523298,0.13910842976858656,0.08536138868942639,0.13312900527577554,0.11223490922900647,0.16256847726670776,0.10625548473619545,0.10329966216785946,0.17120809057635267,0.1182143337218175,0.19919068932157907,0.12419375821462852,0.10027606024338444,0.15086456177087343,0.1182143337218175,0.12448939196613068,0.10886855487028846,0.10886855487028846,0.1450878542613976,0.13017318270743955,0.1206246868725753,0.1477009243954906,0.11464526237976427,0.11484797936309948,0.14935799332162336,0.1558879850557242,0.10288913037747743,0.1553374178144344,0.08536138868942639,0.2503246602666463,0.1208274038559105,0.09134081318223741,0.14874984237161776,0.10098222578526862,0.17748314882066582,0.13649535963449358,0.07601560983789735,0.21747171523425518,0.11746104949719247,0.10625548473619545,0.14433457003677258,0.11223490922900647,0.12448939196613068,0.12453651064887153,0.11946596868127989,0.11926325169794469,0.1182143337218175,0.13312900527577554,0.087569024856849,0.13383517081765972,0.12680682834872153,0.10591273230195246,0.0903848119742772,0.17196137480097767,0.10625548473619545,0.21912878416038795,0.23575274114693123,0.18346257331347682,0.10962183909491349,0.12680682834872153,0.10625548473619545,0.09134081318223741,0.11484797936309948,0.1208274038559105,0.1182143337218175,0.08460810446480135,0.07938196419661536,0.11746104949719247,0.1182143337218175,0.13910842976858656,0.21149229074144416,0.10625548473619545,0.1995334417558221,0.08536138868942639,0.08872774304814443,0.12419375821462852,0.14915527633828818,0.1779407992937887,0.1477009243954906,0.13910842976858656,0.11484797936309948,0.11484797936309948,0.14433457003677258,0.10625548473619545,0.12419375821462852,0.10625548473619545,0.13312900527577554,0.08536138868942639,0.13649535963449358,0.13910842976858656,0.1510672787542086,0.2409788814151172,0.1607086913572398,0.09973059082580624,0.240776164431782,0.14654220620419517,0.14433457003677258,0.13312900527577554,0.18462129150477224,0.08440538748146617,0.13312900527577554,0.1477009243954906,0.1182143337218175,0.17457444493507068,0.11966868566461508,0.11705561553052209,0.1182143337218175,0.10886855487028846,0.10068659203376648,0.14413185305343734,0.09058752895761238,0.1484542086201156,0.10886855487028846,0.0965669534504234,0.09134081318223741,0.24434523577383527,0.09732023767504844,0.11966868566461508,0.07340253970380435,0.11223490922900647,0.1208274038559105,0.23233926810547234,0.11725833251385728,0.1208274038559105,0.14433457003677258,0.0879744588235194,0.17196137480097767,0.10866583788695325,0.0877717418401842,0.11223490922900647,0.08681574063222397,0.1510672787542086,0.0827483185553334,0.08872774304814443,0.13312900527577554,0.1320329686169075,0.11484797936309948,0.10886855487028846,0.1562934190223946,0.1232377570066683,0.11484797936309948,0.08536138868942639,0.11223490922900647,0.13910842976858656,0.1633688801740737,0.10625548473619545,0.10359529591936162,0.08199503433070837,0.14433457003677258,0.18421585753810188,0.20551286624863313,0.11223490922900647,0.2919689388884803,0.17382116071044562,0.10625548473619545,0.21747171523425518,0.23499945692230617,0.26182585877914544,0.12955993393372234,0.15031399452958358,0.0827483185553334,0.21933150114372313,0.25023038678059123,0.15086456177087343,0.18325733502723343,0.2402255971904922,0.09993330780914143,0.1182143337218175,0.08536138868942639,0.1450878542613976,0.15031399452958358,0.1292171814994793,0.13569495672712767,0.14674492318753035,0.1805538694278817,0.11630233130589704,0.11484797936309948,0.16502594910020643,0.1477009243954906,0.2726731082562129,0.13017318270743955,0.17864186701196122,0.11560126358772452,0.13217300406781532,0.1831669395619747,0.10550220051157043,0.08536138868942639,0.10886855487028846,0.15031399452958358,0.11223490922900647,0.20887922060735115,0.11685289854718689,0.11850996747331966,0.07340253970380435,0.13574207540986855,0.1208274038559105,0.17100537359301743,0.14172149990267957,0.10886855487028846,0.1182143337218175,0.1218763218320377,0.12419375821462852,0.13312900527577554,0.2823275262854491,0.09395388331633041,0.10625548473619545,0.1450878542613976,0.09732023767504844,0.10625548473619545,0.08179231734737318,0.09470716754095546,0.13051593514168255,0.1995334417558221,0.10364241460210247,0.1208274038559105,0.2614675434952159,0.0950028012924576,0.0879744588235194,0.10886855487028846,0.11484797936309948,0.15472926686442878,0.0827483185553334,0.15704670324701964,0.2771981808062264,0.08536138868942639,0.1510672787542086,0.11409469513847444,0.09732023767504844,0.1611141253239102,0.14413185305343734,0.1477009243954906,0.0879744588235194,0.13910842976858656,0.16854790175951878,0.2532804828349823,0.104000729886032,0.1218763218320377,0.14633948922086,0.11148162500438144,0.13910842976858656,0.26930675389749487,0.09877458961784602,0.1477009243954906,0.12007411963128546,0.11223490922900647,0.1477009243954906,0.1292171814994793,0.10866583788695325,0.10886855487028846,0.14413185305343734,0.13539932297562554,0.16332176149133282,0.1477009243954906,0.11127890802104626,0.08536138868942639,0.11484797936309948,0.11464526237976427,0.14413185305343734,0.23836581128102424,0.12419375821462852,0.1573423369985218,0.13553935842653336,0.11223490922900647,0.21331001967130958,0.1484542086201156,0.09134081318223741,0.1510672787542086,0.09470716754095546,0.16332176149133282,0.1477009243954906,0.1415187829193444,0.13017318270743955,0.12694686379962933,0.1182143337218175,0.08536138868942639,0.10364241460210247,0.1232377570066683,0.13644824095175273,0.09134081318223741,0.09395388331633041,0.07938196419661536,0.1182143337218175,0.07938196419661536,0.09732023767504844,0.15136291250571077,0.12976265091705752,0.23083776135936057,0.12680682834872153,0.15011127754624837,0.10866583788695325,0.1182143337218175,0.12971553223431664,0.07340253970380435,0.1510672787542086,0.12955993393372234,0.11891540143999005,0.11127890802104626,0.11223490922900647,0.14172149990267957,0.10886855487028846,0.13910842976858656,0.08536138868942639,0.1208274038559105,0.07938196419661536,0.1424747841273046,0.2105362895334839,0.07938196419661536,0.1320329686169075,0.1182143337218175,0.11223490922900647,0.11746104949719247,0.1450878542613976,0.11223490922900647,0.12680682834872153,0.09636423646708821,0.1477009243954906,0.11223490922900647,0.16859502044225966,0.10625548473619545,0.08536138868942639,0.09732023767504844,0.1477009243954906,0.1208274038559105,0.10625548473619545,0.09732023767504844,0.08440538748146617,0.10098222578526862,0.1415187829193444,0.14036006472804896,0.10284201169473658,0.10625548473619545,0.2203804191198503,0.0903848119742772,0.22269785550244114,0.16598195030816665,0.1232377570066683,0.1304688164589417,0.13815242856062634,0.11148162500438144,0.13458335721857312,0.1477009243954906,0.13574207540986855,0.1693483046668847,0.11746104949719247,0.2678524019546973,0.14433457003677258,0.07676889406252238,0.11148162500438144,0.09134081318223741,0.14297313486214194,0.14674492318753035,0.14433457003677258,0.1566361714566376,0.10625548473619545,0.11725833251385728,0.2071699351747659,0.16261559594944863,0.07938196419661536,0.13910842976858656,0.09134081318223741,0.09134081318223741,0.15156562948904595,0.10625548473619545,0.1573423369985218,0.1477009243954906,0.09134081318223741,0.2043541480573377,0.0879744588235194,0.16261559594944863,0.1510672787542086,0.11223490922900647,0.09134081318223741,0.11560126358772452,0.10027606024338444,0.13910842976858656,0.14654220620419517,0.14056278171138414,0.15136291250571077,0.10962183909491349,0.12680682834872153],\"xaxis\":\"x\",\"y\":[0.0,0.0,0.0,0.0,0.0,0.0,0.0,0.0,0.0,0.0,0.0,0.0,2.0,0.0,0.0,0.0,0.0,0.0,0.0,0.0,0.0,0.0,1.0,0.0,0.0,0.0,0.0,0.0,0.0,0.0,0.0,0.0,0.0,0.0,0.0,1.0,1.0,1.0,1.0,0.0,0.0,0.0,2.0,0.0,0.0,0.0,0.0,0.0,0.0,0.0,1.0,0.0,0.0,0.0,0.0,0.0,1.0,0.0,0.0,2.0,2.0,1.0,1.0,0.0,0.0,0.0,0.0,1.0,0.0,0.0,0.0,0.0,1.0,0.0,0.0,0.0,1.0,0.0,2.0,0.0,0.0,0.0,0.0,0.0,0.0,0.0,0.0,0.0,0.0,0.0,0.0,0.0,0.0,0.0,0.0,0.0,1.0,0.0,0.0,0.0,0.0,0.0,0.0,0.0,0.0,0.0,0.0,0.0,0.0,0.0,0.0,1.0,0.0,0.0,0.0,0.0,0.0,0.0,0.0,0.0,0.0,0.0,0.0,0.0,0.0,0.0,0.0,0.0,0.0,0.0,0.0,0.0,1.0,0.0,0.0,0.0,0.0,1.0,0.0,0.0,0.0,1.0,0.0,0.0,0.0,0.0,0.0,0.0,0.0,1.0,0.0,0.0,0.0,0.0,1.0,0.0,0.0,0.0,0.0,0.0,0.0,0.0,0.0,0.0,0.0,0.0,0.0,0.0,0.0,0.0,0.0,1.0,0.0,0.0,0.0,0.0,0.0,0.0,0.0,0.0,0.0,0.0,1.0,1.0,0.0,0.0,0.0,0.0,0.0,0.0,0.0,0.0,0.0,0.0,0.0,0.0,0.0,0.0,0.0,1.0,0.0,0.0,0.0,1.0,0.0,0.0,2.0,0.0,0.0,1.0,0.0,0.0,0.0,0.0,0.0,1.0,0.0,1.0,0.0,1.0,1.0,1.0,1.0,1.0,0.0,0.0,0.0,0.0,0.0,0.0,0.0,0.0,0.0,0.0,0.0,0.0,0.0,0.0,0.0,0.0,0.0,0.0,0.0,0.0,0.0,0.0,0.0,0.0,0.0,0.0,0.0,0.0,0.0,0.0,0.0,0.0,0.0,0.0,0.0,0.0,0.0,0.0,0.0,0.0,0.0,0.0,0.0,0.0,0.0,0.0,1.0,1.0,1.0,0.0,0.0,0.0,1.0,0.0,0.0,1.0,0.0,0.0,0.0,0.0,0.0,0.0,0.0,0.0,0.0,0.0,0.0,0.0,0.0,0.0,0.0,0.0,0.0,0.0,0.0,1.0,0.0,0.0,1.0,0.0,0.0,0.0,0.0,0.0,0.0,0.0,0.0,0.0,1.0,0.0,0.0,0.0,2.0,0.0,0.0,0.0,0.0,0.0,0.0,0.0,0.0,0.0,0.0,0.0,0.0,0.0,0.0,0.0,0.0,0.0,0.0,0.0,0.0,0.0,1.0,0.0,0.0,0.0,0.0,0.0,0.0,0.0,1.0,0.0,0.0,0.0,0.0,1.0,0.0,0.0,0.0,0.0,0.0,0.0,0.0,0.0,0.0,0.0,1.0,0.0,0.0,0.0,0.0,0.0,0.0,0.0,0.0,0.0,0.0,0.0,0.0,0.0,0.0,0.0,0.0,0.0,0.0,0.0,0.0,0.0,0.0,0.0,0.0,0.0,0.0,0.0,0.0,0.0,0.0,1.0,0.0,0.0,0.0,0.0,0.0,0.0,0.0,0.0,1.0,0.0,0.0,0.0,0.0,0.0,0.0,0.0,0.0,0.0,0.0,0.0,0.0,0.0,0.0,0.0,0.0,0.0,1.0,0.0,0.0,0.0,1.0,0.0,2.0,0.0,1.0,0.0,0.0,1.0,0.0,0.0,1.0,0.0,0.0,0.0,0.0,1.0,1.0,0.0,0.0,0.0,0.0,0.0,0.0,1.0,0.0,0.0,0.0,0.0,0.0,0.0,0.0,0.0,0.0,0.0,0.0,0.0,0.0,0.0,0.0,0.0,1.0,0.0,0.0,0.0,0.0,0.0,0.0,0.0,0.0,1.0,0.0,0.0,0.0,0.0,0.0,0.0,0.0,0.0,0.0,0.0,0.0,0.0,0.0,0.0,0.0,0.0,0.0,0.0,0.0,0.0,0.0,1.0,0.0,0.0,0.0,0.0,0.0,0.0,0.0,0.0,0.0,0.0,0.0,0.0,0.0,0.0,0.0,0.0,0.0,0.0,0.0,0.0,0.0,0.0,0.0,0.0,0.0,0.0,0.0,1.0,0.0,0.0,0.0,0.0,0.0,1.0,0.0,1.0,0.0,0.0,0.0,0.0,0.0,0.0,0.0,0.0,0.0,0.0,0.0,0.0,0.0,0.0,0.0,1.0,0.0,2.0,0.0,0.0,0.0,0.0,0.0,0.0,0.0,0.0,0.0,0.0,0.0,0.0,0.0,0.0,0.0,0.0,0.0,0.0,0.0,0.0,1.0,0.0,0.0,0.0,0.0,2.0,0.0,0.0,0.0,0.0,0.0,0.0,0.0,0.0,0.0,0.0,0.0,0.0,0.0,0.0,0.0,0.0,0.0,0.0,0.0,0.0,0.0,0.0,0.0,0.0,0.0,1.0,0.0,0.0,0.0,0.0,0.0,0.0,0.0,0.0,0.0,0.0,0.0,0.0,0.0,0.0,1.0,0.0,0.0,0.0,1.0,0.0,0.0,0.0,1.0,0.0,0.0,0.0,0.0,0.0,0.0,0.0,0.0,0.0,0.0,0.0,0.0,0.0,1.0,0.0,0.0,0.0,0.0,0.0,2.0,0.0,0.0,1.0,2.0,0.0,0.0,0.0,0.0,0.0,0.0,0.0,0.0,0.0,0.0,0.0,0.0,0.0,0.0,0.0,0.0,0.0,0.0,1.0,0.0,0.0,1.0,0.0,0.0,0.0,0.0,0.0,0.0,0.0,0.0,0.0,0.0,0.0,0.0,0.0,0.0,0.0,0.0,0.0,0.0,0.0,0.0,0.0,0.0,0.0,0.0,0.0,1.0,0.0,0.0,0.0,1.0,0.0,0.0,1.0,0.0,0.0,0.0,0.0,0.0,0.0,1.0,0.0,0.0,0.0,0.0,0.0,0.0,0.0,0.0,0.0,0.0,0.0,0.0,0.0,0.0,1.0,0.0,0.0,0.0,0.0,0.0,0.0,0.0,1.0,0.0,0.0,0.0,0.0,0.0,0.0,0.0,0.0,0.0,0.0,0.0,0.0,0.0,0.0,0.0,0.0,0.0,0.0,0.0,0.0,0.0,0.0,0.0,0.0,0.0,0.0,0.0,0.0,0.0,0.0,0.0,0.0,0.0,0.0,0.0,0.0,0.0,0.0,0.0,0.0,1.0,0.0,0.0,0.0,0.0,1.0,1.0,0.0,0.0,0.0,0.0,0.0,0.0,0.0,0.0,0.0,0.0,0.0,0.0,0.0,0.0,0.0,0.0,0.0,0.0,0.0,0.0,0.0,0.0,0.0,0.0,1.0,0.0,0.0,0.0,0.0,0.0,0.0,1.0,0.0,0.0,0.0,0.0,0.0,0.0,0.0,0.0,0.0,1.0,0.0,0.0,0.0,0.0,0.0,0.0,1.0,1.0,0.0,0.0,0.0,0.0,0.0,0.0,0.0,0.0,0.0,0.0,0.0,0.0,0.0,0.0,0.0,0.0,0.0,0.0,0.0,0.0,0.0,0.0,0.0,0.0,0.0,0.0,0.0,0.0,0.0,0.0,1.0,0.0,0.0,0.0,0.0,1.0,0.0,0.0,0.0,0.0,0.0,0.0,1.0,0.0,0.0,0.0,0.0,1.0,0.0,1.0,0.0,0.0,0.0,0.0,0.0,0.0,0.0,0.0,0.0,1.0,0.0,0.0,0.0,0.0,0.0,0.0,0.0,0.0,0.0,0.0,0.0,0.0,0.0,0.0,0.0,0.0,0.0,0.0,1.0,0.0,0.0,1.0,1.0,0.0,0.0,0.0,0.0,0.0,0.0,0.0,0.0,0.0,0.0,0.0,0.0],\"yaxis\":\"y\"}],                        {\"legend\":{\"tracegroupgap\":0},\"margin\":{\"t\":60},\"template\":{\"data\":{\"bar\":[{\"error_x\":{\"color\":\"#2a3f5f\"},\"error_y\":{\"color\":\"#2a3f5f\"},\"marker\":{\"line\":{\"color\":\"#E5ECF6\",\"width\":0.5},\"pattern\":{\"fillmode\":\"overlay\",\"size\":10,\"solidity\":0.2}},\"type\":\"bar\"}],\"barpolar\":[{\"marker\":{\"line\":{\"color\":\"#E5ECF6\",\"width\":0.5},\"pattern\":{\"fillmode\":\"overlay\",\"size\":10,\"solidity\":0.2}},\"type\":\"barpolar\"}],\"carpet\":[{\"aaxis\":{\"endlinecolor\":\"#2a3f5f\",\"gridcolor\":\"white\",\"linecolor\":\"white\",\"minorgridcolor\":\"white\",\"startlinecolor\":\"#2a3f5f\"},\"baxis\":{\"endlinecolor\":\"#2a3f5f\",\"gridcolor\":\"white\",\"linecolor\":\"white\",\"minorgridcolor\":\"white\",\"startlinecolor\":\"#2a3f5f\"},\"type\":\"carpet\"}],\"choropleth\":[{\"colorbar\":{\"outlinewidth\":0,\"ticks\":\"\"},\"type\":\"choropleth\"}],\"contour\":[{\"colorbar\":{\"outlinewidth\":0,\"ticks\":\"\"},\"colorscale\":[[0.0,\"#0d0887\"],[0.1111111111111111,\"#46039f\"],[0.2222222222222222,\"#7201a8\"],[0.3333333333333333,\"#9c179e\"],[0.4444444444444444,\"#bd3786\"],[0.5555555555555556,\"#d8576b\"],[0.6666666666666666,\"#ed7953\"],[0.7777777777777778,\"#fb9f3a\"],[0.8888888888888888,\"#fdca26\"],[1.0,\"#f0f921\"]],\"type\":\"contour\"}],\"contourcarpet\":[{\"colorbar\":{\"outlinewidth\":0,\"ticks\":\"\"},\"type\":\"contourcarpet\"}],\"heatmap\":[{\"colorbar\":{\"outlinewidth\":0,\"ticks\":\"\"},\"colorscale\":[[0.0,\"#0d0887\"],[0.1111111111111111,\"#46039f\"],[0.2222222222222222,\"#7201a8\"],[0.3333333333333333,\"#9c179e\"],[0.4444444444444444,\"#bd3786\"],[0.5555555555555556,\"#d8576b\"],[0.6666666666666666,\"#ed7953\"],[0.7777777777777778,\"#fb9f3a\"],[0.8888888888888888,\"#fdca26\"],[1.0,\"#f0f921\"]],\"type\":\"heatmap\"}],\"heatmapgl\":[{\"colorbar\":{\"outlinewidth\":0,\"ticks\":\"\"},\"colorscale\":[[0.0,\"#0d0887\"],[0.1111111111111111,\"#46039f\"],[0.2222222222222222,\"#7201a8\"],[0.3333333333333333,\"#9c179e\"],[0.4444444444444444,\"#bd3786\"],[0.5555555555555556,\"#d8576b\"],[0.6666666666666666,\"#ed7953\"],[0.7777777777777778,\"#fb9f3a\"],[0.8888888888888888,\"#fdca26\"],[1.0,\"#f0f921\"]],\"type\":\"heatmapgl\"}],\"histogram\":[{\"marker\":{\"pattern\":{\"fillmode\":\"overlay\",\"size\":10,\"solidity\":0.2}},\"type\":\"histogram\"}],\"histogram2d\":[{\"colorbar\":{\"outlinewidth\":0,\"ticks\":\"\"},\"colorscale\":[[0.0,\"#0d0887\"],[0.1111111111111111,\"#46039f\"],[0.2222222222222222,\"#7201a8\"],[0.3333333333333333,\"#9c179e\"],[0.4444444444444444,\"#bd3786\"],[0.5555555555555556,\"#d8576b\"],[0.6666666666666666,\"#ed7953\"],[0.7777777777777778,\"#fb9f3a\"],[0.8888888888888888,\"#fdca26\"],[1.0,\"#f0f921\"]],\"type\":\"histogram2d\"}],\"histogram2dcontour\":[{\"colorbar\":{\"outlinewidth\":0,\"ticks\":\"\"},\"colorscale\":[[0.0,\"#0d0887\"],[0.1111111111111111,\"#46039f\"],[0.2222222222222222,\"#7201a8\"],[0.3333333333333333,\"#9c179e\"],[0.4444444444444444,\"#bd3786\"],[0.5555555555555556,\"#d8576b\"],[0.6666666666666666,\"#ed7953\"],[0.7777777777777778,\"#fb9f3a\"],[0.8888888888888888,\"#fdca26\"],[1.0,\"#f0f921\"]],\"type\":\"histogram2dcontour\"}],\"mesh3d\":[{\"colorbar\":{\"outlinewidth\":0,\"ticks\":\"\"},\"type\":\"mesh3d\"}],\"parcoords\":[{\"line\":{\"colorbar\":{\"outlinewidth\":0,\"ticks\":\"\"}},\"type\":\"parcoords\"}],\"pie\":[{\"automargin\":true,\"type\":\"pie\"}],\"scatter\":[{\"marker\":{\"colorbar\":{\"outlinewidth\":0,\"ticks\":\"\"}},\"type\":\"scatter\"}],\"scatter3d\":[{\"line\":{\"colorbar\":{\"outlinewidth\":0,\"ticks\":\"\"}},\"marker\":{\"colorbar\":{\"outlinewidth\":0,\"ticks\":\"\"}},\"type\":\"scatter3d\"}],\"scattercarpet\":[{\"marker\":{\"colorbar\":{\"outlinewidth\":0,\"ticks\":\"\"}},\"type\":\"scattercarpet\"}],\"scattergeo\":[{\"marker\":{\"colorbar\":{\"outlinewidth\":0,\"ticks\":\"\"}},\"type\":\"scattergeo\"}],\"scattergl\":[{\"marker\":{\"colorbar\":{\"outlinewidth\":0,\"ticks\":\"\"}},\"type\":\"scattergl\"}],\"scattermapbox\":[{\"marker\":{\"colorbar\":{\"outlinewidth\":0,\"ticks\":\"\"}},\"type\":\"scattermapbox\"}],\"scatterpolar\":[{\"marker\":{\"colorbar\":{\"outlinewidth\":0,\"ticks\":\"\"}},\"type\":\"scatterpolar\"}],\"scatterpolargl\":[{\"marker\":{\"colorbar\":{\"outlinewidth\":0,\"ticks\":\"\"}},\"type\":\"scatterpolargl\"}],\"scatterternary\":[{\"marker\":{\"colorbar\":{\"outlinewidth\":0,\"ticks\":\"\"}},\"type\":\"scatterternary\"}],\"surface\":[{\"colorbar\":{\"outlinewidth\":0,\"ticks\":\"\"},\"colorscale\":[[0.0,\"#0d0887\"],[0.1111111111111111,\"#46039f\"],[0.2222222222222222,\"#7201a8\"],[0.3333333333333333,\"#9c179e\"],[0.4444444444444444,\"#bd3786\"],[0.5555555555555556,\"#d8576b\"],[0.6666666666666666,\"#ed7953\"],[0.7777777777777778,\"#fb9f3a\"],[0.8888888888888888,\"#fdca26\"],[1.0,\"#f0f921\"]],\"type\":\"surface\"}],\"table\":[{\"cells\":{\"fill\":{\"color\":\"#EBF0F8\"},\"line\":{\"color\":\"white\"}},\"header\":{\"fill\":{\"color\":\"#C8D4E3\"},\"line\":{\"color\":\"white\"}},\"type\":\"table\"}]},\"layout\":{\"annotationdefaults\":{\"arrowcolor\":\"#2a3f5f\",\"arrowhead\":0,\"arrowwidth\":1},\"autotypenumbers\":\"strict\",\"coloraxis\":{\"colorbar\":{\"outlinewidth\":0,\"ticks\":\"\"}},\"colorscale\":{\"diverging\":[[0,\"#8e0152\"],[0.1,\"#c51b7d\"],[0.2,\"#de77ae\"],[0.3,\"#f1b6da\"],[0.4,\"#fde0ef\"],[0.5,\"#f7f7f7\"],[0.6,\"#e6f5d0\"],[0.7,\"#b8e186\"],[0.8,\"#7fbc41\"],[0.9,\"#4d9221\"],[1,\"#276419\"]],\"sequential\":[[0.0,\"#0d0887\"],[0.1111111111111111,\"#46039f\"],[0.2222222222222222,\"#7201a8\"],[0.3333333333333333,\"#9c179e\"],[0.4444444444444444,\"#bd3786\"],[0.5555555555555556,\"#d8576b\"],[0.6666666666666666,\"#ed7953\"],[0.7777777777777778,\"#fb9f3a\"],[0.8888888888888888,\"#fdca26\"],[1.0,\"#f0f921\"]],\"sequentialminus\":[[0.0,\"#0d0887\"],[0.1111111111111111,\"#46039f\"],[0.2222222222222222,\"#7201a8\"],[0.3333333333333333,\"#9c179e\"],[0.4444444444444444,\"#bd3786\"],[0.5555555555555556,\"#d8576b\"],[0.6666666666666666,\"#ed7953\"],[0.7777777777777778,\"#fb9f3a\"],[0.8888888888888888,\"#fdca26\"],[1.0,\"#f0f921\"]]},\"colorway\":[\"#636efa\",\"#EF553B\",\"#00cc96\",\"#ab63fa\",\"#FFA15A\",\"#19d3f3\",\"#FF6692\",\"#B6E880\",\"#FF97FF\",\"#FECB52\"],\"font\":{\"color\":\"#2a3f5f\"},\"geo\":{\"bgcolor\":\"white\",\"lakecolor\":\"white\",\"landcolor\":\"#E5ECF6\",\"showlakes\":true,\"showland\":true,\"subunitcolor\":\"white\"},\"hoverlabel\":{\"align\":\"left\"},\"hovermode\":\"closest\",\"mapbox\":{\"style\":\"light\"},\"paper_bgcolor\":\"white\",\"plot_bgcolor\":\"#E5ECF6\",\"polar\":{\"angularaxis\":{\"gridcolor\":\"white\",\"linecolor\":\"white\",\"ticks\":\"\"},\"bgcolor\":\"#E5ECF6\",\"radialaxis\":{\"gridcolor\":\"white\",\"linecolor\":\"white\",\"ticks\":\"\"}},\"scene\":{\"xaxis\":{\"backgroundcolor\":\"#E5ECF6\",\"gridcolor\":\"white\",\"gridwidth\":2,\"linecolor\":\"white\",\"showbackground\":true,\"ticks\":\"\",\"zerolinecolor\":\"white\"},\"yaxis\":{\"backgroundcolor\":\"#E5ECF6\",\"gridcolor\":\"white\",\"gridwidth\":2,\"linecolor\":\"white\",\"showbackground\":true,\"ticks\":\"\",\"zerolinecolor\":\"white\"},\"zaxis\":{\"backgroundcolor\":\"#E5ECF6\",\"gridcolor\":\"white\",\"gridwidth\":2,\"linecolor\":\"white\",\"showbackground\":true,\"ticks\":\"\",\"zerolinecolor\":\"white\"}},\"shapedefaults\":{\"line\":{\"color\":\"#2a3f5f\"}},\"ternary\":{\"aaxis\":{\"gridcolor\":\"white\",\"linecolor\":\"white\",\"ticks\":\"\"},\"baxis\":{\"gridcolor\":\"white\",\"linecolor\":\"white\",\"ticks\":\"\"},\"bgcolor\":\"#E5ECF6\",\"caxis\":{\"gridcolor\":\"white\",\"linecolor\":\"white\",\"ticks\":\"\"}},\"title\":{\"x\":0.05},\"xaxis\":{\"automargin\":true,\"gridcolor\":\"white\",\"linecolor\":\"white\",\"ticks\":\"\",\"title\":{\"standoff\":15},\"zerolinecolor\":\"white\",\"zerolinewidth\":2},\"yaxis\":{\"automargin\":true,\"gridcolor\":\"white\",\"linecolor\":\"white\",\"ticks\":\"\",\"title\":{\"standoff\":15},\"zerolinecolor\":\"white\",\"zerolinewidth\":2}}},\"xaxis\":{\"anchor\":\"y\",\"domain\":[0.0,1.0],\"title\":{\"text\":\"x\"}},\"yaxis\":{\"anchor\":\"x\",\"domain\":[0.0,1.0],\"title\":{\"text\":\"y\"}}},                        {\"responsive\": true}                    ).then(function(){\n",
       "                            \n",
       "var gd = document.getElementById('c7b940c1-ce8d-43cd-a9bd-10d74cf6e8c3');\n",
       "var x = new MutationObserver(function (mutations, observer) {{\n",
       "        var display = window.getComputedStyle(gd).display;\n",
       "        if (!display || display === 'none') {{\n",
       "            console.log([gd, 'removed!']);\n",
       "            Plotly.purge(gd);\n",
       "            observer.disconnect();\n",
       "        }}\n",
       "}});\n",
       "\n",
       "// Listen for the removal of the full notebook cells\n",
       "var notebookContainer = gd.closest('#notebook-container');\n",
       "if (notebookContainer) {{\n",
       "    x.observe(notebookContainer, {childList: true});\n",
       "}}\n",
       "\n",
       "// Listen for the clearing of the current output cell\n",
       "var outputEl = gd.closest('.output');\n",
       "if (outputEl) {{\n",
       "    x.observe(outputEl, {childList: true});\n",
       "}}\n",
       "\n",
       "                        })                };                });            </script>        </div>"
      ]
     },
     "metadata": {},
     "output_type": "display_data"
    }
   ],
   "source": [
    "px.scatter(x = x, y = y)"
   ]
  },
  {
   "cell_type": "code",
   "execution_count": 134,
   "metadata": {
    "scrolled": true
   },
   "outputs": [
    {
     "data": {
      "application/vnd.plotly.v1+json": {
       "config": {
        "plotlyServerURL": "https://plot.ly"
       },
       "data": [
        {
         "alignmentgroup": "True",
         "bingroup": "x",
         "hovertemplate": "x=%{x}<br>count=%{y}<extra></extra>",
         "legendgroup": "",
         "marker": {
          "color": "#636efa",
          "pattern": {
           "shape": ""
          }
         },
         "name": "",
         "offsetgroup": "",
         "orientation": "v",
         "showlegend": false,
         "type": "histogram",
         "x": [
          0,
          0,
          0,
          0,
          0,
          0,
          0,
          0,
          0,
          0,
          0,
          0,
          2,
          0,
          0,
          0,
          0,
          0,
          0,
          0,
          0,
          0,
          1,
          0,
          0,
          0,
          0,
          0,
          0,
          0,
          0,
          0,
          0,
          0,
          0,
          1,
          1,
          1,
          1,
          0,
          0,
          0,
          2,
          0,
          0,
          0,
          0,
          0,
          0,
          0,
          1,
          0,
          0,
          0,
          0,
          0,
          1,
          0,
          0,
          2,
          2,
          1,
          1,
          0,
          0,
          0,
          0,
          1,
          0,
          0,
          0,
          0,
          1,
          0,
          0,
          0,
          1,
          0,
          2,
          0,
          0,
          0,
          0,
          0,
          0,
          0,
          0,
          0,
          0,
          0,
          0,
          0,
          0,
          0,
          0,
          0,
          1,
          0,
          0,
          0,
          0,
          0,
          0,
          0,
          0,
          0,
          0,
          0,
          0,
          0,
          0,
          1,
          0,
          0,
          0,
          0,
          0,
          0,
          0,
          0,
          0,
          0,
          0,
          0,
          0,
          0,
          0,
          0,
          0,
          0,
          0,
          0,
          1,
          0,
          0,
          0,
          0,
          1,
          0,
          0,
          0,
          1,
          0,
          0,
          0,
          0,
          0,
          0,
          0,
          1,
          0,
          0,
          0,
          0,
          1,
          0,
          0,
          0,
          0,
          0,
          0,
          0,
          0,
          0,
          0,
          0,
          0,
          0,
          0,
          0,
          0,
          1,
          0,
          0,
          0,
          0,
          0,
          0,
          0,
          0,
          0,
          0,
          1,
          1,
          0,
          0,
          0,
          0,
          0,
          0,
          0,
          0,
          0,
          0,
          0,
          0,
          0,
          0,
          0,
          1,
          0,
          0,
          0,
          1,
          0,
          0,
          2,
          0,
          0,
          1,
          0,
          0,
          0,
          0,
          0,
          1,
          0,
          1,
          0,
          1,
          1,
          1,
          1,
          1,
          0,
          0,
          0,
          0,
          0,
          0,
          0,
          0,
          0,
          0,
          0,
          0,
          0,
          0,
          0,
          0,
          0,
          0,
          0,
          0,
          0,
          0,
          0,
          0,
          0,
          0,
          0,
          0,
          0,
          0,
          0,
          0,
          0,
          0,
          0,
          0,
          0,
          0,
          0,
          0,
          0,
          0,
          0,
          0,
          0,
          0,
          1,
          1,
          1,
          0,
          0,
          0,
          1,
          0,
          0,
          1,
          0,
          0,
          0,
          0,
          0,
          0,
          0,
          0,
          0,
          0,
          0,
          0,
          0,
          0,
          0,
          0,
          0,
          0,
          0,
          1,
          0,
          0,
          1,
          0,
          0,
          0,
          0,
          0,
          0,
          0,
          0,
          0,
          1,
          0,
          0,
          0,
          2,
          0,
          0,
          0,
          0,
          0,
          0,
          0,
          0,
          0,
          0,
          0,
          0,
          0,
          0,
          0,
          0,
          0,
          0,
          0,
          0,
          0,
          1,
          0,
          0,
          0,
          0,
          0,
          0,
          0,
          1,
          0,
          0,
          0,
          0,
          1,
          0,
          0,
          0,
          0,
          0,
          0,
          0,
          0,
          0,
          0,
          1,
          0,
          0,
          0,
          0,
          0,
          0,
          0,
          0,
          0,
          0,
          0,
          0,
          0,
          0,
          0,
          0,
          0,
          0,
          0,
          0,
          0,
          0,
          0,
          0,
          0,
          0,
          0,
          0,
          0,
          0,
          1,
          0,
          0,
          0,
          0,
          0,
          0,
          0,
          0,
          1,
          0,
          0,
          0,
          0,
          0,
          0,
          0,
          0,
          0,
          0,
          0,
          0,
          0,
          0,
          0,
          0,
          0,
          1,
          0,
          0,
          0,
          1,
          0,
          2,
          0,
          1,
          0,
          0,
          1,
          0,
          0,
          1,
          0,
          0,
          0,
          0,
          1,
          1,
          0,
          0,
          0,
          0,
          0,
          0,
          1,
          0,
          0,
          0,
          0,
          0,
          0,
          0,
          0,
          0,
          0,
          0,
          0,
          0,
          0,
          0,
          0,
          1,
          0,
          0,
          0,
          0,
          0,
          0,
          0,
          0,
          1,
          0,
          0,
          0,
          0,
          0,
          0,
          0,
          0,
          0,
          0,
          0,
          0,
          0,
          0,
          0,
          0,
          0,
          0,
          0,
          0,
          0,
          1,
          0,
          0,
          0,
          0,
          0,
          0,
          0,
          0,
          0,
          0,
          0,
          0,
          0,
          0,
          0,
          0,
          0,
          0,
          0,
          0,
          0,
          0,
          0,
          0,
          0,
          0,
          0,
          1,
          0,
          0,
          0,
          0,
          0,
          1,
          0,
          1,
          0,
          0,
          0,
          0,
          0,
          0,
          0,
          0,
          0,
          0,
          0,
          0,
          0,
          0,
          0,
          1,
          0,
          2,
          0,
          0,
          0,
          0,
          0,
          0,
          0,
          0,
          0,
          0,
          0,
          0,
          0,
          0,
          0,
          0,
          0,
          0,
          0,
          0,
          1,
          0,
          0,
          0,
          0,
          2,
          0,
          0,
          0,
          0,
          0,
          0,
          0,
          0,
          0,
          0,
          0,
          0,
          0,
          0,
          0,
          0,
          0,
          0,
          0,
          0,
          0,
          0,
          0,
          0,
          0,
          1,
          0,
          0,
          0,
          0,
          0,
          0,
          0,
          0,
          0,
          0,
          0,
          0,
          0,
          0,
          1,
          0,
          0,
          0,
          1,
          0,
          0,
          0,
          1,
          0,
          0,
          0,
          0,
          0,
          0,
          0,
          0,
          0,
          0,
          0,
          0,
          0,
          1,
          0,
          0,
          0,
          0,
          0,
          2,
          0,
          0,
          1,
          2,
          0,
          0,
          0,
          0,
          0,
          0,
          0,
          0,
          0,
          0,
          0,
          0,
          0,
          0,
          0,
          0,
          0,
          0,
          1,
          0,
          0,
          1,
          0,
          0,
          0,
          0,
          0,
          0,
          0,
          0,
          0,
          0,
          0,
          0,
          0,
          0,
          0,
          0,
          0,
          0,
          0,
          0,
          0,
          0,
          0,
          0,
          0,
          1,
          0,
          0,
          0,
          1,
          0,
          0,
          1,
          0,
          0,
          0,
          0,
          0,
          0,
          1,
          0,
          0,
          0,
          0,
          0,
          0,
          0,
          0,
          0,
          0,
          0,
          0,
          0,
          0,
          1,
          0,
          0,
          0,
          0,
          0,
          0,
          0,
          1,
          0,
          0,
          0,
          0,
          0,
          0,
          0,
          0,
          0,
          0,
          0,
          0,
          0,
          0,
          0,
          0,
          0,
          0,
          0,
          0,
          0,
          0,
          0,
          0,
          0,
          0,
          0,
          0,
          0,
          0,
          0,
          0,
          0,
          0,
          0,
          0,
          0,
          0,
          0,
          0,
          1,
          0,
          0,
          0,
          0,
          1,
          1,
          0,
          0,
          0,
          0,
          0,
          0,
          0,
          0,
          0,
          0,
          0,
          0,
          0,
          0,
          0,
          0,
          0,
          0,
          0,
          0,
          0,
          0,
          0,
          0,
          1,
          0,
          0,
          0,
          0,
          0,
          0,
          1,
          0,
          0,
          0,
          0,
          0,
          0,
          0,
          0,
          0,
          1,
          0,
          0,
          0,
          0,
          0,
          0,
          1,
          1,
          0,
          0,
          0,
          0,
          0,
          0,
          0,
          0,
          0,
          0,
          0,
          0,
          0,
          0,
          0,
          0,
          0,
          0,
          0,
          0,
          0,
          0,
          0,
          0,
          0,
          0,
          0,
          0,
          0,
          0,
          1,
          0,
          0,
          0,
          0,
          1,
          0,
          0,
          0,
          0,
          0,
          0,
          1,
          0,
          0,
          0,
          0,
          1,
          0,
          1,
          0,
          0,
          0,
          0,
          0,
          0,
          0,
          0,
          0,
          1,
          0,
          0,
          0,
          0,
          0,
          0,
          0,
          0,
          0,
          0,
          0,
          0,
          0,
          0,
          0,
          0,
          0,
          0,
          1,
          0,
          0,
          1,
          1,
          0,
          0,
          0,
          0,
          0,
          0,
          0,
          0,
          0,
          0,
          0,
          0
         ],
         "xaxis": "x",
         "yaxis": "y"
        }
       ],
       "layout": {
        "barmode": "relative",
        "legend": {
         "tracegroupgap": 0
        },
        "margin": {
         "t": 60
        },
        "template": {
         "data": {
          "bar": [
           {
            "error_x": {
             "color": "#2a3f5f"
            },
            "error_y": {
             "color": "#2a3f5f"
            },
            "marker": {
             "line": {
              "color": "#E5ECF6",
              "width": 0.5
             },
             "pattern": {
              "fillmode": "overlay",
              "size": 10,
              "solidity": 0.2
             }
            },
            "type": "bar"
           }
          ],
          "barpolar": [
           {
            "marker": {
             "line": {
              "color": "#E5ECF6",
              "width": 0.5
             },
             "pattern": {
              "fillmode": "overlay",
              "size": 10,
              "solidity": 0.2
             }
            },
            "type": "barpolar"
           }
          ],
          "carpet": [
           {
            "aaxis": {
             "endlinecolor": "#2a3f5f",
             "gridcolor": "white",
             "linecolor": "white",
             "minorgridcolor": "white",
             "startlinecolor": "#2a3f5f"
            },
            "baxis": {
             "endlinecolor": "#2a3f5f",
             "gridcolor": "white",
             "linecolor": "white",
             "minorgridcolor": "white",
             "startlinecolor": "#2a3f5f"
            },
            "type": "carpet"
           }
          ],
          "choropleth": [
           {
            "colorbar": {
             "outlinewidth": 0,
             "ticks": ""
            },
            "type": "choropleth"
           }
          ],
          "contour": [
           {
            "colorbar": {
             "outlinewidth": 0,
             "ticks": ""
            },
            "colorscale": [
             [
              0,
              "#0d0887"
             ],
             [
              0.1111111111111111,
              "#46039f"
             ],
             [
              0.2222222222222222,
              "#7201a8"
             ],
             [
              0.3333333333333333,
              "#9c179e"
             ],
             [
              0.4444444444444444,
              "#bd3786"
             ],
             [
              0.5555555555555556,
              "#d8576b"
             ],
             [
              0.6666666666666666,
              "#ed7953"
             ],
             [
              0.7777777777777778,
              "#fb9f3a"
             ],
             [
              0.8888888888888888,
              "#fdca26"
             ],
             [
              1,
              "#f0f921"
             ]
            ],
            "type": "contour"
           }
          ],
          "contourcarpet": [
           {
            "colorbar": {
             "outlinewidth": 0,
             "ticks": ""
            },
            "type": "contourcarpet"
           }
          ],
          "heatmap": [
           {
            "colorbar": {
             "outlinewidth": 0,
             "ticks": ""
            },
            "colorscale": [
             [
              0,
              "#0d0887"
             ],
             [
              0.1111111111111111,
              "#46039f"
             ],
             [
              0.2222222222222222,
              "#7201a8"
             ],
             [
              0.3333333333333333,
              "#9c179e"
             ],
             [
              0.4444444444444444,
              "#bd3786"
             ],
             [
              0.5555555555555556,
              "#d8576b"
             ],
             [
              0.6666666666666666,
              "#ed7953"
             ],
             [
              0.7777777777777778,
              "#fb9f3a"
             ],
             [
              0.8888888888888888,
              "#fdca26"
             ],
             [
              1,
              "#f0f921"
             ]
            ],
            "type": "heatmap"
           }
          ],
          "heatmapgl": [
           {
            "colorbar": {
             "outlinewidth": 0,
             "ticks": ""
            },
            "colorscale": [
             [
              0,
              "#0d0887"
             ],
             [
              0.1111111111111111,
              "#46039f"
             ],
             [
              0.2222222222222222,
              "#7201a8"
             ],
             [
              0.3333333333333333,
              "#9c179e"
             ],
             [
              0.4444444444444444,
              "#bd3786"
             ],
             [
              0.5555555555555556,
              "#d8576b"
             ],
             [
              0.6666666666666666,
              "#ed7953"
             ],
             [
              0.7777777777777778,
              "#fb9f3a"
             ],
             [
              0.8888888888888888,
              "#fdca26"
             ],
             [
              1,
              "#f0f921"
             ]
            ],
            "type": "heatmapgl"
           }
          ],
          "histogram": [
           {
            "marker": {
             "pattern": {
              "fillmode": "overlay",
              "size": 10,
              "solidity": 0.2
             }
            },
            "type": "histogram"
           }
          ],
          "histogram2d": [
           {
            "colorbar": {
             "outlinewidth": 0,
             "ticks": ""
            },
            "colorscale": [
             [
              0,
              "#0d0887"
             ],
             [
              0.1111111111111111,
              "#46039f"
             ],
             [
              0.2222222222222222,
              "#7201a8"
             ],
             [
              0.3333333333333333,
              "#9c179e"
             ],
             [
              0.4444444444444444,
              "#bd3786"
             ],
             [
              0.5555555555555556,
              "#d8576b"
             ],
             [
              0.6666666666666666,
              "#ed7953"
             ],
             [
              0.7777777777777778,
              "#fb9f3a"
             ],
             [
              0.8888888888888888,
              "#fdca26"
             ],
             [
              1,
              "#f0f921"
             ]
            ],
            "type": "histogram2d"
           }
          ],
          "histogram2dcontour": [
           {
            "colorbar": {
             "outlinewidth": 0,
             "ticks": ""
            },
            "colorscale": [
             [
              0,
              "#0d0887"
             ],
             [
              0.1111111111111111,
              "#46039f"
             ],
             [
              0.2222222222222222,
              "#7201a8"
             ],
             [
              0.3333333333333333,
              "#9c179e"
             ],
             [
              0.4444444444444444,
              "#bd3786"
             ],
             [
              0.5555555555555556,
              "#d8576b"
             ],
             [
              0.6666666666666666,
              "#ed7953"
             ],
             [
              0.7777777777777778,
              "#fb9f3a"
             ],
             [
              0.8888888888888888,
              "#fdca26"
             ],
             [
              1,
              "#f0f921"
             ]
            ],
            "type": "histogram2dcontour"
           }
          ],
          "mesh3d": [
           {
            "colorbar": {
             "outlinewidth": 0,
             "ticks": ""
            },
            "type": "mesh3d"
           }
          ],
          "parcoords": [
           {
            "line": {
             "colorbar": {
              "outlinewidth": 0,
              "ticks": ""
             }
            },
            "type": "parcoords"
           }
          ],
          "pie": [
           {
            "automargin": true,
            "type": "pie"
           }
          ],
          "scatter": [
           {
            "marker": {
             "colorbar": {
              "outlinewidth": 0,
              "ticks": ""
             }
            },
            "type": "scatter"
           }
          ],
          "scatter3d": [
           {
            "line": {
             "colorbar": {
              "outlinewidth": 0,
              "ticks": ""
             }
            },
            "marker": {
             "colorbar": {
              "outlinewidth": 0,
              "ticks": ""
             }
            },
            "type": "scatter3d"
           }
          ],
          "scattercarpet": [
           {
            "marker": {
             "colorbar": {
              "outlinewidth": 0,
              "ticks": ""
             }
            },
            "type": "scattercarpet"
           }
          ],
          "scattergeo": [
           {
            "marker": {
             "colorbar": {
              "outlinewidth": 0,
              "ticks": ""
             }
            },
            "type": "scattergeo"
           }
          ],
          "scattergl": [
           {
            "marker": {
             "colorbar": {
              "outlinewidth": 0,
              "ticks": ""
             }
            },
            "type": "scattergl"
           }
          ],
          "scattermapbox": [
           {
            "marker": {
             "colorbar": {
              "outlinewidth": 0,
              "ticks": ""
             }
            },
            "type": "scattermapbox"
           }
          ],
          "scatterpolar": [
           {
            "marker": {
             "colorbar": {
              "outlinewidth": 0,
              "ticks": ""
             }
            },
            "type": "scatterpolar"
           }
          ],
          "scatterpolargl": [
           {
            "marker": {
             "colorbar": {
              "outlinewidth": 0,
              "ticks": ""
             }
            },
            "type": "scatterpolargl"
           }
          ],
          "scatterternary": [
           {
            "marker": {
             "colorbar": {
              "outlinewidth": 0,
              "ticks": ""
             }
            },
            "type": "scatterternary"
           }
          ],
          "surface": [
           {
            "colorbar": {
             "outlinewidth": 0,
             "ticks": ""
            },
            "colorscale": [
             [
              0,
              "#0d0887"
             ],
             [
              0.1111111111111111,
              "#46039f"
             ],
             [
              0.2222222222222222,
              "#7201a8"
             ],
             [
              0.3333333333333333,
              "#9c179e"
             ],
             [
              0.4444444444444444,
              "#bd3786"
             ],
             [
              0.5555555555555556,
              "#d8576b"
             ],
             [
              0.6666666666666666,
              "#ed7953"
             ],
             [
              0.7777777777777778,
              "#fb9f3a"
             ],
             [
              0.8888888888888888,
              "#fdca26"
             ],
             [
              1,
              "#f0f921"
             ]
            ],
            "type": "surface"
           }
          ],
          "table": [
           {
            "cells": {
             "fill": {
              "color": "#EBF0F8"
             },
             "line": {
              "color": "white"
             }
            },
            "header": {
             "fill": {
              "color": "#C8D4E3"
             },
             "line": {
              "color": "white"
             }
            },
            "type": "table"
           }
          ]
         },
         "layout": {
          "annotationdefaults": {
           "arrowcolor": "#2a3f5f",
           "arrowhead": 0,
           "arrowwidth": 1
          },
          "autotypenumbers": "strict",
          "coloraxis": {
           "colorbar": {
            "outlinewidth": 0,
            "ticks": ""
           }
          },
          "colorscale": {
           "diverging": [
            [
             0,
             "#8e0152"
            ],
            [
             0.1,
             "#c51b7d"
            ],
            [
             0.2,
             "#de77ae"
            ],
            [
             0.3,
             "#f1b6da"
            ],
            [
             0.4,
             "#fde0ef"
            ],
            [
             0.5,
             "#f7f7f7"
            ],
            [
             0.6,
             "#e6f5d0"
            ],
            [
             0.7,
             "#b8e186"
            ],
            [
             0.8,
             "#7fbc41"
            ],
            [
             0.9,
             "#4d9221"
            ],
            [
             1,
             "#276419"
            ]
           ],
           "sequential": [
            [
             0,
             "#0d0887"
            ],
            [
             0.1111111111111111,
             "#46039f"
            ],
            [
             0.2222222222222222,
             "#7201a8"
            ],
            [
             0.3333333333333333,
             "#9c179e"
            ],
            [
             0.4444444444444444,
             "#bd3786"
            ],
            [
             0.5555555555555556,
             "#d8576b"
            ],
            [
             0.6666666666666666,
             "#ed7953"
            ],
            [
             0.7777777777777778,
             "#fb9f3a"
            ],
            [
             0.8888888888888888,
             "#fdca26"
            ],
            [
             1,
             "#f0f921"
            ]
           ],
           "sequentialminus": [
            [
             0,
             "#0d0887"
            ],
            [
             0.1111111111111111,
             "#46039f"
            ],
            [
             0.2222222222222222,
             "#7201a8"
            ],
            [
             0.3333333333333333,
             "#9c179e"
            ],
            [
             0.4444444444444444,
             "#bd3786"
            ],
            [
             0.5555555555555556,
             "#d8576b"
            ],
            [
             0.6666666666666666,
             "#ed7953"
            ],
            [
             0.7777777777777778,
             "#fb9f3a"
            ],
            [
             0.8888888888888888,
             "#fdca26"
            ],
            [
             1,
             "#f0f921"
            ]
           ]
          },
          "colorway": [
           "#636efa",
           "#EF553B",
           "#00cc96",
           "#ab63fa",
           "#FFA15A",
           "#19d3f3",
           "#FF6692",
           "#B6E880",
           "#FF97FF",
           "#FECB52"
          ],
          "font": {
           "color": "#2a3f5f"
          },
          "geo": {
           "bgcolor": "white",
           "lakecolor": "white",
           "landcolor": "#E5ECF6",
           "showlakes": true,
           "showland": true,
           "subunitcolor": "white"
          },
          "hoverlabel": {
           "align": "left"
          },
          "hovermode": "closest",
          "mapbox": {
           "style": "light"
          },
          "paper_bgcolor": "white",
          "plot_bgcolor": "#E5ECF6",
          "polar": {
           "angularaxis": {
            "gridcolor": "white",
            "linecolor": "white",
            "ticks": ""
           },
           "bgcolor": "#E5ECF6",
           "radialaxis": {
            "gridcolor": "white",
            "linecolor": "white",
            "ticks": ""
           }
          },
          "scene": {
           "xaxis": {
            "backgroundcolor": "#E5ECF6",
            "gridcolor": "white",
            "gridwidth": 2,
            "linecolor": "white",
            "showbackground": true,
            "ticks": "",
            "zerolinecolor": "white"
           },
           "yaxis": {
            "backgroundcolor": "#E5ECF6",
            "gridcolor": "white",
            "gridwidth": 2,
            "linecolor": "white",
            "showbackground": true,
            "ticks": "",
            "zerolinecolor": "white"
           },
           "zaxis": {
            "backgroundcolor": "#E5ECF6",
            "gridcolor": "white",
            "gridwidth": 2,
            "linecolor": "white",
            "showbackground": true,
            "ticks": "",
            "zerolinecolor": "white"
           }
          },
          "shapedefaults": {
           "line": {
            "color": "#2a3f5f"
           }
          },
          "ternary": {
           "aaxis": {
            "gridcolor": "white",
            "linecolor": "white",
            "ticks": ""
           },
           "baxis": {
            "gridcolor": "white",
            "linecolor": "white",
            "ticks": ""
           },
           "bgcolor": "#E5ECF6",
           "caxis": {
            "gridcolor": "white",
            "linecolor": "white",
            "ticks": ""
           }
          },
          "title": {
           "x": 0.05
          },
          "xaxis": {
           "automargin": true,
           "gridcolor": "white",
           "linecolor": "white",
           "ticks": "",
           "title": {
            "standoff": 15
           },
           "zerolinecolor": "white",
           "zerolinewidth": 2
          },
          "yaxis": {
           "automargin": true,
           "gridcolor": "white",
           "linecolor": "white",
           "ticks": "",
           "title": {
            "standoff": 15
           },
           "zerolinecolor": "white",
           "zerolinewidth": 2
          }
         }
        },
        "xaxis": {
         "anchor": "y",
         "domain": [
          0,
          1
         ],
         "title": {
          "text": "x"
         }
        },
        "yaxis": {
         "anchor": "x",
         "domain": [
          0,
          1
         ],
         "title": {
          "text": "count"
         }
        }
       }
      },
      "text/html": [
       "<div>                            <div id=\"bc876a01-89a8-49b8-8cce-ce19182e8107\" class=\"plotly-graph-div\" style=\"height:525px; width:100%;\"></div>            <script type=\"text/javascript\">                require([\"plotly\"], function(Plotly) {                    window.PLOTLYENV=window.PLOTLYENV || {};                                    if (document.getElementById(\"bc876a01-89a8-49b8-8cce-ce19182e8107\")) {                    Plotly.newPlot(                        \"bc876a01-89a8-49b8-8cce-ce19182e8107\",                        [{\"alignmentgroup\":\"True\",\"bingroup\":\"x\",\"hovertemplate\":\"x=%{x}<br>count=%{y}<extra></extra>\",\"legendgroup\":\"\",\"marker\":{\"color\":\"#636efa\",\"pattern\":{\"shape\":\"\"}},\"name\":\"\",\"offsetgroup\":\"\",\"orientation\":\"v\",\"showlegend\":false,\"type\":\"histogram\",\"x\":[0.0,0.0,0.0,0.0,0.0,0.0,0.0,0.0,0.0,0.0,0.0,0.0,2.0,0.0,0.0,0.0,0.0,0.0,0.0,0.0,0.0,0.0,1.0,0.0,0.0,0.0,0.0,0.0,0.0,0.0,0.0,0.0,0.0,0.0,0.0,1.0,1.0,1.0,1.0,0.0,0.0,0.0,2.0,0.0,0.0,0.0,0.0,0.0,0.0,0.0,1.0,0.0,0.0,0.0,0.0,0.0,1.0,0.0,0.0,2.0,2.0,1.0,1.0,0.0,0.0,0.0,0.0,1.0,0.0,0.0,0.0,0.0,1.0,0.0,0.0,0.0,1.0,0.0,2.0,0.0,0.0,0.0,0.0,0.0,0.0,0.0,0.0,0.0,0.0,0.0,0.0,0.0,0.0,0.0,0.0,0.0,1.0,0.0,0.0,0.0,0.0,0.0,0.0,0.0,0.0,0.0,0.0,0.0,0.0,0.0,0.0,1.0,0.0,0.0,0.0,0.0,0.0,0.0,0.0,0.0,0.0,0.0,0.0,0.0,0.0,0.0,0.0,0.0,0.0,0.0,0.0,0.0,1.0,0.0,0.0,0.0,0.0,1.0,0.0,0.0,0.0,1.0,0.0,0.0,0.0,0.0,0.0,0.0,0.0,1.0,0.0,0.0,0.0,0.0,1.0,0.0,0.0,0.0,0.0,0.0,0.0,0.0,0.0,0.0,0.0,0.0,0.0,0.0,0.0,0.0,0.0,1.0,0.0,0.0,0.0,0.0,0.0,0.0,0.0,0.0,0.0,0.0,1.0,1.0,0.0,0.0,0.0,0.0,0.0,0.0,0.0,0.0,0.0,0.0,0.0,0.0,0.0,0.0,0.0,1.0,0.0,0.0,0.0,1.0,0.0,0.0,2.0,0.0,0.0,1.0,0.0,0.0,0.0,0.0,0.0,1.0,0.0,1.0,0.0,1.0,1.0,1.0,1.0,1.0,0.0,0.0,0.0,0.0,0.0,0.0,0.0,0.0,0.0,0.0,0.0,0.0,0.0,0.0,0.0,0.0,0.0,0.0,0.0,0.0,0.0,0.0,0.0,0.0,0.0,0.0,0.0,0.0,0.0,0.0,0.0,0.0,0.0,0.0,0.0,0.0,0.0,0.0,0.0,0.0,0.0,0.0,0.0,0.0,0.0,0.0,1.0,1.0,1.0,0.0,0.0,0.0,1.0,0.0,0.0,1.0,0.0,0.0,0.0,0.0,0.0,0.0,0.0,0.0,0.0,0.0,0.0,0.0,0.0,0.0,0.0,0.0,0.0,0.0,0.0,1.0,0.0,0.0,1.0,0.0,0.0,0.0,0.0,0.0,0.0,0.0,0.0,0.0,1.0,0.0,0.0,0.0,2.0,0.0,0.0,0.0,0.0,0.0,0.0,0.0,0.0,0.0,0.0,0.0,0.0,0.0,0.0,0.0,0.0,0.0,0.0,0.0,0.0,0.0,1.0,0.0,0.0,0.0,0.0,0.0,0.0,0.0,1.0,0.0,0.0,0.0,0.0,1.0,0.0,0.0,0.0,0.0,0.0,0.0,0.0,0.0,0.0,0.0,1.0,0.0,0.0,0.0,0.0,0.0,0.0,0.0,0.0,0.0,0.0,0.0,0.0,0.0,0.0,0.0,0.0,0.0,0.0,0.0,0.0,0.0,0.0,0.0,0.0,0.0,0.0,0.0,0.0,0.0,0.0,1.0,0.0,0.0,0.0,0.0,0.0,0.0,0.0,0.0,1.0,0.0,0.0,0.0,0.0,0.0,0.0,0.0,0.0,0.0,0.0,0.0,0.0,0.0,0.0,0.0,0.0,0.0,1.0,0.0,0.0,0.0,1.0,0.0,2.0,0.0,1.0,0.0,0.0,1.0,0.0,0.0,1.0,0.0,0.0,0.0,0.0,1.0,1.0,0.0,0.0,0.0,0.0,0.0,0.0,1.0,0.0,0.0,0.0,0.0,0.0,0.0,0.0,0.0,0.0,0.0,0.0,0.0,0.0,0.0,0.0,0.0,1.0,0.0,0.0,0.0,0.0,0.0,0.0,0.0,0.0,1.0,0.0,0.0,0.0,0.0,0.0,0.0,0.0,0.0,0.0,0.0,0.0,0.0,0.0,0.0,0.0,0.0,0.0,0.0,0.0,0.0,0.0,1.0,0.0,0.0,0.0,0.0,0.0,0.0,0.0,0.0,0.0,0.0,0.0,0.0,0.0,0.0,0.0,0.0,0.0,0.0,0.0,0.0,0.0,0.0,0.0,0.0,0.0,0.0,0.0,1.0,0.0,0.0,0.0,0.0,0.0,1.0,0.0,1.0,0.0,0.0,0.0,0.0,0.0,0.0,0.0,0.0,0.0,0.0,0.0,0.0,0.0,0.0,0.0,1.0,0.0,2.0,0.0,0.0,0.0,0.0,0.0,0.0,0.0,0.0,0.0,0.0,0.0,0.0,0.0,0.0,0.0,0.0,0.0,0.0,0.0,0.0,1.0,0.0,0.0,0.0,0.0,2.0,0.0,0.0,0.0,0.0,0.0,0.0,0.0,0.0,0.0,0.0,0.0,0.0,0.0,0.0,0.0,0.0,0.0,0.0,0.0,0.0,0.0,0.0,0.0,0.0,0.0,1.0,0.0,0.0,0.0,0.0,0.0,0.0,0.0,0.0,0.0,0.0,0.0,0.0,0.0,0.0,1.0,0.0,0.0,0.0,1.0,0.0,0.0,0.0,1.0,0.0,0.0,0.0,0.0,0.0,0.0,0.0,0.0,0.0,0.0,0.0,0.0,0.0,1.0,0.0,0.0,0.0,0.0,0.0,2.0,0.0,0.0,1.0,2.0,0.0,0.0,0.0,0.0,0.0,0.0,0.0,0.0,0.0,0.0,0.0,0.0,0.0,0.0,0.0,0.0,0.0,0.0,1.0,0.0,0.0,1.0,0.0,0.0,0.0,0.0,0.0,0.0,0.0,0.0,0.0,0.0,0.0,0.0,0.0,0.0,0.0,0.0,0.0,0.0,0.0,0.0,0.0,0.0,0.0,0.0,0.0,1.0,0.0,0.0,0.0,1.0,0.0,0.0,1.0,0.0,0.0,0.0,0.0,0.0,0.0,1.0,0.0,0.0,0.0,0.0,0.0,0.0,0.0,0.0,0.0,0.0,0.0,0.0,0.0,0.0,1.0,0.0,0.0,0.0,0.0,0.0,0.0,0.0,1.0,0.0,0.0,0.0,0.0,0.0,0.0,0.0,0.0,0.0,0.0,0.0,0.0,0.0,0.0,0.0,0.0,0.0,0.0,0.0,0.0,0.0,0.0,0.0,0.0,0.0,0.0,0.0,0.0,0.0,0.0,0.0,0.0,0.0,0.0,0.0,0.0,0.0,0.0,0.0,0.0,1.0,0.0,0.0,0.0,0.0,1.0,1.0,0.0,0.0,0.0,0.0,0.0,0.0,0.0,0.0,0.0,0.0,0.0,0.0,0.0,0.0,0.0,0.0,0.0,0.0,0.0,0.0,0.0,0.0,0.0,0.0,1.0,0.0,0.0,0.0,0.0,0.0,0.0,1.0,0.0,0.0,0.0,0.0,0.0,0.0,0.0,0.0,0.0,1.0,0.0,0.0,0.0,0.0,0.0,0.0,1.0,1.0,0.0,0.0,0.0,0.0,0.0,0.0,0.0,0.0,0.0,0.0,0.0,0.0,0.0,0.0,0.0,0.0,0.0,0.0,0.0,0.0,0.0,0.0,0.0,0.0,0.0,0.0,0.0,0.0,0.0,0.0,1.0,0.0,0.0,0.0,0.0,1.0,0.0,0.0,0.0,0.0,0.0,0.0,1.0,0.0,0.0,0.0,0.0,1.0,0.0,1.0,0.0,0.0,0.0,0.0,0.0,0.0,0.0,0.0,0.0,1.0,0.0,0.0,0.0,0.0,0.0,0.0,0.0,0.0,0.0,0.0,0.0,0.0,0.0,0.0,0.0,0.0,0.0,0.0,1.0,0.0,0.0,1.0,1.0,0.0,0.0,0.0,0.0,0.0,0.0,0.0,0.0,0.0,0.0,0.0,0.0],\"xaxis\":\"x\",\"yaxis\":\"y\"}],                        {\"barmode\":\"relative\",\"legend\":{\"tracegroupgap\":0},\"margin\":{\"t\":60},\"template\":{\"data\":{\"bar\":[{\"error_x\":{\"color\":\"#2a3f5f\"},\"error_y\":{\"color\":\"#2a3f5f\"},\"marker\":{\"line\":{\"color\":\"#E5ECF6\",\"width\":0.5},\"pattern\":{\"fillmode\":\"overlay\",\"size\":10,\"solidity\":0.2}},\"type\":\"bar\"}],\"barpolar\":[{\"marker\":{\"line\":{\"color\":\"#E5ECF6\",\"width\":0.5},\"pattern\":{\"fillmode\":\"overlay\",\"size\":10,\"solidity\":0.2}},\"type\":\"barpolar\"}],\"carpet\":[{\"aaxis\":{\"endlinecolor\":\"#2a3f5f\",\"gridcolor\":\"white\",\"linecolor\":\"white\",\"minorgridcolor\":\"white\",\"startlinecolor\":\"#2a3f5f\"},\"baxis\":{\"endlinecolor\":\"#2a3f5f\",\"gridcolor\":\"white\",\"linecolor\":\"white\",\"minorgridcolor\":\"white\",\"startlinecolor\":\"#2a3f5f\"},\"type\":\"carpet\"}],\"choropleth\":[{\"colorbar\":{\"outlinewidth\":0,\"ticks\":\"\"},\"type\":\"choropleth\"}],\"contour\":[{\"colorbar\":{\"outlinewidth\":0,\"ticks\":\"\"},\"colorscale\":[[0.0,\"#0d0887\"],[0.1111111111111111,\"#46039f\"],[0.2222222222222222,\"#7201a8\"],[0.3333333333333333,\"#9c179e\"],[0.4444444444444444,\"#bd3786\"],[0.5555555555555556,\"#d8576b\"],[0.6666666666666666,\"#ed7953\"],[0.7777777777777778,\"#fb9f3a\"],[0.8888888888888888,\"#fdca26\"],[1.0,\"#f0f921\"]],\"type\":\"contour\"}],\"contourcarpet\":[{\"colorbar\":{\"outlinewidth\":0,\"ticks\":\"\"},\"type\":\"contourcarpet\"}],\"heatmap\":[{\"colorbar\":{\"outlinewidth\":0,\"ticks\":\"\"},\"colorscale\":[[0.0,\"#0d0887\"],[0.1111111111111111,\"#46039f\"],[0.2222222222222222,\"#7201a8\"],[0.3333333333333333,\"#9c179e\"],[0.4444444444444444,\"#bd3786\"],[0.5555555555555556,\"#d8576b\"],[0.6666666666666666,\"#ed7953\"],[0.7777777777777778,\"#fb9f3a\"],[0.8888888888888888,\"#fdca26\"],[1.0,\"#f0f921\"]],\"type\":\"heatmap\"}],\"heatmapgl\":[{\"colorbar\":{\"outlinewidth\":0,\"ticks\":\"\"},\"colorscale\":[[0.0,\"#0d0887\"],[0.1111111111111111,\"#46039f\"],[0.2222222222222222,\"#7201a8\"],[0.3333333333333333,\"#9c179e\"],[0.4444444444444444,\"#bd3786\"],[0.5555555555555556,\"#d8576b\"],[0.6666666666666666,\"#ed7953\"],[0.7777777777777778,\"#fb9f3a\"],[0.8888888888888888,\"#fdca26\"],[1.0,\"#f0f921\"]],\"type\":\"heatmapgl\"}],\"histogram\":[{\"marker\":{\"pattern\":{\"fillmode\":\"overlay\",\"size\":10,\"solidity\":0.2}},\"type\":\"histogram\"}],\"histogram2d\":[{\"colorbar\":{\"outlinewidth\":0,\"ticks\":\"\"},\"colorscale\":[[0.0,\"#0d0887\"],[0.1111111111111111,\"#46039f\"],[0.2222222222222222,\"#7201a8\"],[0.3333333333333333,\"#9c179e\"],[0.4444444444444444,\"#bd3786\"],[0.5555555555555556,\"#d8576b\"],[0.6666666666666666,\"#ed7953\"],[0.7777777777777778,\"#fb9f3a\"],[0.8888888888888888,\"#fdca26\"],[1.0,\"#f0f921\"]],\"type\":\"histogram2d\"}],\"histogram2dcontour\":[{\"colorbar\":{\"outlinewidth\":0,\"ticks\":\"\"},\"colorscale\":[[0.0,\"#0d0887\"],[0.1111111111111111,\"#46039f\"],[0.2222222222222222,\"#7201a8\"],[0.3333333333333333,\"#9c179e\"],[0.4444444444444444,\"#bd3786\"],[0.5555555555555556,\"#d8576b\"],[0.6666666666666666,\"#ed7953\"],[0.7777777777777778,\"#fb9f3a\"],[0.8888888888888888,\"#fdca26\"],[1.0,\"#f0f921\"]],\"type\":\"histogram2dcontour\"}],\"mesh3d\":[{\"colorbar\":{\"outlinewidth\":0,\"ticks\":\"\"},\"type\":\"mesh3d\"}],\"parcoords\":[{\"line\":{\"colorbar\":{\"outlinewidth\":0,\"ticks\":\"\"}},\"type\":\"parcoords\"}],\"pie\":[{\"automargin\":true,\"type\":\"pie\"}],\"scatter\":[{\"marker\":{\"colorbar\":{\"outlinewidth\":0,\"ticks\":\"\"}},\"type\":\"scatter\"}],\"scatter3d\":[{\"line\":{\"colorbar\":{\"outlinewidth\":0,\"ticks\":\"\"}},\"marker\":{\"colorbar\":{\"outlinewidth\":0,\"ticks\":\"\"}},\"type\":\"scatter3d\"}],\"scattercarpet\":[{\"marker\":{\"colorbar\":{\"outlinewidth\":0,\"ticks\":\"\"}},\"type\":\"scattercarpet\"}],\"scattergeo\":[{\"marker\":{\"colorbar\":{\"outlinewidth\":0,\"ticks\":\"\"}},\"type\":\"scattergeo\"}],\"scattergl\":[{\"marker\":{\"colorbar\":{\"outlinewidth\":0,\"ticks\":\"\"}},\"type\":\"scattergl\"}],\"scattermapbox\":[{\"marker\":{\"colorbar\":{\"outlinewidth\":0,\"ticks\":\"\"}},\"type\":\"scattermapbox\"}],\"scatterpolar\":[{\"marker\":{\"colorbar\":{\"outlinewidth\":0,\"ticks\":\"\"}},\"type\":\"scatterpolar\"}],\"scatterpolargl\":[{\"marker\":{\"colorbar\":{\"outlinewidth\":0,\"ticks\":\"\"}},\"type\":\"scatterpolargl\"}],\"scatterternary\":[{\"marker\":{\"colorbar\":{\"outlinewidth\":0,\"ticks\":\"\"}},\"type\":\"scatterternary\"}],\"surface\":[{\"colorbar\":{\"outlinewidth\":0,\"ticks\":\"\"},\"colorscale\":[[0.0,\"#0d0887\"],[0.1111111111111111,\"#46039f\"],[0.2222222222222222,\"#7201a8\"],[0.3333333333333333,\"#9c179e\"],[0.4444444444444444,\"#bd3786\"],[0.5555555555555556,\"#d8576b\"],[0.6666666666666666,\"#ed7953\"],[0.7777777777777778,\"#fb9f3a\"],[0.8888888888888888,\"#fdca26\"],[1.0,\"#f0f921\"]],\"type\":\"surface\"}],\"table\":[{\"cells\":{\"fill\":{\"color\":\"#EBF0F8\"},\"line\":{\"color\":\"white\"}},\"header\":{\"fill\":{\"color\":\"#C8D4E3\"},\"line\":{\"color\":\"white\"}},\"type\":\"table\"}]},\"layout\":{\"annotationdefaults\":{\"arrowcolor\":\"#2a3f5f\",\"arrowhead\":0,\"arrowwidth\":1},\"autotypenumbers\":\"strict\",\"coloraxis\":{\"colorbar\":{\"outlinewidth\":0,\"ticks\":\"\"}},\"colorscale\":{\"diverging\":[[0,\"#8e0152\"],[0.1,\"#c51b7d\"],[0.2,\"#de77ae\"],[0.3,\"#f1b6da\"],[0.4,\"#fde0ef\"],[0.5,\"#f7f7f7\"],[0.6,\"#e6f5d0\"],[0.7,\"#b8e186\"],[0.8,\"#7fbc41\"],[0.9,\"#4d9221\"],[1,\"#276419\"]],\"sequential\":[[0.0,\"#0d0887\"],[0.1111111111111111,\"#46039f\"],[0.2222222222222222,\"#7201a8\"],[0.3333333333333333,\"#9c179e\"],[0.4444444444444444,\"#bd3786\"],[0.5555555555555556,\"#d8576b\"],[0.6666666666666666,\"#ed7953\"],[0.7777777777777778,\"#fb9f3a\"],[0.8888888888888888,\"#fdca26\"],[1.0,\"#f0f921\"]],\"sequentialminus\":[[0.0,\"#0d0887\"],[0.1111111111111111,\"#46039f\"],[0.2222222222222222,\"#7201a8\"],[0.3333333333333333,\"#9c179e\"],[0.4444444444444444,\"#bd3786\"],[0.5555555555555556,\"#d8576b\"],[0.6666666666666666,\"#ed7953\"],[0.7777777777777778,\"#fb9f3a\"],[0.8888888888888888,\"#fdca26\"],[1.0,\"#f0f921\"]]},\"colorway\":[\"#636efa\",\"#EF553B\",\"#00cc96\",\"#ab63fa\",\"#FFA15A\",\"#19d3f3\",\"#FF6692\",\"#B6E880\",\"#FF97FF\",\"#FECB52\"],\"font\":{\"color\":\"#2a3f5f\"},\"geo\":{\"bgcolor\":\"white\",\"lakecolor\":\"white\",\"landcolor\":\"#E5ECF6\",\"showlakes\":true,\"showland\":true,\"subunitcolor\":\"white\"},\"hoverlabel\":{\"align\":\"left\"},\"hovermode\":\"closest\",\"mapbox\":{\"style\":\"light\"},\"paper_bgcolor\":\"white\",\"plot_bgcolor\":\"#E5ECF6\",\"polar\":{\"angularaxis\":{\"gridcolor\":\"white\",\"linecolor\":\"white\",\"ticks\":\"\"},\"bgcolor\":\"#E5ECF6\",\"radialaxis\":{\"gridcolor\":\"white\",\"linecolor\":\"white\",\"ticks\":\"\"}},\"scene\":{\"xaxis\":{\"backgroundcolor\":\"#E5ECF6\",\"gridcolor\":\"white\",\"gridwidth\":2,\"linecolor\":\"white\",\"showbackground\":true,\"ticks\":\"\",\"zerolinecolor\":\"white\"},\"yaxis\":{\"backgroundcolor\":\"#E5ECF6\",\"gridcolor\":\"white\",\"gridwidth\":2,\"linecolor\":\"white\",\"showbackground\":true,\"ticks\":\"\",\"zerolinecolor\":\"white\"},\"zaxis\":{\"backgroundcolor\":\"#E5ECF6\",\"gridcolor\":\"white\",\"gridwidth\":2,\"linecolor\":\"white\",\"showbackground\":true,\"ticks\":\"\",\"zerolinecolor\":\"white\"}},\"shapedefaults\":{\"line\":{\"color\":\"#2a3f5f\"}},\"ternary\":{\"aaxis\":{\"gridcolor\":\"white\",\"linecolor\":\"white\",\"ticks\":\"\"},\"baxis\":{\"gridcolor\":\"white\",\"linecolor\":\"white\",\"ticks\":\"\"},\"bgcolor\":\"#E5ECF6\",\"caxis\":{\"gridcolor\":\"white\",\"linecolor\":\"white\",\"ticks\":\"\"}},\"title\":{\"x\":0.05},\"xaxis\":{\"automargin\":true,\"gridcolor\":\"white\",\"linecolor\":\"white\",\"ticks\":\"\",\"title\":{\"standoff\":15},\"zerolinecolor\":\"white\",\"zerolinewidth\":2},\"yaxis\":{\"automargin\":true,\"gridcolor\":\"white\",\"linecolor\":\"white\",\"ticks\":\"\",\"title\":{\"standoff\":15},\"zerolinecolor\":\"white\",\"zerolinewidth\":2}}},\"xaxis\":{\"anchor\":\"y\",\"domain\":[0.0,1.0],\"title\":{\"text\":\"x\"}},\"yaxis\":{\"anchor\":\"x\",\"domain\":[0.0,1.0],\"title\":{\"text\":\"count\"}}},                        {\"responsive\": true}                    ).then(function(){\n",
       "                            \n",
       "var gd = document.getElementById('bc876a01-89a8-49b8-8cce-ce19182e8107');\n",
       "var x = new MutationObserver(function (mutations, observer) {{\n",
       "        var display = window.getComputedStyle(gd).display;\n",
       "        if (!display || display === 'none') {{\n",
       "            console.log([gd, 'removed!']);\n",
       "            Plotly.purge(gd);\n",
       "            observer.disconnect();\n",
       "        }}\n",
       "}});\n",
       "\n",
       "// Listen for the removal of the full notebook cells\n",
       "var notebookContainer = gd.closest('#notebook-container');\n",
       "if (notebookContainer) {{\n",
       "    x.observe(notebookContainer, {childList: true});\n",
       "}}\n",
       "\n",
       "// Listen for the clearing of the current output cell\n",
       "var outputEl = gd.closest('.output');\n",
       "if (outputEl) {{\n",
       "    x.observe(outputEl, {childList: true});\n",
       "}}\n",
       "\n",
       "                        })                };                });            </script>        </div>"
      ]
     },
     "metadata": {},
     "output_type": "display_data"
    }
   ],
   "source": [
    "px.histogram(x = y)"
   ]
  },
  {
   "cell_type": "code",
   "execution_count": 64,
   "metadata": {},
   "outputs": [
    {
     "ename": "ValueError",
     "evalue": "Classification metrics can't handle a mix of multiclass and continuous targets",
     "output_type": "error",
     "traceback": [
      "\u001b[1;31m---------------------------------------------------------------------------\u001b[0m",
      "\u001b[1;31mValueError\u001b[0m                                Traceback (most recent call last)",
      "\u001b[1;32m<ipython-input-64-3c9aaf86ba38>\u001b[0m in \u001b[0;36m<module>\u001b[1;34m\u001b[0m\n\u001b[1;32m----> 1\u001b[1;33m \u001b[0mconfusion_matrix\u001b[0m\u001b[1;33m(\u001b[0m\u001b[0my\u001b[0m\u001b[1;33m,\u001b[0m\u001b[0mx\u001b[0m\u001b[1;33m)\u001b[0m\u001b[1;33m\u001b[0m\u001b[1;33m\u001b[0m\u001b[0m\n\u001b[0m",
      "\u001b[1;32m~\\anaconda3\\lib\\site-packages\\sklearn\\utils\\validation.py\u001b[0m in \u001b[0;36minner_f\u001b[1;34m(*args, **kwargs)\u001b[0m\n\u001b[0;32m     61\u001b[0m             \u001b[0mextra_args\u001b[0m \u001b[1;33m=\u001b[0m \u001b[0mlen\u001b[0m\u001b[1;33m(\u001b[0m\u001b[0margs\u001b[0m\u001b[1;33m)\u001b[0m \u001b[1;33m-\u001b[0m \u001b[0mlen\u001b[0m\u001b[1;33m(\u001b[0m\u001b[0mall_args\u001b[0m\u001b[1;33m)\u001b[0m\u001b[1;33m\u001b[0m\u001b[1;33m\u001b[0m\u001b[0m\n\u001b[0;32m     62\u001b[0m             \u001b[1;32mif\u001b[0m \u001b[0mextra_args\u001b[0m \u001b[1;33m<=\u001b[0m \u001b[1;36m0\u001b[0m\u001b[1;33m:\u001b[0m\u001b[1;33m\u001b[0m\u001b[1;33m\u001b[0m\u001b[0m\n\u001b[1;32m---> 63\u001b[1;33m                 \u001b[1;32mreturn\u001b[0m \u001b[0mf\u001b[0m\u001b[1;33m(\u001b[0m\u001b[1;33m*\u001b[0m\u001b[0margs\u001b[0m\u001b[1;33m,\u001b[0m \u001b[1;33m**\u001b[0m\u001b[0mkwargs\u001b[0m\u001b[1;33m)\u001b[0m\u001b[1;33m\u001b[0m\u001b[1;33m\u001b[0m\u001b[0m\n\u001b[0m\u001b[0;32m     64\u001b[0m \u001b[1;33m\u001b[0m\u001b[0m\n\u001b[0;32m     65\u001b[0m             \u001b[1;31m# extra_args > 0\u001b[0m\u001b[1;33m\u001b[0m\u001b[1;33m\u001b[0m\u001b[1;33m\u001b[0m\u001b[0m\n",
      "\u001b[1;32m~\\anaconda3\\lib\\site-packages\\sklearn\\metrics\\_classification.py\u001b[0m in \u001b[0;36mconfusion_matrix\u001b[1;34m(y_true, y_pred, labels, sample_weight, normalize)\u001b[0m\n\u001b[0;32m    297\u001b[0m \u001b[1;33m\u001b[0m\u001b[0m\n\u001b[0;32m    298\u001b[0m     \"\"\"\n\u001b[1;32m--> 299\u001b[1;33m     \u001b[0my_type\u001b[0m\u001b[1;33m,\u001b[0m \u001b[0my_true\u001b[0m\u001b[1;33m,\u001b[0m \u001b[0my_pred\u001b[0m \u001b[1;33m=\u001b[0m \u001b[0m_check_targets\u001b[0m\u001b[1;33m(\u001b[0m\u001b[0my_true\u001b[0m\u001b[1;33m,\u001b[0m \u001b[0my_pred\u001b[0m\u001b[1;33m)\u001b[0m\u001b[1;33m\u001b[0m\u001b[1;33m\u001b[0m\u001b[0m\n\u001b[0m\u001b[0;32m    300\u001b[0m     \u001b[1;32mif\u001b[0m \u001b[0my_type\u001b[0m \u001b[1;32mnot\u001b[0m \u001b[1;32min\u001b[0m \u001b[1;33m(\u001b[0m\u001b[1;34m\"binary\"\u001b[0m\u001b[1;33m,\u001b[0m \u001b[1;34m\"multiclass\"\u001b[0m\u001b[1;33m)\u001b[0m\u001b[1;33m:\u001b[0m\u001b[1;33m\u001b[0m\u001b[1;33m\u001b[0m\u001b[0m\n\u001b[0;32m    301\u001b[0m         \u001b[1;32mraise\u001b[0m \u001b[0mValueError\u001b[0m\u001b[1;33m(\u001b[0m\u001b[1;34m\"%s is not supported\"\u001b[0m \u001b[1;33m%\u001b[0m \u001b[0my_type\u001b[0m\u001b[1;33m)\u001b[0m\u001b[1;33m\u001b[0m\u001b[1;33m\u001b[0m\u001b[0m\n",
      "\u001b[1;32m~\\anaconda3\\lib\\site-packages\\sklearn\\metrics\\_classification.py\u001b[0m in \u001b[0;36m_check_targets\u001b[1;34m(y_true, y_pred)\u001b[0m\n\u001b[0;32m     91\u001b[0m     \u001b[1;32mif\u001b[0m \u001b[0mlen\u001b[0m\u001b[1;33m(\u001b[0m\u001b[0my_type\u001b[0m\u001b[1;33m)\u001b[0m \u001b[1;33m>\u001b[0m \u001b[1;36m1\u001b[0m\u001b[1;33m:\u001b[0m\u001b[1;33m\u001b[0m\u001b[1;33m\u001b[0m\u001b[0m\n\u001b[0;32m     92\u001b[0m         raise ValueError(\"Classification metrics can't handle a mix of {0} \"\n\u001b[1;32m---> 93\u001b[1;33m                          \"and {1} targets\".format(type_true, type_pred))\n\u001b[0m\u001b[0;32m     94\u001b[0m \u001b[1;33m\u001b[0m\u001b[0m\n\u001b[0;32m     95\u001b[0m     \u001b[1;31m# We can't have more than one value on y_type => The set is no more needed\u001b[0m\u001b[1;33m\u001b[0m\u001b[1;33m\u001b[0m\u001b[1;33m\u001b[0m\u001b[0m\n",
      "\u001b[1;31mValueError\u001b[0m: Classification metrics can't handle a mix of multiclass and continuous targets"
     ]
    }
   ],
   "source": [
    "confusion_matrix(y,x)"
   ]
  },
  {
   "cell_type": "code",
   "execution_count": null,
   "metadata": {},
   "outputs": [],
   "source": []
  }
 ],
 "metadata": {
  "kernelspec": {
   "display_name": "Python 3",
   "language": "python",
   "name": "python3"
  },
  "language_info": {
   "codemirror_mode": {
    "name": "ipython",
    "version": 3
   },
   "file_extension": ".py",
   "mimetype": "text/x-python",
   "name": "python",
   "nbconvert_exporter": "python",
   "pygments_lexer": "ipython3",
   "version": "3.7.9"
  }
 },
 "nbformat": 4,
 "nbformat_minor": 4
}
